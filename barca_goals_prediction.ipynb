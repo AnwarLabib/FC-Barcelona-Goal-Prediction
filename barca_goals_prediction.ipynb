{
 "cells": [
  {
   "cell_type": "markdown",
   "metadata": {},
   "source": [
    "# Research Question\n",
    "Our research question is how many goals FC Barcelona is going to score in a certain match providing its date, opponent team, whether it is a home or an away match.\n",
    "\n",
    "# Motivation\n",
    "We chose FC Barcelona because it is a team known for its attacking capabilities and scoring many goals so this will gave us more space to explore. Also FC Barcelona is a team loved by billions aroung the world so many people would be interested in this topic including us. \n",
    "\n",
    "# Questions analysed through the project\n",
    "We first need to analyze the data that is directly related to our research question. The <strong>total number of goals</strong> scored by FC Barcelona, the <strong>number of matches</strong> played, the <strong>mean</strong> and the <strong>standard deviation</strong> of the number of goals scored is represented in a <strong>table</strong> for visualization.\n",
    "\n",
    "The second thing we need to do is to check whether the attributes we picked actually affect the number of goals scored by FC Barcelona. Starting with the <strong>date</strong> attribute, <strong>2 histograms</strong> was used to visualize the average number of goals scored in each year and the total number of goals scored in each year. Next attribute is the <strong>home/away</strong> attribute, <strong>2 histogram</strong> was used to visualize the average number of goals in total home/away matches and the total number of goals scored in total home/away matches. Next attribute is the <strong>opponent team</strong> attribute. 3 <strong>histograms</strong> were used to visualize the average number of goals, min number of goals and max number of goals scored in each opponent team.\n",
    "\n",
    "# Dataset used\n",
    "Please download this dataset https://www.kaggle.com/hugomathien/soccer and name it database.sqlite\n",
    "\n",
    "\n",
    "# Current Form Of Data\n",
    "The data is currently in the following form (The attributes we are interested in): date, home_team_api_id, away_team_api_id, home_team_goal and away_team_goal. Here is a visual example representation:\n",
    "\n",
    "| date                | home_team_api_id | away_team_api_id | home_team_goal | away_team_goal |\n",
    "| :-------------------| :--------------: | :--------------: | :------------: | :------------: |\n",
    "| 2008-08-17 00:00:00 | 9987             | 9993             | 0              | 1              |\n",
    "| 2015-09-23 00:00:00 | 10192            | 9931             | 4              | 3              |\n",
    "\n",
    "where <strong>date</strong> is the date when the match was played  \n",
    "<strong>home_team_api_id</strong> is the team id of the home team. The team_id can be found in the used dataset  \n",
    "<strong>away_team_api_id</strong> is the team id of the away team. The team_id can be found in the used dataset  \n",
    "<strong>home_team_goal</strong> is the number of goals scored by the home team in this match  \n",
    "<strong>away_team_goal</strong> is the number of goals scored by the away team in this match  \n",
    "\n",
    "\n",
    "# Desired Form Of Data\n",
    "The desired form of data should be in the following form: date, opponent team id, barca goals and whether or it is a home or an away match. Here is a visual representation of how the data should look like:\n",
    "\n",
    "| date      | opponent_team_id | barca_goals | home_away |\n",
    "| :---------| :--------------: | :---------: | --------: |\n",
    "\n",
    "where <strong>date</strong> is the desired year minus the min year in the data set  \n",
    "<strong>opponent_team_id</strong> is the team id of the opponent team. The team_id can be found in the used dataset  \n",
    "<strong>barca_goals</strong> is the number of goals scored by FC Barcelona in this match  \n",
    "<strong>home_away</strong> is whether it is a home or an away match where home represents 1 and away represents 0\n",
    "\n",
    "Here is an example of how the data could be represented\n",
    "\n",
    "| date      | opponent_team_id (One Hot Encoded) | barca_goals | home_away |\n",
    "| :---------| :--------------------------------: | :---------: | --------: |\n",
    "| 0         | (0 or 1 based on one hot encoding) | 6           | 0         |\n",
    "| 8         | (0 or 1 based on one hot encoding) | 3           | 1         |"
   ]
  },
  {
   "cell_type": "code",
   "execution_count": 7,
   "metadata": {},
   "outputs": [],
   "source": [
    "import pandas as pd\n",
    "import matplotlib.pyplot as plt\n",
    "import numpy as np\n",
    "import sqlite3\n",
    "\n",
    "database = sqlite3.connect(\"database.sqlite\");"
   ]
  },
  {
   "cell_type": "markdown",
   "metadata": {},
   "source": [
    "# Get FC Barcelona's team_api_id\n",
    "In order to get the matches where FC Barcelona was involved in we need its team_api_id.  \n",
    "The table which is named <strong>team</strong> is the table we are going to use to get the team_api_id. Here is a visual example representation (Only the attributes we are interested in):\n",
    "\n",
    "| team_api_id | team_long_name |\n",
    "| :---------- | -------------: |\n",
    "| 8634        | FC Barcelona   |\n",
    "\n",
    "What we are going to do is we are going to select the teams where their team_long_name is FC Barcelona (Only FC Barcelona will be returned) then we are going to get its team_api_id\n"
   ]
  },
  {
   "cell_type": "code",
   "execution_count": 8,
   "metadata": {},
   "outputs": [
    {
     "data": {
      "text/plain": [
       "8634"
      ]
     },
     "execution_count": 8,
     "metadata": {},
     "output_type": "execute_result"
    }
   ],
   "source": [
    "# Get the team_api_id of FC Barcelona\n",
    "barca_df = pd.read_sql_query(\"SELECT * from team where team_long_name='FC Barcelona'\", database)\n",
    "barca_api_id = barca_df.team_api_id[0]\n",
    "\n",
    "barca_api_id"
   ]
  },
  {
   "cell_type": "markdown",
   "metadata": {},
   "source": [
    "# Select only the attributes related to our research problem\n",
    "\n",
    "We are going to reach the desired form of data by getting the home and away matches alone and then concatenating them at the end.\n",
    "\n",
    "For the home matches we are going to get the <strong>date</strong>, <strong>away_team_api_id</strong> (which represents the opponent team so we are going to rename it as opponnent_team_id) and <strong>home_team_goal</strong> (which represents the number of goals FC Barcelona scored in the match so we are going to rename it as barca_goals).\n",
    "\n",
    "For the away matches we are going to get the <strong>date</strong>, <strong>home_team_api_id</strong> (which represents the opponent team so we are going to rename it as opponnent_team_id) and <strong>away_team_goal</strong> (which represents the number of goals FC Barcelona scored in the match so we are going to rename it as barca_goals).\n",
    "\n",
    "Using the where clause in SQL and barca_api_id we can get the home and away matches for FC Barcelona by searching the home_team_api_id and away_team_api_id."
   ]
  },
  {
   "cell_type": "code",
   "execution_count": 9,
   "metadata": {},
   "outputs": [],
   "source": [
    "## Select only the attributee relevant to our research question\n",
    "\n",
    "# Concerning the matches where FC Barcelona was the home team, we need the date, and the away team (opponent)\n",
    "# and the number of goals the home team (FC Barcelona) scored\n",
    "home_select_clause = \"date, away_team_api_id as 'opponent_team_id', home_team_goal as 'barca_goals'\"\n",
    "\n",
    "# Concerning the matches where FC Barcelona was the away team, we need the date, and the home team (opponent)\n",
    "# and the number of goals the away team (FC Barcelona) scored\n",
    "away_select_clause = \"date, home_team_api_id as 'opponent_team_id', away_team_goal as 'barca_goals'\"\n",
    "\n",
    "# Select only the matches that FC Barcelona involved in as the home team and the away team seperately\n",
    "home_where_clause = \"home_team_api_id=\" + str(barca_api_id)\n",
    "away_where_clause = \"away_team_api_id=\" + str(barca_api_id)"
   ]
  },
  {
   "cell_type": "markdown",
   "metadata": {},
   "source": [
    "# Putting things together\n",
    "\n",
    "Using the <strong>SELECT</strong> and <strong>WHERE</strong> clauses we can obtain the home and away matches "
   ]
  },
  {
   "cell_type": "code",
   "execution_count": 10,
   "metadata": {},
   "outputs": [
    {
     "data": {
      "text/html": [
       "<div>\n",
       "<style scoped>\n",
       "    .dataframe tbody tr th:only-of-type {\n",
       "        vertical-align: middle;\n",
       "    }\n",
       "\n",
       "    .dataframe tbody tr th {\n",
       "        vertical-align: top;\n",
       "    }\n",
       "\n",
       "    .dataframe thead th {\n",
       "        text-align: right;\n",
       "    }\n",
       "</style>\n",
       "<table border=\"1\" class=\"dataframe\">\n",
       "  <thead>\n",
       "    <tr style=\"text-align: right;\">\n",
       "      <th></th>\n",
       "      <th>date</th>\n",
       "      <th>opponent_team_id</th>\n",
       "      <th>barca_goals</th>\n",
       "    </tr>\n",
       "  </thead>\n",
       "  <tbody>\n",
       "    <tr>\n",
       "      <th>0</th>\n",
       "      <td>2008-11-08 00:00:00</td>\n",
       "      <td>10281</td>\n",
       "      <td>6</td>\n",
       "    </tr>\n",
       "    <tr>\n",
       "      <th>1</th>\n",
       "      <td>2008-11-23 00:00:00</td>\n",
       "      <td>8305</td>\n",
       "      <td>1</td>\n",
       "    </tr>\n",
       "    <tr>\n",
       "      <th>2</th>\n",
       "      <td>2008-12-06 00:00:00</td>\n",
       "      <td>10267</td>\n",
       "      <td>4</td>\n",
       "    </tr>\n",
       "    <tr>\n",
       "      <th>3</th>\n",
       "      <td>2008-12-13 00:00:00</td>\n",
       "      <td>8633</td>\n",
       "      <td>2</td>\n",
       "    </tr>\n",
       "    <tr>\n",
       "      <th>4</th>\n",
       "      <td>2009-01-03 00:00:00</td>\n",
       "      <td>8661</td>\n",
       "      <td>3</td>\n",
       "    </tr>\n",
       "  </tbody>\n",
       "</table>\n",
       "</div>"
      ],
      "text/plain": [
       "                  date  opponent_team_id  barca_goals\n",
       "0  2008-11-08 00:00:00             10281            6\n",
       "1  2008-11-23 00:00:00              8305            1\n",
       "2  2008-12-06 00:00:00             10267            4\n",
       "3  2008-12-13 00:00:00              8633            2\n",
       "4  2009-01-03 00:00:00              8661            3"
      ]
     },
     "execution_count": 10,
     "metadata": {},
     "output_type": "execute_result"
    }
   ],
   "source": [
    "# return the home matches of FC Barcelona\n",
    "home_matches_df = pd.read_sql_query(\"SELECT \" + str(home_select_clause) +\" from match where \" + str(home_where_clause), database)\n",
    "home_matches_df.head()"
   ]
  },
  {
   "cell_type": "code",
   "execution_count": 11,
   "metadata": {},
   "outputs": [
    {
     "data": {
      "text/html": [
       "<div>\n",
       "<style scoped>\n",
       "    .dataframe tbody tr th:only-of-type {\n",
       "        vertical-align: middle;\n",
       "    }\n",
       "\n",
       "    .dataframe tbody tr th {\n",
       "        vertical-align: top;\n",
       "    }\n",
       "\n",
       "    .dataframe thead th {\n",
       "        text-align: right;\n",
       "    }\n",
       "</style>\n",
       "<table border=\"1\" class=\"dataframe\">\n",
       "  <thead>\n",
       "    <tr style=\"text-align: right;\">\n",
       "      <th></th>\n",
       "      <th>date</th>\n",
       "      <th>opponent_team_id</th>\n",
       "      <th>barca_goals</th>\n",
       "    </tr>\n",
       "  </thead>\n",
       "  <tbody>\n",
       "    <tr>\n",
       "      <th>0</th>\n",
       "      <td>2008-08-31 00:00:00</td>\n",
       "      <td>8388</td>\n",
       "      <td>0</td>\n",
       "    </tr>\n",
       "    <tr>\n",
       "      <th>1</th>\n",
       "      <td>2008-11-16 00:00:00</td>\n",
       "      <td>8479</td>\n",
       "      <td>2</td>\n",
       "    </tr>\n",
       "    <tr>\n",
       "      <th>2</th>\n",
       "      <td>2008-11-29 00:00:00</td>\n",
       "      <td>8302</td>\n",
       "      <td>3</td>\n",
       "    </tr>\n",
       "    <tr>\n",
       "      <th>3</th>\n",
       "      <td>2008-12-21 00:00:00</td>\n",
       "      <td>10205</td>\n",
       "      <td>2</td>\n",
       "    </tr>\n",
       "    <tr>\n",
       "      <th>4</th>\n",
       "      <td>2009-01-11 00:00:00</td>\n",
       "      <td>8371</td>\n",
       "      <td>3</td>\n",
       "    </tr>\n",
       "  </tbody>\n",
       "</table>\n",
       "</div>"
      ],
      "text/plain": [
       "                  date  opponent_team_id  barca_goals\n",
       "0  2008-08-31 00:00:00              8388            0\n",
       "1  2008-11-16 00:00:00              8479            2\n",
       "2  2008-11-29 00:00:00              8302            3\n",
       "3  2008-12-21 00:00:00             10205            2\n",
       "4  2009-01-11 00:00:00              8371            3"
      ]
     },
     "execution_count": 11,
     "metadata": {},
     "output_type": "execute_result"
    }
   ],
   "source": [
    "# return the home matches of FC Barcelona\n",
    "away_matches_df = pd.read_sql_query(\"SELECT \" + str(away_select_clause) +\" from match where \" + str(away_where_clause), database)\n",
    "away_matches_df.head()"
   ]
  },
  {
   "cell_type": "markdown",
   "metadata": {},
   "source": [
    "# Set the home_away attribute\n",
    "Set the home_away attribute for the home and away dataframes where the home dataframe gets a value of 1 and the away dataframe gets a value of 0"
   ]
  },
  {
   "cell_type": "code",
   "execution_count": 12,
   "metadata": {},
   "outputs": [
    {
     "data": {
      "text/html": [
       "<div>\n",
       "<style scoped>\n",
       "    .dataframe tbody tr th:only-of-type {\n",
       "        vertical-align: middle;\n",
       "    }\n",
       "\n",
       "    .dataframe tbody tr th {\n",
       "        vertical-align: top;\n",
       "    }\n",
       "\n",
       "    .dataframe thead th {\n",
       "        text-align: right;\n",
       "    }\n",
       "</style>\n",
       "<table border=\"1\" class=\"dataframe\">\n",
       "  <thead>\n",
       "    <tr style=\"text-align: right;\">\n",
       "      <th></th>\n",
       "      <th>date</th>\n",
       "      <th>opponent_team_id</th>\n",
       "      <th>barca_goals</th>\n",
       "      <th>home_away</th>\n",
       "    </tr>\n",
       "  </thead>\n",
       "  <tbody>\n",
       "    <tr>\n",
       "      <th>0</th>\n",
       "      <td>2008-11-08 00:00:00</td>\n",
       "      <td>10281</td>\n",
       "      <td>6</td>\n",
       "      <td>1</td>\n",
       "    </tr>\n",
       "    <tr>\n",
       "      <th>1</th>\n",
       "      <td>2008-11-23 00:00:00</td>\n",
       "      <td>8305</td>\n",
       "      <td>1</td>\n",
       "      <td>1</td>\n",
       "    </tr>\n",
       "    <tr>\n",
       "      <th>2</th>\n",
       "      <td>2008-12-06 00:00:00</td>\n",
       "      <td>10267</td>\n",
       "      <td>4</td>\n",
       "      <td>1</td>\n",
       "    </tr>\n",
       "    <tr>\n",
       "      <th>3</th>\n",
       "      <td>2008-12-13 00:00:00</td>\n",
       "      <td>8633</td>\n",
       "      <td>2</td>\n",
       "      <td>1</td>\n",
       "    </tr>\n",
       "    <tr>\n",
       "      <th>4</th>\n",
       "      <td>2009-01-03 00:00:00</td>\n",
       "      <td>8661</td>\n",
       "      <td>3</td>\n",
       "      <td>1</td>\n",
       "    </tr>\n",
       "  </tbody>\n",
       "</table>\n",
       "</div>"
      ],
      "text/plain": [
       "                  date  opponent_team_id  barca_goals  home_away\n",
       "0  2008-11-08 00:00:00             10281            6          1\n",
       "1  2008-11-23 00:00:00              8305            1          1\n",
       "2  2008-12-06 00:00:00             10267            4          1\n",
       "3  2008-12-13 00:00:00              8633            2          1\n",
       "4  2009-01-03 00:00:00              8661            3          1"
      ]
     },
     "execution_count": 12,
     "metadata": {},
     "output_type": "execute_result"
    }
   ],
   "source": [
    "# Create a new attribute named home_away where 0 is home and 1 is away and apply it on our two data frames\n",
    "home_matches_df['home_away'] = 1\n",
    "home_matches_df.head()"
   ]
  },
  {
   "cell_type": "code",
   "execution_count": 13,
   "metadata": {},
   "outputs": [
    {
     "data": {
      "text/html": [
       "<div>\n",
       "<style scoped>\n",
       "    .dataframe tbody tr th:only-of-type {\n",
       "        vertical-align: middle;\n",
       "    }\n",
       "\n",
       "    .dataframe tbody tr th {\n",
       "        vertical-align: top;\n",
       "    }\n",
       "\n",
       "    .dataframe thead th {\n",
       "        text-align: right;\n",
       "    }\n",
       "</style>\n",
       "<table border=\"1\" class=\"dataframe\">\n",
       "  <thead>\n",
       "    <tr style=\"text-align: right;\">\n",
       "      <th></th>\n",
       "      <th>date</th>\n",
       "      <th>opponent_team_id</th>\n",
       "      <th>barca_goals</th>\n",
       "      <th>home_away</th>\n",
       "    </tr>\n",
       "  </thead>\n",
       "  <tbody>\n",
       "    <tr>\n",
       "      <th>0</th>\n",
       "      <td>2008-08-31 00:00:00</td>\n",
       "      <td>8388</td>\n",
       "      <td>0</td>\n",
       "      <td>0</td>\n",
       "    </tr>\n",
       "    <tr>\n",
       "      <th>1</th>\n",
       "      <td>2008-11-16 00:00:00</td>\n",
       "      <td>8479</td>\n",
       "      <td>2</td>\n",
       "      <td>0</td>\n",
       "    </tr>\n",
       "    <tr>\n",
       "      <th>2</th>\n",
       "      <td>2008-11-29 00:00:00</td>\n",
       "      <td>8302</td>\n",
       "      <td>3</td>\n",
       "      <td>0</td>\n",
       "    </tr>\n",
       "    <tr>\n",
       "      <th>3</th>\n",
       "      <td>2008-12-21 00:00:00</td>\n",
       "      <td>10205</td>\n",
       "      <td>2</td>\n",
       "      <td>0</td>\n",
       "    </tr>\n",
       "    <tr>\n",
       "      <th>4</th>\n",
       "      <td>2009-01-11 00:00:00</td>\n",
       "      <td>8371</td>\n",
       "      <td>3</td>\n",
       "      <td>0</td>\n",
       "    </tr>\n",
       "  </tbody>\n",
       "</table>\n",
       "</div>"
      ],
      "text/plain": [
       "                  date  opponent_team_id  barca_goals  home_away\n",
       "0  2008-08-31 00:00:00              8388            0          0\n",
       "1  2008-11-16 00:00:00              8479            2          0\n",
       "2  2008-11-29 00:00:00              8302            3          0\n",
       "3  2008-12-21 00:00:00             10205            2          0\n",
       "4  2009-01-11 00:00:00              8371            3          0"
      ]
     },
     "execution_count": 13,
     "metadata": {},
     "output_type": "execute_result"
    }
   ],
   "source": [
    "away_matches_df['home_away'] = 0\n",
    "away_matches_df.head()"
   ]
  },
  {
   "cell_type": "markdown",
   "metadata": {},
   "source": [
    "# Get minimum year in the dataset\n",
    "\n",
    "In order to reach the desired form of data we need to get the minimum year in the dataset so that we can use it to manipulate the date attribute as described above. We are going to do that by returning all the dates from the dataset. We will then manipulate the it by getting the year only from date attribute. The date attribute is in the following form yyyy-mm-dd hh:mm:ss so we are going to extract the year by getting the first integer in the date attribute which is the yyyy. Then we are going to convert the string to a float and then to an integer. After we obtain the years in an integer form we can then get the minimum year."
   ]
  },
  {
   "cell_type": "code",
   "execution_count": 14,
   "metadata": {},
   "outputs": [
    {
     "data": {
      "text/html": [
       "<div>\n",
       "<style scoped>\n",
       "    .dataframe tbody tr th:only-of-type {\n",
       "        vertical-align: middle;\n",
       "    }\n",
       "\n",
       "    .dataframe tbody tr th {\n",
       "        vertical-align: top;\n",
       "    }\n",
       "\n",
       "    .dataframe thead th {\n",
       "        text-align: right;\n",
       "    }\n",
       "</style>\n",
       "<table border=\"1\" class=\"dataframe\">\n",
       "  <thead>\n",
       "    <tr style=\"text-align: right;\">\n",
       "      <th></th>\n",
       "      <th>date</th>\n",
       "    </tr>\n",
       "  </thead>\n",
       "  <tbody>\n",
       "    <tr>\n",
       "      <th>0</th>\n",
       "      <td>2008-08-17 00:00:00</td>\n",
       "    </tr>\n",
       "    <tr>\n",
       "      <th>1</th>\n",
       "      <td>2008-08-16 00:00:00</td>\n",
       "    </tr>\n",
       "    <tr>\n",
       "      <th>2</th>\n",
       "      <td>2008-08-16 00:00:00</td>\n",
       "    </tr>\n",
       "    <tr>\n",
       "      <th>3</th>\n",
       "      <td>2008-08-17 00:00:00</td>\n",
       "    </tr>\n",
       "    <tr>\n",
       "      <th>4</th>\n",
       "      <td>2008-08-16 00:00:00</td>\n",
       "    </tr>\n",
       "  </tbody>\n",
       "</table>\n",
       "</div>"
      ],
      "text/plain": [
       "                  date\n",
       "0  2008-08-17 00:00:00\n",
       "1  2008-08-16 00:00:00\n",
       "2  2008-08-16 00:00:00\n",
       "3  2008-08-17 00:00:00\n",
       "4  2008-08-16 00:00:00"
      ]
     },
     "execution_count": 14,
     "metadata": {},
     "output_type": "execute_result"
    }
   ],
   "source": [
    "# Get all the dates from the database\n",
    "date_df = pd.read_sql_query(\"SELECT date from match\", database)\n",
    "date_df.head()"
   ]
  },
  {
   "cell_type": "code",
   "execution_count": 15,
   "metadata": {},
   "outputs": [
    {
     "data": {
      "text/html": [
       "<div>\n",
       "<style scoped>\n",
       "    .dataframe tbody tr th:only-of-type {\n",
       "        vertical-align: middle;\n",
       "    }\n",
       "\n",
       "    .dataframe tbody tr th {\n",
       "        vertical-align: top;\n",
       "    }\n",
       "\n",
       "    .dataframe thead th {\n",
       "        text-align: right;\n",
       "    }\n",
       "</style>\n",
       "<table border=\"1\" class=\"dataframe\">\n",
       "  <thead>\n",
       "    <tr style=\"text-align: right;\">\n",
       "      <th></th>\n",
       "      <th>date</th>\n",
       "    </tr>\n",
       "  </thead>\n",
       "  <tbody>\n",
       "    <tr>\n",
       "      <th>0</th>\n",
       "      <td>2008</td>\n",
       "    </tr>\n",
       "    <tr>\n",
       "      <th>1</th>\n",
       "      <td>2008</td>\n",
       "    </tr>\n",
       "    <tr>\n",
       "      <th>2</th>\n",
       "      <td>2008</td>\n",
       "    </tr>\n",
       "    <tr>\n",
       "      <th>3</th>\n",
       "      <td>2008</td>\n",
       "    </tr>\n",
       "    <tr>\n",
       "      <th>4</th>\n",
       "      <td>2008</td>\n",
       "    </tr>\n",
       "  </tbody>\n",
       "</table>\n",
       "</div>"
      ],
      "text/plain": [
       "   date\n",
       "0  2008\n",
       "1  2008\n",
       "2  2008\n",
       "3  2008\n",
       "4  2008"
      ]
     },
     "execution_count": 15,
     "metadata": {},
     "output_type": "execute_result"
    }
   ],
   "source": [
    "# Extracting the year from the date attribute\n",
    "date_df[\"date\"] = date_df[\"date\"].str.extract('(\\d+)', expand=False).astype(float).astype(int)\n",
    "date_df.head()"
   ]
  },
  {
   "cell_type": "code",
   "execution_count": 16,
   "metadata": {},
   "outputs": [
    {
     "data": {
      "text/plain": [
       "2008"
      ]
     },
     "execution_count": 16,
     "metadata": {},
     "output_type": "execute_result"
    }
   ],
   "source": [
    "# Obtaining the min year\n",
    "min_year = date_df[\"date\"].min()\n",
    "min_year"
   ]
  },
  {
   "cell_type": "markdown",
   "metadata": {},
   "source": [
    "# Manipulate date attribute\n",
    "\n",
    "After obtaining the min year, we can use it to manipulate the date attribute by subtracting every year by the min year obtained"
   ]
  },
  {
   "cell_type": "code",
   "execution_count": 17,
   "metadata": {},
   "outputs": [
    {
     "data": {
      "text/html": [
       "<div>\n",
       "<style scoped>\n",
       "    .dataframe tbody tr th:only-of-type {\n",
       "        vertical-align: middle;\n",
       "    }\n",
       "\n",
       "    .dataframe tbody tr th {\n",
       "        vertical-align: top;\n",
       "    }\n",
       "\n",
       "    .dataframe thead th {\n",
       "        text-align: right;\n",
       "    }\n",
       "</style>\n",
       "<table border=\"1\" class=\"dataframe\">\n",
       "  <thead>\n",
       "    <tr style=\"text-align: right;\">\n",
       "      <th></th>\n",
       "      <th>date</th>\n",
       "      <th>opponent_team_id</th>\n",
       "      <th>barca_goals</th>\n",
       "      <th>home_away</th>\n",
       "    </tr>\n",
       "  </thead>\n",
       "  <tbody>\n",
       "    <tr>\n",
       "      <th>0</th>\n",
       "      <td>0</td>\n",
       "      <td>10281</td>\n",
       "      <td>6</td>\n",
       "      <td>1</td>\n",
       "    </tr>\n",
       "    <tr>\n",
       "      <th>1</th>\n",
       "      <td>0</td>\n",
       "      <td>8305</td>\n",
       "      <td>1</td>\n",
       "      <td>1</td>\n",
       "    </tr>\n",
       "    <tr>\n",
       "      <th>2</th>\n",
       "      <td>0</td>\n",
       "      <td>10267</td>\n",
       "      <td>4</td>\n",
       "      <td>1</td>\n",
       "    </tr>\n",
       "    <tr>\n",
       "      <th>3</th>\n",
       "      <td>0</td>\n",
       "      <td>8633</td>\n",
       "      <td>2</td>\n",
       "      <td>1</td>\n",
       "    </tr>\n",
       "    <tr>\n",
       "      <th>4</th>\n",
       "      <td>1</td>\n",
       "      <td>8661</td>\n",
       "      <td>3</td>\n",
       "      <td>1</td>\n",
       "    </tr>\n",
       "  </tbody>\n",
       "</table>\n",
       "</div>"
      ],
      "text/plain": [
       "   date  opponent_team_id  barca_goals  home_away\n",
       "0     0             10281            6          1\n",
       "1     0              8305            1          1\n",
       "2     0             10267            4          1\n",
       "3     0              8633            2          1\n",
       "4     1              8661            3          1"
      ]
     },
     "execution_count": 17,
     "metadata": {},
     "output_type": "execute_result"
    }
   ],
   "source": [
    "# maniuplate the date attribute\n",
    "home_matches_df[\"date\"] = home_matches_df[\"date\"].str.extract('(\\d+)', expand=False).astype(float).astype(int) - min_year\n",
    "away_matches_df[\"date\"] = away_matches_df[\"date\"].str.extract('(\\d+)', expand=False).astype(float).astype(int) - min_year\n",
    "\n",
    "home_matches_df.head()"
   ]
  },
  {
   "cell_type": "markdown",
   "metadata": {},
   "source": [
    "# Concatenate home and away matches"
   ]
  },
  {
   "cell_type": "code",
   "execution_count": 18,
   "metadata": {},
   "outputs": [
    {
     "data": {
      "text/html": [
       "<div>\n",
       "<style scoped>\n",
       "    .dataframe tbody tr th:only-of-type {\n",
       "        vertical-align: middle;\n",
       "    }\n",
       "\n",
       "    .dataframe tbody tr th {\n",
       "        vertical-align: top;\n",
       "    }\n",
       "\n",
       "    .dataframe thead th {\n",
       "        text-align: right;\n",
       "    }\n",
       "</style>\n",
       "<table border=\"1\" class=\"dataframe\">\n",
       "  <thead>\n",
       "    <tr style=\"text-align: right;\">\n",
       "      <th></th>\n",
       "      <th>date</th>\n",
       "      <th>opponent_team_id</th>\n",
       "      <th>barca_goals</th>\n",
       "      <th>home_away</th>\n",
       "    </tr>\n",
       "  </thead>\n",
       "  <tbody>\n",
       "    <tr>\n",
       "      <th>0</th>\n",
       "      <td>0</td>\n",
       "      <td>10281</td>\n",
       "      <td>6</td>\n",
       "      <td>1</td>\n",
       "    </tr>\n",
       "    <tr>\n",
       "      <th>1</th>\n",
       "      <td>0</td>\n",
       "      <td>8305</td>\n",
       "      <td>1</td>\n",
       "      <td>1</td>\n",
       "    </tr>\n",
       "    <tr>\n",
       "      <th>2</th>\n",
       "      <td>0</td>\n",
       "      <td>10267</td>\n",
       "      <td>4</td>\n",
       "      <td>1</td>\n",
       "    </tr>\n",
       "    <tr>\n",
       "      <th>3</th>\n",
       "      <td>0</td>\n",
       "      <td>8633</td>\n",
       "      <td>2</td>\n",
       "      <td>1</td>\n",
       "    </tr>\n",
       "    <tr>\n",
       "      <th>4</th>\n",
       "      <td>1</td>\n",
       "      <td>8661</td>\n",
       "      <td>3</td>\n",
       "      <td>1</td>\n",
       "    </tr>\n",
       "  </tbody>\n",
       "</table>\n",
       "</div>"
      ],
      "text/plain": [
       "   date  opponent_team_id  barca_goals  home_away\n",
       "0     0             10281            6          1\n",
       "1     0              8305            1          1\n",
       "2     0             10267            4          1\n",
       "3     0              8633            2          1\n",
       "4     1              8661            3          1"
      ]
     },
     "execution_count": 18,
     "metadata": {},
     "output_type": "execute_result"
    }
   ],
   "source": [
    "# Concatenate home and away matches\n",
    "all_matches_df = pd.concat([home_matches_df, away_matches_df])\n",
    "\n",
    "all_matches_df.head()"
   ]
  },
  {
   "cell_type": "markdown",
   "metadata": {},
   "source": [
    "# We have to make sure there are no null values\n",
    "\n",
    "Luckily, there are not any missing values in our dataset."
   ]
  },
  {
   "cell_type": "code",
   "execution_count": 19,
   "metadata": {},
   "outputs": [
    {
     "name": "stdout",
     "output_type": "stream",
     "text": [
      "date                0\n",
      "opponent_team_id    0\n",
      "barca_goals         0\n",
      "home_away           0\n",
      "dtype: int64\n"
     ]
    }
   ],
   "source": [
    "print(all_matches_df.isnull().sum());"
   ]
  },
  {
   "cell_type": "markdown",
   "metadata": {},
   "source": [
    "# One hot encoding for Opponent team ids.\n",
    "\n",
    "The fact that teams ids are presented using numbers can give the machine learning model a false indication of a correlation between the number's value and the prediction. Therefore, it's safer to one hot encode.\n",
    "\n",
    "Find below an encoded version of the opponent team id"
   ]
  },
  {
   "cell_type": "code",
   "execution_count": 20,
   "metadata": {},
   "outputs": [
    {
     "data": {
      "text/html": [
       "<div>\n",
       "<style scoped>\n",
       "    .dataframe tbody tr th:only-of-type {\n",
       "        vertical-align: middle;\n",
       "    }\n",
       "\n",
       "    .dataframe tbody tr th {\n",
       "        vertical-align: top;\n",
       "    }\n",
       "\n",
       "    .dataframe thead th {\n",
       "        text-align: right;\n",
       "    }\n",
       "</style>\n",
       "<table border=\"1\" class=\"dataframe\">\n",
       "  <thead>\n",
       "    <tr style=\"text-align: right;\">\n",
       "      <th></th>\n",
       "      <th>opponent_team_id_10281</th>\n",
       "      <th>opponent_team_id_8305</th>\n",
       "      <th>opponent_team_id_10267</th>\n",
       "      <th>opponent_team_id_8633</th>\n",
       "      <th>opponent_team_id_8661</th>\n",
       "      <th>opponent_team_id_9783</th>\n",
       "      <th>opponent_team_id_8696</th>\n",
       "      <th>opponent_team_id_8388</th>\n",
       "      <th>opponent_team_id_9869</th>\n",
       "      <th>opponent_team_id_8558</th>\n",
       "      <th>...</th>\n",
       "      <th>opponent_team_id_8560</th>\n",
       "      <th>opponent_team_id_8581</th>\n",
       "      <th>opponent_team_id_10278</th>\n",
       "      <th>opponent_team_id_8370</th>\n",
       "      <th>opponent_team_id_7878</th>\n",
       "      <th>opponent_team_id_9910</th>\n",
       "      <th>opponent_team_id_10268</th>\n",
       "      <th>opponent_team_id_7869</th>\n",
       "      <th>opponent_team_id_8372</th>\n",
       "      <th>opponent_team_id_8306</th>\n",
       "    </tr>\n",
       "  </thead>\n",
       "  <tbody>\n",
       "    <tr>\n",
       "      <th>0</th>\n",
       "      <td>1</td>\n",
       "      <td>0</td>\n",
       "      <td>0</td>\n",
       "      <td>0</td>\n",
       "      <td>0</td>\n",
       "      <td>0</td>\n",
       "      <td>0</td>\n",
       "      <td>0</td>\n",
       "      <td>0</td>\n",
       "      <td>0</td>\n",
       "      <td>...</td>\n",
       "      <td>0</td>\n",
       "      <td>0</td>\n",
       "      <td>0</td>\n",
       "      <td>0</td>\n",
       "      <td>0</td>\n",
       "      <td>0</td>\n",
       "      <td>0</td>\n",
       "      <td>0</td>\n",
       "      <td>0</td>\n",
       "      <td>0</td>\n",
       "    </tr>\n",
       "    <tr>\n",
       "      <th>1</th>\n",
       "      <td>0</td>\n",
       "      <td>1</td>\n",
       "      <td>0</td>\n",
       "      <td>0</td>\n",
       "      <td>0</td>\n",
       "      <td>0</td>\n",
       "      <td>0</td>\n",
       "      <td>0</td>\n",
       "      <td>0</td>\n",
       "      <td>0</td>\n",
       "      <td>...</td>\n",
       "      <td>0</td>\n",
       "      <td>0</td>\n",
       "      <td>0</td>\n",
       "      <td>0</td>\n",
       "      <td>0</td>\n",
       "      <td>0</td>\n",
       "      <td>0</td>\n",
       "      <td>0</td>\n",
       "      <td>0</td>\n",
       "      <td>0</td>\n",
       "    </tr>\n",
       "    <tr>\n",
       "      <th>2</th>\n",
       "      <td>0</td>\n",
       "      <td>0</td>\n",
       "      <td>1</td>\n",
       "      <td>0</td>\n",
       "      <td>0</td>\n",
       "      <td>0</td>\n",
       "      <td>0</td>\n",
       "      <td>0</td>\n",
       "      <td>0</td>\n",
       "      <td>0</td>\n",
       "      <td>...</td>\n",
       "      <td>0</td>\n",
       "      <td>0</td>\n",
       "      <td>0</td>\n",
       "      <td>0</td>\n",
       "      <td>0</td>\n",
       "      <td>0</td>\n",
       "      <td>0</td>\n",
       "      <td>0</td>\n",
       "      <td>0</td>\n",
       "      <td>0</td>\n",
       "    </tr>\n",
       "    <tr>\n",
       "      <th>3</th>\n",
       "      <td>0</td>\n",
       "      <td>0</td>\n",
       "      <td>0</td>\n",
       "      <td>1</td>\n",
       "      <td>0</td>\n",
       "      <td>0</td>\n",
       "      <td>0</td>\n",
       "      <td>0</td>\n",
       "      <td>0</td>\n",
       "      <td>0</td>\n",
       "      <td>...</td>\n",
       "      <td>0</td>\n",
       "      <td>0</td>\n",
       "      <td>0</td>\n",
       "      <td>0</td>\n",
       "      <td>0</td>\n",
       "      <td>0</td>\n",
       "      <td>0</td>\n",
       "      <td>0</td>\n",
       "      <td>0</td>\n",
       "      <td>0</td>\n",
       "    </tr>\n",
       "    <tr>\n",
       "      <th>4</th>\n",
       "      <td>0</td>\n",
       "      <td>0</td>\n",
       "      <td>0</td>\n",
       "      <td>0</td>\n",
       "      <td>1</td>\n",
       "      <td>0</td>\n",
       "      <td>0</td>\n",
       "      <td>0</td>\n",
       "      <td>0</td>\n",
       "      <td>0</td>\n",
       "      <td>...</td>\n",
       "      <td>0</td>\n",
       "      <td>0</td>\n",
       "      <td>0</td>\n",
       "      <td>0</td>\n",
       "      <td>0</td>\n",
       "      <td>0</td>\n",
       "      <td>0</td>\n",
       "      <td>0</td>\n",
       "      <td>0</td>\n",
       "      <td>0</td>\n",
       "    </tr>\n",
       "  </tbody>\n",
       "</table>\n",
       "<p>5 rows × 32 columns</p>\n",
       "</div>"
      ],
      "text/plain": [
       "   opponent_team_id_10281  opponent_team_id_8305  opponent_team_id_10267  \\\n",
       "0                       1                      0                       0   \n",
       "1                       0                      1                       0   \n",
       "2                       0                      0                       1   \n",
       "3                       0                      0                       0   \n",
       "4                       0                      0                       0   \n",
       "\n",
       "   opponent_team_id_8633  opponent_team_id_8661  opponent_team_id_9783  \\\n",
       "0                      0                      0                      0   \n",
       "1                      0                      0                      0   \n",
       "2                      0                      0                      0   \n",
       "3                      1                      0                      0   \n",
       "4                      0                      1                      0   \n",
       "\n",
       "   opponent_team_id_8696  opponent_team_id_8388  opponent_team_id_9869  \\\n",
       "0                      0                      0                      0   \n",
       "1                      0                      0                      0   \n",
       "2                      0                      0                      0   \n",
       "3                      0                      0                      0   \n",
       "4                      0                      0                      0   \n",
       "\n",
       "   opponent_team_id_8558  ...  opponent_team_id_8560  opponent_team_id_8581  \\\n",
       "0                      0  ...                      0                      0   \n",
       "1                      0  ...                      0                      0   \n",
       "2                      0  ...                      0                      0   \n",
       "3                      0  ...                      0                      0   \n",
       "4                      0  ...                      0                      0   \n",
       "\n",
       "   opponent_team_id_10278  opponent_team_id_8370  opponent_team_id_7878  \\\n",
       "0                       0                      0                      0   \n",
       "1                       0                      0                      0   \n",
       "2                       0                      0                      0   \n",
       "3                       0                      0                      0   \n",
       "4                       0                      0                      0   \n",
       "\n",
       "   opponent_team_id_9910  opponent_team_id_10268  opponent_team_id_7869  \\\n",
       "0                      0                       0                      0   \n",
       "1                      0                       0                      0   \n",
       "2                      0                       0                      0   \n",
       "3                      0                       0                      0   \n",
       "4                      0                       0                      0   \n",
       "\n",
       "   opponent_team_id_8372  opponent_team_id_8306  \n",
       "0                      0                      0  \n",
       "1                      0                      0  \n",
       "2                      0                      0  \n",
       "3                      0                      0  \n",
       "4                      0                      0  \n",
       "\n",
       "[5 rows x 32 columns]"
      ]
     },
     "execution_count": 20,
     "metadata": {},
     "output_type": "execute_result"
    }
   ],
   "source": [
    "from feature_engine.categorical_encoders import OneHotCategoricalEncoder\n",
    "import re\n",
    "\n",
    "# initialize the one hot encoder\n",
    "one_hot_encoder = OneHotCategoricalEncoder()\n",
    "\n",
    "# get the opponent_team_id column from the all matches data frame\n",
    "categorical_columns_df = all_matches_df.copy()[['opponent_team_id']]\n",
    "\n",
    "# fit and transform the one hot encoder to the opponent team data\n",
    "encoded_categorical_columns_df = one_hot_encoder.fit_transform(categorical_columns_df.astype(str))\n",
    "\n",
    "encoded_categorical_columns_df.head()"
   ]
  },
  {
   "cell_type": "markdown",
   "metadata": {},
   "source": [
    "# Concatenating encoded attribute to data frame"
   ]
  },
  {
   "cell_type": "code",
   "execution_count": 21,
   "metadata": {},
   "outputs": [
    {
     "data": {
      "text/html": [
       "<div>\n",
       "<style scoped>\n",
       "    .dataframe tbody tr th:only-of-type {\n",
       "        vertical-align: middle;\n",
       "    }\n",
       "\n",
       "    .dataframe tbody tr th {\n",
       "        vertical-align: top;\n",
       "    }\n",
       "\n",
       "    .dataframe thead th {\n",
       "        text-align: right;\n",
       "    }\n",
       "</style>\n",
       "<table border=\"1\" class=\"dataframe\">\n",
       "  <thead>\n",
       "    <tr style=\"text-align: right;\">\n",
       "      <th></th>\n",
       "      <th>date</th>\n",
       "      <th>barca_goals</th>\n",
       "      <th>home_away</th>\n",
       "      <th>opponent_team_id_10281</th>\n",
       "      <th>opponent_team_id_8305</th>\n",
       "      <th>opponent_team_id_10267</th>\n",
       "      <th>opponent_team_id_8633</th>\n",
       "      <th>opponent_team_id_8661</th>\n",
       "      <th>opponent_team_id_9783</th>\n",
       "      <th>opponent_team_id_8696</th>\n",
       "      <th>...</th>\n",
       "      <th>opponent_team_id_8560</th>\n",
       "      <th>opponent_team_id_8581</th>\n",
       "      <th>opponent_team_id_10278</th>\n",
       "      <th>opponent_team_id_8370</th>\n",
       "      <th>opponent_team_id_7878</th>\n",
       "      <th>opponent_team_id_9910</th>\n",
       "      <th>opponent_team_id_10268</th>\n",
       "      <th>opponent_team_id_7869</th>\n",
       "      <th>opponent_team_id_8372</th>\n",
       "      <th>opponent_team_id_8306</th>\n",
       "    </tr>\n",
       "  </thead>\n",
       "  <tbody>\n",
       "    <tr>\n",
       "      <th>0</th>\n",
       "      <td>0</td>\n",
       "      <td>6</td>\n",
       "      <td>1</td>\n",
       "      <td>1</td>\n",
       "      <td>0</td>\n",
       "      <td>0</td>\n",
       "      <td>0</td>\n",
       "      <td>0</td>\n",
       "      <td>0</td>\n",
       "      <td>0</td>\n",
       "      <td>...</td>\n",
       "      <td>0</td>\n",
       "      <td>0</td>\n",
       "      <td>0</td>\n",
       "      <td>0</td>\n",
       "      <td>0</td>\n",
       "      <td>0</td>\n",
       "      <td>0</td>\n",
       "      <td>0</td>\n",
       "      <td>0</td>\n",
       "      <td>0</td>\n",
       "    </tr>\n",
       "    <tr>\n",
       "      <th>1</th>\n",
       "      <td>0</td>\n",
       "      <td>1</td>\n",
       "      <td>1</td>\n",
       "      <td>0</td>\n",
       "      <td>1</td>\n",
       "      <td>0</td>\n",
       "      <td>0</td>\n",
       "      <td>0</td>\n",
       "      <td>0</td>\n",
       "      <td>0</td>\n",
       "      <td>...</td>\n",
       "      <td>0</td>\n",
       "      <td>0</td>\n",
       "      <td>0</td>\n",
       "      <td>0</td>\n",
       "      <td>0</td>\n",
       "      <td>0</td>\n",
       "      <td>0</td>\n",
       "      <td>0</td>\n",
       "      <td>0</td>\n",
       "      <td>0</td>\n",
       "    </tr>\n",
       "    <tr>\n",
       "      <th>2</th>\n",
       "      <td>0</td>\n",
       "      <td>4</td>\n",
       "      <td>1</td>\n",
       "      <td>0</td>\n",
       "      <td>0</td>\n",
       "      <td>1</td>\n",
       "      <td>0</td>\n",
       "      <td>0</td>\n",
       "      <td>0</td>\n",
       "      <td>0</td>\n",
       "      <td>...</td>\n",
       "      <td>0</td>\n",
       "      <td>0</td>\n",
       "      <td>0</td>\n",
       "      <td>0</td>\n",
       "      <td>0</td>\n",
       "      <td>0</td>\n",
       "      <td>0</td>\n",
       "      <td>0</td>\n",
       "      <td>0</td>\n",
       "      <td>0</td>\n",
       "    </tr>\n",
       "    <tr>\n",
       "      <th>3</th>\n",
       "      <td>0</td>\n",
       "      <td>2</td>\n",
       "      <td>1</td>\n",
       "      <td>0</td>\n",
       "      <td>0</td>\n",
       "      <td>0</td>\n",
       "      <td>1</td>\n",
       "      <td>0</td>\n",
       "      <td>0</td>\n",
       "      <td>0</td>\n",
       "      <td>...</td>\n",
       "      <td>0</td>\n",
       "      <td>0</td>\n",
       "      <td>0</td>\n",
       "      <td>0</td>\n",
       "      <td>0</td>\n",
       "      <td>0</td>\n",
       "      <td>0</td>\n",
       "      <td>0</td>\n",
       "      <td>0</td>\n",
       "      <td>0</td>\n",
       "    </tr>\n",
       "    <tr>\n",
       "      <th>4</th>\n",
       "      <td>1</td>\n",
       "      <td>3</td>\n",
       "      <td>1</td>\n",
       "      <td>0</td>\n",
       "      <td>0</td>\n",
       "      <td>0</td>\n",
       "      <td>0</td>\n",
       "      <td>1</td>\n",
       "      <td>0</td>\n",
       "      <td>0</td>\n",
       "      <td>...</td>\n",
       "      <td>0</td>\n",
       "      <td>0</td>\n",
       "      <td>0</td>\n",
       "      <td>0</td>\n",
       "      <td>0</td>\n",
       "      <td>0</td>\n",
       "      <td>0</td>\n",
       "      <td>0</td>\n",
       "      <td>0</td>\n",
       "      <td>0</td>\n",
       "    </tr>\n",
       "  </tbody>\n",
       "</table>\n",
       "<p>5 rows × 35 columns</p>\n",
       "</div>"
      ],
      "text/plain": [
       "   date  barca_goals  home_away  opponent_team_id_10281  \\\n",
       "0     0            6          1                       1   \n",
       "1     0            1          1                       0   \n",
       "2     0            4          1                       0   \n",
       "3     0            2          1                       0   \n",
       "4     1            3          1                       0   \n",
       "\n",
       "   opponent_team_id_8305  opponent_team_id_10267  opponent_team_id_8633  \\\n",
       "0                      0                       0                      0   \n",
       "1                      1                       0                      0   \n",
       "2                      0                       1                      0   \n",
       "3                      0                       0                      1   \n",
       "4                      0                       0                      0   \n",
       "\n",
       "   opponent_team_id_8661  opponent_team_id_9783  opponent_team_id_8696  ...  \\\n",
       "0                      0                      0                      0  ...   \n",
       "1                      0                      0                      0  ...   \n",
       "2                      0                      0                      0  ...   \n",
       "3                      0                      0                      0  ...   \n",
       "4                      1                      0                      0  ...   \n",
       "\n",
       "   opponent_team_id_8560  opponent_team_id_8581  opponent_team_id_10278  \\\n",
       "0                      0                      0                       0   \n",
       "1                      0                      0                       0   \n",
       "2                      0                      0                       0   \n",
       "3                      0                      0                       0   \n",
       "4                      0                      0                       0   \n",
       "\n",
       "   opponent_team_id_8370  opponent_team_id_7878  opponent_team_id_9910  \\\n",
       "0                      0                      0                      0   \n",
       "1                      0                      0                      0   \n",
       "2                      0                      0                      0   \n",
       "3                      0                      0                      0   \n",
       "4                      0                      0                      0   \n",
       "\n",
       "   opponent_team_id_10268  opponent_team_id_7869  opponent_team_id_8372  \\\n",
       "0                       0                      0                      0   \n",
       "1                       0                      0                      0   \n",
       "2                       0                      0                      0   \n",
       "3                       0                      0                      0   \n",
       "4                       0                      0                      0   \n",
       "\n",
       "   opponent_team_id_8306  \n",
       "0                      0  \n",
       "1                      0  \n",
       "2                      0  \n",
       "3                      0  \n",
       "4                      0  \n",
       "\n",
       "[5 rows x 35 columns]"
      ]
     },
     "execution_count": 21,
     "metadata": {},
     "output_type": "execute_result"
    }
   ],
   "source": [
    "# remove the old attribute since it will not be used\n",
    "all_matches_no_opponent_df = all_matches_df.drop(['opponent_team_id'], axis=1)\n",
    "\n",
    "# add the encoded attribute\n",
    "all_matches_encoded_df = pd.concat([all_matches_no_opponent_df, encoded_categorical_columns_df], axis = 1)\n",
    "all_matches_encoded_df.head()"
   ]
  },
  {
   "cell_type": "markdown",
   "metadata": {},
   "source": [
    "# Table Visualization\n",
    "We need to create a method to be used whenever we want to create a table for visualization"
   ]
  },
  {
   "cell_type": "code",
   "execution_count": 22,
   "metadata": {},
   "outputs": [],
   "source": [
    "class DictTable(dict):\n",
    "    # Overridden dict class which takes a dict in the form {'a': 2, 'b': 3},\n",
    "    # and renders an HTML Table in IPython Notebook.\n",
    "    def _repr_html_(self):\n",
    "        html = [\"<table>\"]\n",
    "        for key, value in self.items():\n",
    "            html.append(\"<tr>\")\n",
    "            html.append(\"<td>{0}</td>\".format(key))\n",
    "            html.append(\"<td>{0}</td>\".format(value))\n",
    "            html.append(\"</tr>\")\n",
    "        html.append(\"</table>\")\n",
    "        return ''.join(html)\n"
   ]
  },
  {
   "cell_type": "markdown",
   "metadata": {},
   "source": [
    "# Table for goals scored by FC Barcelona\n",
    "We used to a table to visualize how many goals FC Barcelona score and the total number of matches played. Also the mean and the standard deviation of the number of goals scored is recorded in the table. "
   ]
  },
  {
   "cell_type": "code",
   "execution_count": 23,
   "metadata": {},
   "outputs": [
    {
     "data": {
      "text/html": [
       "<table><tr><td>total_goals</td><td>849</td></tr><tr><td>total_matches_played</td><td>304</td></tr><tr><td>mean</td><td>2.7927631578947367</td></tr><tr><td>std</td><td>1.75565477611506</td></tr></table>"
      ],
      "text/plain": [
       "{'total_goals': 849,\n",
       " 'total_matches_played': 304,\n",
       " 'mean': 2.7927631578947367,\n",
       " 'std': 1.75565477611506}"
      ]
     },
     "execution_count": 23,
     "metadata": {},
     "output_type": "execute_result"
    }
   ],
   "source": [
    "DictTable({'total_goals': all_matches_encoded_df['barca_goals'].sum(),\n",
    "           'total_matches_played': all_matches_encoded_df['barca_goals'].count(),\n",
    "           'mean': all_matches_encoded_df['barca_goals'].mean(),\n",
    "           'std': all_matches_encoded_df['barca_goals'].std()})"
   ]
  },
  {
   "cell_type": "markdown",
   "metadata": {},
   "source": [
    "# Analysis on results\n",
    "As we can see FC Barcelona scored 849 goals in 304 matches played with a mean of almost 3 goals per match. 3 goals per match is a very high number. usually a team scores an average of 1 or 2 goals per match. That shows that FC Barcelona attacks very good and as a result scores many goals. Also the standard deviation is high which is 1.7 and that is because FC Barcelona scored 4-8 goals multiple of times which affected the standard deviation which confirms that FC Barcelona scores many goals."
   ]
  },
  {
   "cell_type": "markdown",
   "metadata": {},
   "source": [
    "# Histograms for date attribute\n",
    "Two histograms were created to visualize the total number of goals scored in each year and the average number of goals scored in each year."
   ]
  },
  {
   "cell_type": "code",
   "execution_count": 24,
   "metadata": {},
   "outputs": [
    {
     "data": {
      "image/png": "[encoded data removed]",
      "text/plain": [
       "<Figure size 432x288 with 1 Axes>"
      ]
     },
     "metadata": {
      "needs_background": "light"
     },
     "output_type": "display_data"
    },
    {
     "data": {
      "image/png": "[encoded data removed]",
      "text/plain": [
       "<Figure size 432x288 with 1 Axes>"
      ]
     },
     "metadata": {
      "needs_background": "light"
     },
     "output_type": "display_data"
    }
   ],
   "source": [
    "# total goals scored in each year\n",
    "goals_scored_per_date = all_matches_encoded_df.groupby(['date']).sum()['barca_goals']\n",
    "# total number of matches played in each year\n",
    "matches_played_per_date = all_matches_encoded_df.groupby(['date']).count()['barca_goals']\n",
    "# Average number of goals scored in each year\n",
    "avr_date_goals = goals_scored_per_date/matches_played_per_date\n",
    "\n",
    "# Plot the average number of goals scored in each year\n",
    "dict_date_avr = {}\n",
    "\n",
    "avr_date_goals.head()\n",
    "for index, row in avr_date_goals.iteritems():\n",
    "    dict_date_avr.update({(index+min_year): row})\n",
    "\n",
    "plt.bar(range(len(dict_date_avr)), list(dict_date_avr.values()), align='center')\n",
    "plt.xticks(range(len(dict_date_avr)), list(dict_date_avr.keys()))\n",
    "axes = plt.gca()\n",
    "axes.set_ylim([0,5])\n",
    "\n",
    "plt.xlabel(\"Date\")\n",
    "plt.ylabel(\"Average Goals\")\n",
    "plt.show()\n",
    "    \n",
    "# Plot the total number of goals scored in each year\n",
    "dict_date_total_goals = {}\n",
    "for index, row in goals_scored_per_date.iteritems():\n",
    "    dict_date_total_goals.update({(index+min_year): row})\n",
    "\n",
    "\n",
    "plt.bar(range(len(dict_date_total_goals)), list(dict_date_total_goals.values()), align='center')\n",
    "plt.xticks(range(len(dict_date_total_goals)), list(dict_date_total_goals.keys()))\n",
    "axes = plt.gca()\n",
    "axes.set_ylim([0,150])\n",
    "\n",
    "plt.xlabel(\"Date\")\n",
    "plt.ylabel(\"Total Goals\")\n",
    "plt.show()"
   ]
  },
  {
   "cell_type": "markdown",
   "metadata": {},
   "source": [
    "# Analysis on results\n",
    "The histograms shows that the date attribute affects the number of goals scored by FC Barcelona. That makes sense because the team as a whole could be good in one year but its performance drops in the next year and that is actually the case most of the times. As we can see, it is very hard for a football club to stay at the top for two consecutive years, its performance probably drops the following year.\n",
    "\n",
    "The date attribute will help the machine learning algorithm because it will notice some pattern in the date and predict accordingly. Also the date will probably be used along with the opponent team in order to get some sense of whether this team is strong or not. For example, the machine learning algorithm can notice that even though FC Barcelona did not score alot of goals in a certain year but it still managed to score alot of goals against a specific team then this means that this team is probably weak and will later on predict more goals against this team"
   ]
  },
  {
   "cell_type": "markdown",
   "metadata": {},
   "source": [
    "# Hisotgrams for home/away attribute\n",
    "Two histograms were created to visualize the total number of goals scored and the average number of goals scored in home and away goals seperately."
   ]
  },
  {
   "cell_type": "code",
   "execution_count": 25,
   "metadata": {},
   "outputs": [
    {
     "data": {
      "image/png": "[encoded data removed]",
      "text/plain": [
       "<Figure size 720x360 with 1 Axes>"
      ]
     },
     "metadata": {
      "needs_background": "light"
     },
     "output_type": "display_data"
    },
    {
     "data": {
      "image/png": "[encoded data removed]",
      "text/plain": [
       "<Figure size 720x360 with 1 Axes>"
      ]
     },
     "metadata": {
      "needs_background": "light"
     },
     "output_type": "display_data"
    }
   ],
   "source": [
    "# Plotting the average number of goals scored in the home and away matches\n",
    "\n",
    "dict_home_away_avr = {'home': home_matches_df['barca_goals'].mean(), \n",
    "                     'away': away_matches_df['barca_goals'].mean() }\n",
    "\n",
    "plt.figure(figsize=(10, 5))\n",
    "\n",
    "plt.bar(range(len(dict_home_away_avr)), list(dict_home_away_avr.values()), align='center')\n",
    "plt.xticks(range(len(dict_home_away_avr)), list(dict_home_away_avr.keys()))\n",
    "axes = plt.gca()\n",
    "\n",
    "plt.xlabel(\"Home/Away\")\n",
    "plt.ylabel(\"The average number of goals scored/match in a home/away match\")\n",
    "plt.show()\n",
    "\n",
    "\n",
    "dict_home_away_sum = {'home': home_matches_df['barca_goals'].sum(), \n",
    "                     'away': away_matches_df['barca_goals'].sum() }\n",
    "\n",
    "# Plotting the total number of goals scored in the home and away matches\n",
    "plt.figure(figsize=(10, 5))\n",
    "\n",
    "plt.bar(range(len(dict_home_away_sum)), list(dict_home_away_sum.values()), align='center')\n",
    "plt.xticks(range(len(dict_home_away_sum)), list(dict_home_away_sum.keys()))\n",
    "axes = plt.gca()\n",
    "\n",
    "plt.xlabel(\"Home/Away\")\n",
    "plt.ylabel(\"The average number of goals scored/match in a home/away match\")\n",
    "plt.show()"
   ]
  },
  {
   "cell_type": "markdown",
   "metadata": {},
   "source": [
    "# Analysis On Results\n",
    "The results showed that the whether the match is played home or away affects <strong>ALOT</strong> the number of goals scored by FC Barcelona. That makes alot of sense because when a football club plays in its own stadium and with all the crowd supporting it, it will definetly perform better.\n",
    "\n",
    "This is will help the machine learning algorithm alot because it will predict more goals when it is a home match than an away match."
   ]
  },
  {
   "cell_type": "markdown",
   "metadata": {},
   "source": [
    "# Histograms for opponent attribute\n",
    "3 histograms were used to visualize the average, minimum and maximum number of goals scored in each opponent"
   ]
  },
  {
   "cell_type": "code",
   "execution_count": 26,
   "metadata": {},
   "outputs": [
    {
     "data": {
      "image/png": "[encoded data removed]",
      "text/plain": [
       "<Figure size 720x360 with 1 Axes>"
      ]
     },
     "metadata": {
      "needs_background": "light"
     },
     "output_type": "display_data"
    },
    {
     "data": {
      "image/png": "[encoded data removed]",
      "text/plain": [
       "<Figure size 720x360 with 1 Axes>"
      ]
     },
     "metadata": {
      "needs_background": "light"
     },
     "output_type": "display_data"
    },
    {
     "data": {
      "image/png": "[encoded data removed]",
      "text/plain": [
       "<Figure size 720x360 with 1 Axes>"
      ]
     },
     "metadata": {
      "needs_background": "light"
     },
     "output_type": "display_data"
    }
   ],
   "source": [
    "dict_opponent_avr_goals = {}\n",
    "dict_opponent_min_goals = {}\n",
    "dict_opponent_max_goals = {}\n",
    "\n",
    "team_index = 0\n",
    "\n",
    "#Calculate min, max and average number of goals scored in one for loop\n",
    "for column in encoded_categorical_columns_df.columns :\n",
    "    if(re.match(\"opponent.*\", column)):\n",
    "        \n",
    "        goals = 0\n",
    "        matches = 0\n",
    "        min_goals = 10\n",
    "        max_goals = 0\n",
    "        for index, row in all_matches_encoded_df.iterrows():\n",
    "            if(row[column] != 1):\n",
    "                continue\n",
    "            \n",
    "            goals_scored = row['barca_goals']\n",
    "            goals = goals + goals_scored\n",
    "            matches = matches+1\n",
    "            if(goals_scored < min_goals):\n",
    "                min_goals = goals_scored\n",
    "            if(goals_scored > max_goals):\n",
    "                max_goals = goals_scored\n",
    "        \n",
    "        dict_opponent_avr_goals.update({team_index: (goals/matches)})\n",
    "        dict_opponent_min_goals.update({team_index: min_goals})\n",
    "        dict_opponent_max_goals.update({team_index: max_goals})\n",
    "   \n",
    "        team_index = team_index + 1\n",
    "\n",
    "# Average goals scored vs opponent\n",
    "plt.figure(figsize=(10, 5))\n",
    "\n",
    "plt.bar(range(len(dict_opponent_avr_goals)), list(dict_opponent_avr_goals.values()), align='center')\n",
    "plt.xticks(range(len(dict_opponent_avr_goals)), list(dict_opponent_avr_goals.keys()))\n",
    "axes = plt.gca()\n",
    "axes.set_ylim([0,8])\n",
    "\n",
    "plt.xlabel(\"Opponent \")\n",
    "plt.ylabel(\"The average number of goals scored/match vs opponent\")\n",
    "plt.show()\n",
    "\n",
    "# Min goals scored vs opponent\n",
    "plt.figure(figsize=(10, 5))\n",
    "\n",
    "plt.bar(range(len(dict_opponent_min_goals)), list(dict_opponent_min_goals.values()), align='center')\n",
    "plt.xticks(range(len(dict_opponent_min_goals)), list(dict_opponent_min_goals.keys()))\n",
    "axes = plt.gca()\n",
    "axes.set_ylim([0,8])\n",
    "\n",
    "plt.xlabel(\"Opponent \")\n",
    "plt.ylabel(\"The min number of goals scored vs opponent\")\n",
    "plt.show()\n",
    "\n",
    "# Max goals scored vs opponent\n",
    "plt.figure(figsize=(10, 5))\n",
    "\n",
    "plt.bar(range(len(dict_opponent_max_goals)), list(dict_opponent_max_goals.values()), align='center')\n",
    "plt.xticks(range(len(dict_opponent_max_goals)), list(dict_opponent_max_goals.keys()))\n",
    "axes = plt.gca()\n",
    "axes.set_ylim([0,10])\n",
    "\n",
    "plt.xlabel(\"Opponent \")\n",
    "plt.ylabel(\"The max number of goals scored vs opponent\")\n",
    "plt.show()"
   ]
  },
  {
   "cell_type": "markdown",
   "metadata": {},
   "source": [
    "# Analysis On Results\n",
    "As we can see from the histograms the opponent team affects the number of goals scored by FC Barcelona. That makes sense because there are weak teams and strong teams and it makes sense that FC Barcelona score more goals against weak teams than strong teams. That is reflected in the first histogram. Also the other two histograms shows that there are teams that FC Barcelona always score against (These are the teams that have a minimum of 1 goal or more). There are also teams that FC Barcelona scored against 6 goals or more which is showed by the histogram representing the maximum number of goals scored. We will notice that FC Barcelona scored 6 or more goals against 17 out of 31 teams which is more than half and that is a <strong>VERY</strong> large number. "
   ]
  },
  {
   "cell_type": "markdown",
   "metadata": {},
   "source": [
    "# Machine Learning Algorithm\n",
    "In order to put all the data analysis and cleaning in use, we implemented a machine learning algorithm that uses the attributes mentioned and analysed. \n",
    "\n",
    "First we need to create a training set and a test set for the dataset"
   ]
  },
  {
   "cell_type": "code",
   "execution_count": 27,
   "metadata": {},
   "outputs": [],
   "source": [
    "from sklearn.model_selection import train_test_split\n",
    "\n",
    "# First split data into X (inputs) and Y (outputs)\n",
    "X1 = all_matches_encoded_df.drop([\"barca_goals\"], axis = 1)\n",
    "\n",
    "# The output\n",
    "y1 = all_matches_encoded_df[\"barca_goals\"]\n",
    "\n",
    "# splitting  dataset\n",
    "X_train_1, X_test_1, y_train_1, y_test_1 = train_test_split(X1,y1,stratify=y1,train_size=0.8,test_size=0.2,random_state = 0)"
   ]
  },
  {
   "cell_type": "markdown",
   "metadata": {},
   "source": [
    "# Now we try the linear regression model"
   ]
  },
  {
   "cell_type": "code",
   "execution_count": 28,
   "metadata": {},
   "outputs": [
    {
     "data": {
      "text/plain": [
       "LinearRegression(copy_X=True, fit_intercept=True, n_jobs=None,\n",
       "         normalize=False)"
      ]
     },
     "execution_count": 28,
     "metadata": {},
     "output_type": "execute_result"
    }
   ],
   "source": [
    "from sklearn.linear_model import LinearRegression\n",
    "\n",
    "LR1 = LinearRegression(fit_intercept=True, normalize=False, copy_X=True, n_jobs=None)\n",
    "LR1.fit(X_train_1, y_train_1)"
   ]
  },
  {
   "cell_type": "code",
   "execution_count": 29,
   "metadata": {},
   "outputs": [
    {
     "name": "stdout",
     "output_type": "stream",
     "text": [
      "Predictions when considered correct if the number of goals is within the range of correct answer +1 and correct answer -1\n",
      "Linear Regression accuracy : 0.4918032786885246\n",
      "\n",
      "\n",
      "Predictions when considered correct if the number of goals is exactly the correct answer\n",
      "Linear Regression accuracy : 0.22950819672131148\n"
     ]
    }
   ],
   "source": [
    "# Get predictions and approximate values\n",
    "\n",
    "predictions_1 = LR1.predict(X_test_1)\n",
    "\n",
    "# approximate values for each prediction set\n",
    "for i in range(predictions_1.size) :\n",
    "    prediction = predictions_1[i]\n",
    "    \n",
    "    if(prediction < 0):\n",
    "        predictions_1[i] = 0\n",
    "        continue\n",
    "    if(prediction > 8):\n",
    "        predictions_1[i] = 8\n",
    "        continue\n",
    "        \n",
    "    decimal = prediction % 1\n",
    "    \n",
    "    if(decimal >= 0.5):\n",
    "        predictions_1[i] = prediction + 1 - decimal\n",
    "    else :\n",
    "        predictions_1[i] -= decimal   \n",
    "\n",
    "# Accuracy when considered correct if the number of goals is within the range of correct answer +1 and correct answer -1\n",
    "accuracy_1 = sum(np.absolute(predictions_1 - y_test_1) <= 1) / y_test_1.size\n",
    "\n",
    "print(\"Predictions when considered correct if the number of goals is within the range of correct answer +1 and correct answer -1\")\n",
    "print(\"Linear Regression accuracy : \" + str(accuracy_1))\n",
    "\n",
    "print(\"\\n\")\n",
    "\n",
    "# Predictions when considered correct if the number of goals is exactly the correct answer\n",
    "accuracy_1 = sum((predictions_1 - y_test_1) == 0) / y_test_1.size\n",
    "print(\"Predictions when considered correct if the number of goals is exactly the correct answer\")\n",
    "print(\"Linear Regression accuracy : \" + str(accuracy_1))"
   ]
  },
  {
   "cell_type": "markdown",
   "metadata": {},
   "source": [
    "# Final Analysis\n",
    "As shown in the data analysis that each attribute we discussed contibutes and affects the number of goals scored by FC Barcelona. These attribute are the date(year), whether the match is home or away and the opponent team.\n",
    "\n",
    "Our machine learning algorithm got some good results putting in consideration that it is very hard to predict the number of goals a team will score in a match especially when this team is FC Barcelona. Also we used a very simple linear regression model to predict the number of goals scored. We did not put alot of effort in the machine learning algorith because it is not the core of the course. \n",
    "\n",
    "We still got some good results which is approximately 23% to get the exact number of goals correctly and it got approximately 50% when the error margin is 1. \n",
    "\n",
    "These results can be improved if we added some player information. For example, we can add to the data who scores the goals and whether he is playing or not. That will help the machine learning algorithm to predict the number of goals scored depending on the players playing.\n"
   ]
  },
  {
   "cell_type": "code",
   "execution_count": null,
   "metadata": {},
   "outputs": [],
   "source": []
  }
 ],
 "metadata": {
  "kernelspec": {
   "display_name": "Python 3",
   "language": "python",
   "name": "python3"
  },
  "language_info": {
   "codemirror_mode": {
    "name": "ipython",
    "version": 3
   },
   "file_extension": ".py",
   "mimetype": "text/x-python",
   "name": "python",
   "nbconvert_exporter": "python",
   "pygments_lexer": "ipython3",
   "version": "3.7.4"
  }
 },
 "nbformat": 4,
 "nbformat_minor": 2
}
