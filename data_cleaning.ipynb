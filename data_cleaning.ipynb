{
 "cells": [
  {
   "cell_type": "markdown",
   "metadata": {},
   "source": [
    "# Research Question\n",
    "Our research question is how many goals FC Barcelona is going to score in a certain match providing its date, opponent team and whether it is a home or an away match.\n",
    "\n",
    "# Current Form Of Data\n",
    "The data is currently in the following form (The attributes we are interested in): date, home_team_api_id, away_team_api_id, home_team_goal and away_team_goal. Here is a visual example representation:\n",
    "\n",
    "| date                | home_team_api_id | away_team_api_id | home_team_goal | away_team_goal |\n",
    "| :-------------------| :--------------: | :--------------: | :------------: | :------------: |\n",
    "| 2008-08-17 00:00:00 | 9987             | 9993             | 0              | 1              |\n",
    "| 2015-09-23 00:00:00 | 10192            | 9931             | 4              | 3              |\n",
    "\n",
    "# Desired Form Of Data\n",
    "The desired form of data should be in the following form: date, opponent team id, barca goals and whether or it is a home or an away match. Here is a visual representation of how the data should look like:\n",
    "\n",
    "| date      | opponent_team_id | barca_goals | home_away |\n",
    "| :---------| :--------------: | :---------: | --------: |\n",
    "\n",
    "where <strong>date</strong> is the desired year minus the min year in the data set  \n",
    "<strong>opponent_team_id</strong> is the team id of the opponent team. The team_id can be found in the used dataset  \n",
    "<strong>barca_goals</strong> is the number of goals scored by FC Barcelona in this match  \n",
    "<strong>home_away</strong> is whether it is a home or an away match where home represents 0 and away represents 1\n",
    "\n",
    "Here is an example of how the data could be represented\n",
    "\n",
    "| date      | opponent_team_id | barca_goals | home_away |\n",
    "| :---------| :--------------: | :---------: | --------: |\n",
    "| 0         | 10281            | 6           | 0         |\n",
    "| 8         | 7878             | 3           | 1         |"
   ]
  },
  {
   "cell_type": "code",
   "execution_count": 4,
   "metadata": {},
   "outputs": [],
   "source": [
    "import pandas as pd\n",
    "import matplotlib.pyplot as plt\n",
    "import numpy as np\n",
    "import sqlite3\n",
    "\n",
    "database = sqlite3.connect(\"database.sqlite\");"
   ]
  },
  {
   "cell_type": "markdown",
   "metadata": {},
   "source": [
    "# Get FC Barcelona's team_api_id\n",
    "In order to get the matches where FC Barcelona was involved in we need its team_api_id.  \n",
    "The table which is named <strong>team</strong> is the table we are going to use to get the team_api_id. Here is a visual example representation (Only the attributes we are interested in):\n",
    "\n",
    "| team_api_id | team_long_name |\n",
    "| :---------- | -------------: |\n",
    "| 8634        | FC Barcelona   |\n",
    "\n",
    "What we are going to do is we are going to select the teams where their team_long_name is FC Barcelona (Only FC Barcelona will be returned) then we are going to get its team_api_id\n"
   ]
  },
  {
   "cell_type": "code",
   "execution_count": 5,
   "metadata": {},
   "outputs": [
    {
     "data": {
      "text/plain": [
       "8634"
      ]
     },
     "execution_count": 5,
     "metadata": {},
     "output_type": "execute_result"
    }
   ],
   "source": [
    "# Get the team_api_id of FC Barcelona\n",
    "barca_df = pd.read_sql_query(\"SELECT * from team where team_long_name='FC Barcelona'\", database)\n",
    "barca_api_id = barca_df.team_api_id[0]\n",
    "\n",
    "barca_api_id"
   ]
  },
  {
   "cell_type": "markdown",
   "metadata": {},
   "source": [
    "# Select only the attributes related to our research problem\n",
    "\n",
    "We are going to reach the desired form of data by getting the home and away matches alone and then concatenating them at the end.\n",
    "\n",
    "For the home matches we are going to get the <strong>date</strong>, <strong>away_team_api_id</strong> (which represents the opponent team so we are going to rename it as opponnent_team_id) and <strong>home_team_goal</strong> (which represents the number of goals FC Barcelona scored in the match so we are going to rename it as barca_goals).\n",
    "We will also need to include the players who were participating in the match, from FCB's side.\n",
    "\n",
    "For the away matches we are going to get the <strong>date</strong>, <strong>home_team_api_id</strong> (which represents the opponent team so we are going to rename it as opponnent_team_id) and <strong>away_team_goal</strong> (which represents the number of goals FC Barcelona scored in the match so we are going to rename it as barca_goals).\n",
    "We will also need to include the players who were participating in the match, from FCB's side.\n",
    "\n",
    "Using the where clause in SQL and barca_api_id we can get the home and away matches for FC Barcelona by searching the home_team_api_id and away_team_api_id."
   ]
  },
  {
   "cell_type": "code",
   "execution_count": 6,
   "metadata": {},
   "outputs": [],
   "source": [
    "## Select only the attributee relevant to our research question\n",
    "\n",
    "# Concerning the matches where FC Barcelona was the home team, we need the date, and the away team (opponent)\n",
    "# and the number of goals the home team (FC Barcelona) scored\n",
    "# also including the players participating.\n",
    "home_select_clause = \"date, away_team_api_id as 'opponent_team_id', home_team_goal as 'barca_goals'\"\n",
    "\n",
    "for i in range(11):\n",
    "    home_select_clause += \", home_player_X\" + str(i+1) + \" as 'position_X\"+ str(i+1) +\"'\";\n",
    "\n",
    "# Concerning the matches where FC Barcelona was the away team, we need the date, and the home team (opponent)\n",
    "# and the number of goals the away team (FC Barcelona) scored\n",
    "# also including the players participating.\n",
    "away_select_clause = \"date, home_team_api_id as 'opponent_team_id', away_team_goal as 'barca_goals'\"\n",
    "\n",
    "for i in range(11):\n",
    "    away_select_clause += \", away_player_X\" + str(i+1) + \" as 'position_X\"+ str(i+1) +\"'\";\n",
    "\n",
    "# Select only the matches that FC Barcelona involved in as the home team and the away team seperately\n",
    "home_where_clause = \"home_team_api_id=\" + str(barca_api_id)\n",
    "away_where_clause = \"away_team_api_id=\" + str(barca_api_id)"
   ]
  },
  {
   "cell_type": "markdown",
   "metadata": {},
   "source": [
    "# Putting things together\n",
    "\n",
    "Using the <strong>SELECT</strong> and <strong>WHERE</strong> clauses we can obtain the home and away matches "
   ]
  },
  {
   "cell_type": "code",
   "execution_count": 7,
   "metadata": {},
   "outputs": [
    {
     "data": {
      "text/html": [
       "<div>\n",
       "<style scoped>\n",
       "    .dataframe tbody tr th:only-of-type {\n",
       "        vertical-align: middle;\n",
       "    }\n",
       "\n",
       "    .dataframe tbody tr th {\n",
       "        vertical-align: top;\n",
       "    }\n",
       "\n",
       "    .dataframe thead th {\n",
       "        text-align: right;\n",
       "    }\n",
       "</style>\n",
       "<table border=\"1\" class=\"dataframe\">\n",
       "  <thead>\n",
       "    <tr style=\"text-align: right;\">\n",
       "      <th></th>\n",
       "      <th>date</th>\n",
       "      <th>opponent_team_id</th>\n",
       "      <th>barca_goals</th>\n",
       "      <th>position_X1</th>\n",
       "      <th>position_X2</th>\n",
       "      <th>position_X3</th>\n",
       "      <th>position_X4</th>\n",
       "      <th>position_X5</th>\n",
       "      <th>position_X6</th>\n",
       "      <th>position_X7</th>\n",
       "      <th>position_X8</th>\n",
       "      <th>position_X9</th>\n",
       "      <th>position_X10</th>\n",
       "      <th>position_X11</th>\n",
       "    </tr>\n",
       "  </thead>\n",
       "  <tbody>\n",
       "    <tr>\n",
       "      <th>0</th>\n",
       "      <td>2008-11-08 00:00:00</td>\n",
       "      <td>10281</td>\n",
       "      <td>6</td>\n",
       "      <td>1</td>\n",
       "      <td>2</td>\n",
       "      <td>4</td>\n",
       "      <td>6</td>\n",
       "      <td>8</td>\n",
       "      <td>3</td>\n",
       "      <td>5</td>\n",
       "      <td>7</td>\n",
       "      <td>3</td>\n",
       "      <td>5</td>\n",
       "      <td>7</td>\n",
       "    </tr>\n",
       "    <tr>\n",
       "      <th>1</th>\n",
       "      <td>2008-11-23 00:00:00</td>\n",
       "      <td>8305</td>\n",
       "      <td>1</td>\n",
       "      <td>1</td>\n",
       "      <td>2</td>\n",
       "      <td>4</td>\n",
       "      <td>6</td>\n",
       "      <td>8</td>\n",
       "      <td>3</td>\n",
       "      <td>5</td>\n",
       "      <td>7</td>\n",
       "      <td>3</td>\n",
       "      <td>5</td>\n",
       "      <td>7</td>\n",
       "    </tr>\n",
       "    <tr>\n",
       "      <th>2</th>\n",
       "      <td>2008-12-06 00:00:00</td>\n",
       "      <td>10267</td>\n",
       "      <td>4</td>\n",
       "      <td>1</td>\n",
       "      <td>2</td>\n",
       "      <td>4</td>\n",
       "      <td>6</td>\n",
       "      <td>8</td>\n",
       "      <td>3</td>\n",
       "      <td>5</td>\n",
       "      <td>7</td>\n",
       "      <td>3</td>\n",
       "      <td>5</td>\n",
       "      <td>7</td>\n",
       "    </tr>\n",
       "    <tr>\n",
       "      <th>3</th>\n",
       "      <td>2008-12-13 00:00:00</td>\n",
       "      <td>8633</td>\n",
       "      <td>2</td>\n",
       "      <td>1</td>\n",
       "      <td>2</td>\n",
       "      <td>4</td>\n",
       "      <td>6</td>\n",
       "      <td>8</td>\n",
       "      <td>4</td>\n",
       "      <td>6</td>\n",
       "      <td>2</td>\n",
       "      <td>8</td>\n",
       "      <td>4</td>\n",
       "      <td>6</td>\n",
       "    </tr>\n",
       "    <tr>\n",
       "      <th>4</th>\n",
       "      <td>2009-01-03 00:00:00</td>\n",
       "      <td>8661</td>\n",
       "      <td>3</td>\n",
       "      <td>1</td>\n",
       "      <td>2</td>\n",
       "      <td>4</td>\n",
       "      <td>6</td>\n",
       "      <td>8</td>\n",
       "      <td>3</td>\n",
       "      <td>5</td>\n",
       "      <td>7</td>\n",
       "      <td>3</td>\n",
       "      <td>5</td>\n",
       "      <td>7</td>\n",
       "    </tr>\n",
       "  </tbody>\n",
       "</table>\n",
       "</div>"
      ],
      "text/plain": [
       "                  date  opponent_team_id  barca_goals  position_X1  \\\n",
       "0  2008-11-08 00:00:00             10281            6            1   \n",
       "1  2008-11-23 00:00:00              8305            1            1   \n",
       "2  2008-12-06 00:00:00             10267            4            1   \n",
       "3  2008-12-13 00:00:00              8633            2            1   \n",
       "4  2009-01-03 00:00:00              8661            3            1   \n",
       "\n",
       "   position_X2  position_X3  position_X4  position_X5  position_X6  \\\n",
       "0            2            4            6            8            3   \n",
       "1            2            4            6            8            3   \n",
       "2            2            4            6            8            3   \n",
       "3            2            4            6            8            4   \n",
       "4            2            4            6            8            3   \n",
       "\n",
       "   position_X7  position_X8  position_X9  position_X10  position_X11  \n",
       "0            5            7            3             5             7  \n",
       "1            5            7            3             5             7  \n",
       "2            5            7            3             5             7  \n",
       "3            6            2            8             4             6  \n",
       "4            5            7            3             5             7  "
      ]
     },
     "execution_count": 7,
     "metadata": {},
     "output_type": "execute_result"
    }
   ],
   "source": [
    "# return the home matches of FC Barcelona\n",
    "home_matches_df = pd.read_sql_query(\"SELECT \" + str(home_select_clause) +\" from match where \" + str(home_where_clause), database)\n",
    "home_matches_df.head()"
   ]
  },
  {
   "cell_type": "code",
   "execution_count": 8,
   "metadata": {},
   "outputs": [
    {
     "data": {
      "text/html": [
       "<div>\n",
       "<style scoped>\n",
       "    .dataframe tbody tr th:only-of-type {\n",
       "        vertical-align: middle;\n",
       "    }\n",
       "\n",
       "    .dataframe tbody tr th {\n",
       "        vertical-align: top;\n",
       "    }\n",
       "\n",
       "    .dataframe thead th {\n",
       "        text-align: right;\n",
       "    }\n",
       "</style>\n",
       "<table border=\"1\" class=\"dataframe\">\n",
       "  <thead>\n",
       "    <tr style=\"text-align: right;\">\n",
       "      <th></th>\n",
       "      <th>date</th>\n",
       "      <th>opponent_team_id</th>\n",
       "      <th>barca_goals</th>\n",
       "      <th>position_X1</th>\n",
       "      <th>position_X2</th>\n",
       "      <th>position_X3</th>\n",
       "      <th>position_X4</th>\n",
       "      <th>position_X5</th>\n",
       "      <th>position_X6</th>\n",
       "      <th>position_X7</th>\n",
       "      <th>position_X8</th>\n",
       "      <th>position_X9</th>\n",
       "      <th>position_X10</th>\n",
       "      <th>position_X11</th>\n",
       "    </tr>\n",
       "  </thead>\n",
       "  <tbody>\n",
       "    <tr>\n",
       "      <th>0</th>\n",
       "      <td>2008-08-31 00:00:00</td>\n",
       "      <td>8388</td>\n",
       "      <td>0</td>\n",
       "      <td>1</td>\n",
       "      <td>2</td>\n",
       "      <td>4</td>\n",
       "      <td>6</td>\n",
       "      <td>8</td>\n",
       "      <td>3</td>\n",
       "      <td>5</td>\n",
       "      <td>7</td>\n",
       "      <td>3</td>\n",
       "      <td>5</td>\n",
       "      <td>7</td>\n",
       "    </tr>\n",
       "    <tr>\n",
       "      <th>1</th>\n",
       "      <td>2008-11-16 00:00:00</td>\n",
       "      <td>8479</td>\n",
       "      <td>2</td>\n",
       "      <td>1</td>\n",
       "      <td>2</td>\n",
       "      <td>4</td>\n",
       "      <td>6</td>\n",
       "      <td>8</td>\n",
       "      <td>3</td>\n",
       "      <td>5</td>\n",
       "      <td>7</td>\n",
       "      <td>3</td>\n",
       "      <td>5</td>\n",
       "      <td>7</td>\n",
       "    </tr>\n",
       "    <tr>\n",
       "      <th>2</th>\n",
       "      <td>2008-11-29 00:00:00</td>\n",
       "      <td>8302</td>\n",
       "      <td>3</td>\n",
       "      <td>1</td>\n",
       "      <td>2</td>\n",
       "      <td>4</td>\n",
       "      <td>6</td>\n",
       "      <td>8</td>\n",
       "      <td>3</td>\n",
       "      <td>5</td>\n",
       "      <td>7</td>\n",
       "      <td>3</td>\n",
       "      <td>5</td>\n",
       "      <td>7</td>\n",
       "    </tr>\n",
       "    <tr>\n",
       "      <th>3</th>\n",
       "      <td>2008-12-21 00:00:00</td>\n",
       "      <td>10205</td>\n",
       "      <td>2</td>\n",
       "      <td>1</td>\n",
       "      <td>2</td>\n",
       "      <td>6</td>\n",
       "      <td>8</td>\n",
       "      <td>4</td>\n",
       "      <td>3</td>\n",
       "      <td>5</td>\n",
       "      <td>7</td>\n",
       "      <td>3</td>\n",
       "      <td>5</td>\n",
       "      <td>7</td>\n",
       "    </tr>\n",
       "    <tr>\n",
       "      <th>4</th>\n",
       "      <td>2009-01-11 00:00:00</td>\n",
       "      <td>8371</td>\n",
       "      <td>3</td>\n",
       "      <td>1</td>\n",
       "      <td>2</td>\n",
       "      <td>4</td>\n",
       "      <td>6</td>\n",
       "      <td>8</td>\n",
       "      <td>3</td>\n",
       "      <td>5</td>\n",
       "      <td>7</td>\n",
       "      <td>3</td>\n",
       "      <td>5</td>\n",
       "      <td>7</td>\n",
       "    </tr>\n",
       "  </tbody>\n",
       "</table>\n",
       "</div>"
      ],
      "text/plain": [
       "                  date  opponent_team_id  barca_goals  position_X1  \\\n",
       "0  2008-08-31 00:00:00              8388            0            1   \n",
       "1  2008-11-16 00:00:00              8479            2            1   \n",
       "2  2008-11-29 00:00:00              8302            3            1   \n",
       "3  2008-12-21 00:00:00             10205            2            1   \n",
       "4  2009-01-11 00:00:00              8371            3            1   \n",
       "\n",
       "   position_X2  position_X3  position_X4  position_X5  position_X6  \\\n",
       "0            2            4            6            8            3   \n",
       "1            2            4            6            8            3   \n",
       "2            2            4            6            8            3   \n",
       "3            2            6            8            4            3   \n",
       "4            2            4            6            8            3   \n",
       "\n",
       "   position_X7  position_X8  position_X9  position_X10  position_X11  \n",
       "0            5            7            3             5             7  \n",
       "1            5            7            3             5             7  \n",
       "2            5            7            3             5             7  \n",
       "3            5            7            3             5             7  \n",
       "4            5            7            3             5             7  "
      ]
     },
     "execution_count": 8,
     "metadata": {},
     "output_type": "execute_result"
    }
   ],
   "source": [
    "# return the home matches of FC Barcelona\n",
    "away_matches_df = pd.read_sql_query(\"SELECT \" + str(away_select_clause) +\" from match where \" + str(away_where_clause), database)\n",
    "away_matches_df.head()"
   ]
  },
  {
   "cell_type": "markdown",
   "metadata": {},
   "source": [
    "# Set the home_away attribute\n",
    "Set the home_away attribute for the home and away dataframes where the home dataframe gets a value of 0 and the away dataframe gets a value of 1"
   ]
  },
  {
   "cell_type": "code",
   "execution_count": 9,
   "metadata": {},
   "outputs": [
    {
     "data": {
      "text/html": [
       "<div>\n",
       "<style scoped>\n",
       "    .dataframe tbody tr th:only-of-type {\n",
       "        vertical-align: middle;\n",
       "    }\n",
       "\n",
       "    .dataframe tbody tr th {\n",
       "        vertical-align: top;\n",
       "    }\n",
       "\n",
       "    .dataframe thead th {\n",
       "        text-align: right;\n",
       "    }\n",
       "</style>\n",
       "<table border=\"1\" class=\"dataframe\">\n",
       "  <thead>\n",
       "    <tr style=\"text-align: right;\">\n",
       "      <th></th>\n",
       "      <th>date</th>\n",
       "      <th>opponent_team_id</th>\n",
       "      <th>barca_goals</th>\n",
       "      <th>position_X1</th>\n",
       "      <th>position_X2</th>\n",
       "      <th>position_X3</th>\n",
       "      <th>position_X4</th>\n",
       "      <th>position_X5</th>\n",
       "      <th>position_X6</th>\n",
       "      <th>position_X7</th>\n",
       "      <th>position_X8</th>\n",
       "      <th>position_X9</th>\n",
       "      <th>position_X10</th>\n",
       "      <th>position_X11</th>\n",
       "      <th>home_away</th>\n",
       "    </tr>\n",
       "  </thead>\n",
       "  <tbody>\n",
       "    <tr>\n",
       "      <th>0</th>\n",
       "      <td>2008-11-08 00:00:00</td>\n",
       "      <td>10281</td>\n",
       "      <td>6</td>\n",
       "      <td>1</td>\n",
       "      <td>2</td>\n",
       "      <td>4</td>\n",
       "      <td>6</td>\n",
       "      <td>8</td>\n",
       "      <td>3</td>\n",
       "      <td>5</td>\n",
       "      <td>7</td>\n",
       "      <td>3</td>\n",
       "      <td>5</td>\n",
       "      <td>7</td>\n",
       "      <td>0</td>\n",
       "    </tr>\n",
       "    <tr>\n",
       "      <th>1</th>\n",
       "      <td>2008-11-23 00:00:00</td>\n",
       "      <td>8305</td>\n",
       "      <td>1</td>\n",
       "      <td>1</td>\n",
       "      <td>2</td>\n",
       "      <td>4</td>\n",
       "      <td>6</td>\n",
       "      <td>8</td>\n",
       "      <td>3</td>\n",
       "      <td>5</td>\n",
       "      <td>7</td>\n",
       "      <td>3</td>\n",
       "      <td>5</td>\n",
       "      <td>7</td>\n",
       "      <td>0</td>\n",
       "    </tr>\n",
       "    <tr>\n",
       "      <th>2</th>\n",
       "      <td>2008-12-06 00:00:00</td>\n",
       "      <td>10267</td>\n",
       "      <td>4</td>\n",
       "      <td>1</td>\n",
       "      <td>2</td>\n",
       "      <td>4</td>\n",
       "      <td>6</td>\n",
       "      <td>8</td>\n",
       "      <td>3</td>\n",
       "      <td>5</td>\n",
       "      <td>7</td>\n",
       "      <td>3</td>\n",
       "      <td>5</td>\n",
       "      <td>7</td>\n",
       "      <td>0</td>\n",
       "    </tr>\n",
       "    <tr>\n",
       "      <th>3</th>\n",
       "      <td>2008-12-13 00:00:00</td>\n",
       "      <td>8633</td>\n",
       "      <td>2</td>\n",
       "      <td>1</td>\n",
       "      <td>2</td>\n",
       "      <td>4</td>\n",
       "      <td>6</td>\n",
       "      <td>8</td>\n",
       "      <td>4</td>\n",
       "      <td>6</td>\n",
       "      <td>2</td>\n",
       "      <td>8</td>\n",
       "      <td>4</td>\n",
       "      <td>6</td>\n",
       "      <td>0</td>\n",
       "    </tr>\n",
       "    <tr>\n",
       "      <th>4</th>\n",
       "      <td>2009-01-03 00:00:00</td>\n",
       "      <td>8661</td>\n",
       "      <td>3</td>\n",
       "      <td>1</td>\n",
       "      <td>2</td>\n",
       "      <td>4</td>\n",
       "      <td>6</td>\n",
       "      <td>8</td>\n",
       "      <td>3</td>\n",
       "      <td>5</td>\n",
       "      <td>7</td>\n",
       "      <td>3</td>\n",
       "      <td>5</td>\n",
       "      <td>7</td>\n",
       "      <td>0</td>\n",
       "    </tr>\n",
       "  </tbody>\n",
       "</table>\n",
       "</div>"
      ],
      "text/plain": [
       "                  date  opponent_team_id  barca_goals  position_X1  \\\n",
       "0  2008-11-08 00:00:00             10281            6            1   \n",
       "1  2008-11-23 00:00:00              8305            1            1   \n",
       "2  2008-12-06 00:00:00             10267            4            1   \n",
       "3  2008-12-13 00:00:00              8633            2            1   \n",
       "4  2009-01-03 00:00:00              8661            3            1   \n",
       "\n",
       "   position_X2  position_X3  position_X4  position_X5  position_X6  \\\n",
       "0            2            4            6            8            3   \n",
       "1            2            4            6            8            3   \n",
       "2            2            4            6            8            3   \n",
       "3            2            4            6            8            4   \n",
       "4            2            4            6            8            3   \n",
       "\n",
       "   position_X7  position_X8  position_X9  position_X10  position_X11  \\\n",
       "0            5            7            3             5             7   \n",
       "1            5            7            3             5             7   \n",
       "2            5            7            3             5             7   \n",
       "3            6            2            8             4             6   \n",
       "4            5            7            3             5             7   \n",
       "\n",
       "   home_away  \n",
       "0          0  \n",
       "1          0  \n",
       "2          0  \n",
       "3          0  \n",
       "4          0  "
      ]
     },
     "execution_count": 9,
     "metadata": {},
     "output_type": "execute_result"
    }
   ],
   "source": [
    "# Create a new attribute named home_away where 0 is home and 1 is away and apply it on our two data frames\n",
    "home_matches_df['home_away'] = 0\n",
    "home_matches_df.head()"
   ]
  },
  {
   "cell_type": "code",
   "execution_count": 10,
   "metadata": {},
   "outputs": [
    {
     "data": {
      "text/html": [
       "<div>\n",
       "<style scoped>\n",
       "    .dataframe tbody tr th:only-of-type {\n",
       "        vertical-align: middle;\n",
       "    }\n",
       "\n",
       "    .dataframe tbody tr th {\n",
       "        vertical-align: top;\n",
       "    }\n",
       "\n",
       "    .dataframe thead th {\n",
       "        text-align: right;\n",
       "    }\n",
       "</style>\n",
       "<table border=\"1\" class=\"dataframe\">\n",
       "  <thead>\n",
       "    <tr style=\"text-align: right;\">\n",
       "      <th></th>\n",
       "      <th>date</th>\n",
       "      <th>opponent_team_id</th>\n",
       "      <th>barca_goals</th>\n",
       "      <th>position_X1</th>\n",
       "      <th>position_X2</th>\n",
       "      <th>position_X3</th>\n",
       "      <th>position_X4</th>\n",
       "      <th>position_X5</th>\n",
       "      <th>position_X6</th>\n",
       "      <th>position_X7</th>\n",
       "      <th>position_X8</th>\n",
       "      <th>position_X9</th>\n",
       "      <th>position_X10</th>\n",
       "      <th>position_X11</th>\n",
       "      <th>home_away</th>\n",
       "    </tr>\n",
       "  </thead>\n",
       "  <tbody>\n",
       "    <tr>\n",
       "      <th>0</th>\n",
       "      <td>2008-08-31 00:00:00</td>\n",
       "      <td>8388</td>\n",
       "      <td>0</td>\n",
       "      <td>1</td>\n",
       "      <td>2</td>\n",
       "      <td>4</td>\n",
       "      <td>6</td>\n",
       "      <td>8</td>\n",
       "      <td>3</td>\n",
       "      <td>5</td>\n",
       "      <td>7</td>\n",
       "      <td>3</td>\n",
       "      <td>5</td>\n",
       "      <td>7</td>\n",
       "      <td>1</td>\n",
       "    </tr>\n",
       "    <tr>\n",
       "      <th>1</th>\n",
       "      <td>2008-11-16 00:00:00</td>\n",
       "      <td>8479</td>\n",
       "      <td>2</td>\n",
       "      <td>1</td>\n",
       "      <td>2</td>\n",
       "      <td>4</td>\n",
       "      <td>6</td>\n",
       "      <td>8</td>\n",
       "      <td>3</td>\n",
       "      <td>5</td>\n",
       "      <td>7</td>\n",
       "      <td>3</td>\n",
       "      <td>5</td>\n",
       "      <td>7</td>\n",
       "      <td>1</td>\n",
       "    </tr>\n",
       "    <tr>\n",
       "      <th>2</th>\n",
       "      <td>2008-11-29 00:00:00</td>\n",
       "      <td>8302</td>\n",
       "      <td>3</td>\n",
       "      <td>1</td>\n",
       "      <td>2</td>\n",
       "      <td>4</td>\n",
       "      <td>6</td>\n",
       "      <td>8</td>\n",
       "      <td>3</td>\n",
       "      <td>5</td>\n",
       "      <td>7</td>\n",
       "      <td>3</td>\n",
       "      <td>5</td>\n",
       "      <td>7</td>\n",
       "      <td>1</td>\n",
       "    </tr>\n",
       "    <tr>\n",
       "      <th>3</th>\n",
       "      <td>2008-12-21 00:00:00</td>\n",
       "      <td>10205</td>\n",
       "      <td>2</td>\n",
       "      <td>1</td>\n",
       "      <td>2</td>\n",
       "      <td>6</td>\n",
       "      <td>8</td>\n",
       "      <td>4</td>\n",
       "      <td>3</td>\n",
       "      <td>5</td>\n",
       "      <td>7</td>\n",
       "      <td>3</td>\n",
       "      <td>5</td>\n",
       "      <td>7</td>\n",
       "      <td>1</td>\n",
       "    </tr>\n",
       "    <tr>\n",
       "      <th>4</th>\n",
       "      <td>2009-01-11 00:00:00</td>\n",
       "      <td>8371</td>\n",
       "      <td>3</td>\n",
       "      <td>1</td>\n",
       "      <td>2</td>\n",
       "      <td>4</td>\n",
       "      <td>6</td>\n",
       "      <td>8</td>\n",
       "      <td>3</td>\n",
       "      <td>5</td>\n",
       "      <td>7</td>\n",
       "      <td>3</td>\n",
       "      <td>5</td>\n",
       "      <td>7</td>\n",
       "      <td>1</td>\n",
       "    </tr>\n",
       "  </tbody>\n",
       "</table>\n",
       "</div>"
      ],
      "text/plain": [
       "                  date  opponent_team_id  barca_goals  position_X1  \\\n",
       "0  2008-08-31 00:00:00              8388            0            1   \n",
       "1  2008-11-16 00:00:00              8479            2            1   \n",
       "2  2008-11-29 00:00:00              8302            3            1   \n",
       "3  2008-12-21 00:00:00             10205            2            1   \n",
       "4  2009-01-11 00:00:00              8371            3            1   \n",
       "\n",
       "   position_X2  position_X3  position_X4  position_X5  position_X6  \\\n",
       "0            2            4            6            8            3   \n",
       "1            2            4            6            8            3   \n",
       "2            2            4            6            8            3   \n",
       "3            2            6            8            4            3   \n",
       "4            2            4            6            8            3   \n",
       "\n",
       "   position_X7  position_X8  position_X9  position_X10  position_X11  \\\n",
       "0            5            7            3             5             7   \n",
       "1            5            7            3             5             7   \n",
       "2            5            7            3             5             7   \n",
       "3            5            7            3             5             7   \n",
       "4            5            7            3             5             7   \n",
       "\n",
       "   home_away  \n",
       "0          1  \n",
       "1          1  \n",
       "2          1  \n",
       "3          1  \n",
       "4          1  "
      ]
     },
     "execution_count": 10,
     "metadata": {},
     "output_type": "execute_result"
    }
   ],
   "source": [
    "away_matches_df['home_away'] = 1\n",
    "away_matches_df.head()"
   ]
  },
  {
   "cell_type": "markdown",
   "metadata": {},
   "source": [
    "# Get minimum year in the dataset\n",
    "\n",
    "In order to reach the desired form of data we need to get the minimum year in the dataset so that we can use it to manipulate the date attribute as described above. We are going to do that by returning all the dates from the dataset. We will then manipulate the it by getting the year only from date attribute. The date attribute is in the following form yyyy-mm-dd hh:mm:ss so we are going to extract the year by getting the first integer in the date attribute which is the yyyy. Then we are going to convert the string to a float and then to an integer. After we obtain the years in an integer form we can then get the minimum year."
   ]
  },
  {
   "cell_type": "code",
   "execution_count": 11,
   "metadata": {},
   "outputs": [
    {
     "data": {
      "text/html": [
       "<div>\n",
       "<style scoped>\n",
       "    .dataframe tbody tr th:only-of-type {\n",
       "        vertical-align: middle;\n",
       "    }\n",
       "\n",
       "    .dataframe tbody tr th {\n",
       "        vertical-align: top;\n",
       "    }\n",
       "\n",
       "    .dataframe thead th {\n",
       "        text-align: right;\n",
       "    }\n",
       "</style>\n",
       "<table border=\"1\" class=\"dataframe\">\n",
       "  <thead>\n",
       "    <tr style=\"text-align: right;\">\n",
       "      <th></th>\n",
       "      <th>date</th>\n",
       "    </tr>\n",
       "  </thead>\n",
       "  <tbody>\n",
       "    <tr>\n",
       "      <th>0</th>\n",
       "      <td>2008-08-17 00:00:00</td>\n",
       "    </tr>\n",
       "    <tr>\n",
       "      <th>1</th>\n",
       "      <td>2008-08-16 00:00:00</td>\n",
       "    </tr>\n",
       "    <tr>\n",
       "      <th>2</th>\n",
       "      <td>2008-08-16 00:00:00</td>\n",
       "    </tr>\n",
       "    <tr>\n",
       "      <th>3</th>\n",
       "      <td>2008-08-17 00:00:00</td>\n",
       "    </tr>\n",
       "    <tr>\n",
       "      <th>4</th>\n",
       "      <td>2008-08-16 00:00:00</td>\n",
       "    </tr>\n",
       "  </tbody>\n",
       "</table>\n",
       "</div>"
      ],
      "text/plain": [
       "                  date\n",
       "0  2008-08-17 00:00:00\n",
       "1  2008-08-16 00:00:00\n",
       "2  2008-08-16 00:00:00\n",
       "3  2008-08-17 00:00:00\n",
       "4  2008-08-16 00:00:00"
      ]
     },
     "execution_count": 11,
     "metadata": {},
     "output_type": "execute_result"
    }
   ],
   "source": [
    "# Get all the dates from the database\n",
    "date_df = pd.read_sql_query(\"SELECT date from match\", database)\n",
    "date_df.head()"
   ]
  },
  {
   "cell_type": "code",
   "execution_count": 12,
   "metadata": {},
   "outputs": [
    {
     "data": {
      "text/html": [
       "<div>\n",
       "<style scoped>\n",
       "    .dataframe tbody tr th:only-of-type {\n",
       "        vertical-align: middle;\n",
       "    }\n",
       "\n",
       "    .dataframe tbody tr th {\n",
       "        vertical-align: top;\n",
       "    }\n",
       "\n",
       "    .dataframe thead th {\n",
       "        text-align: right;\n",
       "    }\n",
       "</style>\n",
       "<table border=\"1\" class=\"dataframe\">\n",
       "  <thead>\n",
       "    <tr style=\"text-align: right;\">\n",
       "      <th></th>\n",
       "      <th>date</th>\n",
       "    </tr>\n",
       "  </thead>\n",
       "  <tbody>\n",
       "    <tr>\n",
       "      <th>0</th>\n",
       "      <td>2008</td>\n",
       "    </tr>\n",
       "    <tr>\n",
       "      <th>1</th>\n",
       "      <td>2008</td>\n",
       "    </tr>\n",
       "    <tr>\n",
       "      <th>2</th>\n",
       "      <td>2008</td>\n",
       "    </tr>\n",
       "    <tr>\n",
       "      <th>3</th>\n",
       "      <td>2008</td>\n",
       "    </tr>\n",
       "    <tr>\n",
       "      <th>4</th>\n",
       "      <td>2008</td>\n",
       "    </tr>\n",
       "  </tbody>\n",
       "</table>\n",
       "</div>"
      ],
      "text/plain": [
       "   date\n",
       "0  2008\n",
       "1  2008\n",
       "2  2008\n",
       "3  2008\n",
       "4  2008"
      ]
     },
     "execution_count": 12,
     "metadata": {},
     "output_type": "execute_result"
    }
   ],
   "source": [
    "# Extracting the year from the date attribute\n",
    "date_df[\"date\"] = date_df[\"date\"].str.extract('(\\d+)', expand=False).astype(float).astype(int)\n",
    "date_df.head()"
   ]
  },
  {
   "cell_type": "code",
   "execution_count": 13,
   "metadata": {},
   "outputs": [
    {
     "data": {
      "text/plain": [
       "2008"
      ]
     },
     "execution_count": 13,
     "metadata": {},
     "output_type": "execute_result"
    }
   ],
   "source": [
    "# Obtaining the min year\n",
    "min_year = date_df[\"date\"].min()\n",
    "min_year"
   ]
  },
  {
   "cell_type": "markdown",
   "metadata": {},
   "source": [
    "# Manipulate date attribute\n",
    "\n",
    "After obtaining the min year, we can use it to manipulate the date attribute by subtracting every year by the min year obtained"
   ]
  },
  {
   "cell_type": "code",
   "execution_count": 14,
   "metadata": {},
   "outputs": [
    {
     "data": {
      "text/html": [
       "<div>\n",
       "<style scoped>\n",
       "    .dataframe tbody tr th:only-of-type {\n",
       "        vertical-align: middle;\n",
       "    }\n",
       "\n",
       "    .dataframe tbody tr th {\n",
       "        vertical-align: top;\n",
       "    }\n",
       "\n",
       "    .dataframe thead th {\n",
       "        text-align: right;\n",
       "    }\n",
       "</style>\n",
       "<table border=\"1\" class=\"dataframe\">\n",
       "  <thead>\n",
       "    <tr style=\"text-align: right;\">\n",
       "      <th></th>\n",
       "      <th>date</th>\n",
       "      <th>opponent_team_id</th>\n",
       "      <th>barca_goals</th>\n",
       "      <th>position_X1</th>\n",
       "      <th>position_X2</th>\n",
       "      <th>position_X3</th>\n",
       "      <th>position_X4</th>\n",
       "      <th>position_X5</th>\n",
       "      <th>position_X6</th>\n",
       "      <th>position_X7</th>\n",
       "      <th>position_X8</th>\n",
       "      <th>position_X9</th>\n",
       "      <th>position_X10</th>\n",
       "      <th>position_X11</th>\n",
       "      <th>home_away</th>\n",
       "    </tr>\n",
       "  </thead>\n",
       "  <tbody>\n",
       "    <tr>\n",
       "      <th>0</th>\n",
       "      <td>0</td>\n",
       "      <td>10281</td>\n",
       "      <td>6</td>\n",
       "      <td>1</td>\n",
       "      <td>2</td>\n",
       "      <td>4</td>\n",
       "      <td>6</td>\n",
       "      <td>8</td>\n",
       "      <td>3</td>\n",
       "      <td>5</td>\n",
       "      <td>7</td>\n",
       "      <td>3</td>\n",
       "      <td>5</td>\n",
       "      <td>7</td>\n",
       "      <td>0</td>\n",
       "    </tr>\n",
       "    <tr>\n",
       "      <th>1</th>\n",
       "      <td>0</td>\n",
       "      <td>8305</td>\n",
       "      <td>1</td>\n",
       "      <td>1</td>\n",
       "      <td>2</td>\n",
       "      <td>4</td>\n",
       "      <td>6</td>\n",
       "      <td>8</td>\n",
       "      <td>3</td>\n",
       "      <td>5</td>\n",
       "      <td>7</td>\n",
       "      <td>3</td>\n",
       "      <td>5</td>\n",
       "      <td>7</td>\n",
       "      <td>0</td>\n",
       "    </tr>\n",
       "    <tr>\n",
       "      <th>2</th>\n",
       "      <td>0</td>\n",
       "      <td>10267</td>\n",
       "      <td>4</td>\n",
       "      <td>1</td>\n",
       "      <td>2</td>\n",
       "      <td>4</td>\n",
       "      <td>6</td>\n",
       "      <td>8</td>\n",
       "      <td>3</td>\n",
       "      <td>5</td>\n",
       "      <td>7</td>\n",
       "      <td>3</td>\n",
       "      <td>5</td>\n",
       "      <td>7</td>\n",
       "      <td>0</td>\n",
       "    </tr>\n",
       "    <tr>\n",
       "      <th>3</th>\n",
       "      <td>0</td>\n",
       "      <td>8633</td>\n",
       "      <td>2</td>\n",
       "      <td>1</td>\n",
       "      <td>2</td>\n",
       "      <td>4</td>\n",
       "      <td>6</td>\n",
       "      <td>8</td>\n",
       "      <td>4</td>\n",
       "      <td>6</td>\n",
       "      <td>2</td>\n",
       "      <td>8</td>\n",
       "      <td>4</td>\n",
       "      <td>6</td>\n",
       "      <td>0</td>\n",
       "    </tr>\n",
       "    <tr>\n",
       "      <th>4</th>\n",
       "      <td>1</td>\n",
       "      <td>8661</td>\n",
       "      <td>3</td>\n",
       "      <td>1</td>\n",
       "      <td>2</td>\n",
       "      <td>4</td>\n",
       "      <td>6</td>\n",
       "      <td>8</td>\n",
       "      <td>3</td>\n",
       "      <td>5</td>\n",
       "      <td>7</td>\n",
       "      <td>3</td>\n",
       "      <td>5</td>\n",
       "      <td>7</td>\n",
       "      <td>0</td>\n",
       "    </tr>\n",
       "  </tbody>\n",
       "</table>\n",
       "</div>"
      ],
      "text/plain": [
       "   date  opponent_team_id  barca_goals  position_X1  position_X2  position_X3  \\\n",
       "0     0             10281            6            1            2            4   \n",
       "1     0              8305            1            1            2            4   \n",
       "2     0             10267            4            1            2            4   \n",
       "3     0              8633            2            1            2            4   \n",
       "4     1              8661            3            1            2            4   \n",
       "\n",
       "   position_X4  position_X5  position_X6  position_X7  position_X8  \\\n",
       "0            6            8            3            5            7   \n",
       "1            6            8            3            5            7   \n",
       "2            6            8            3            5            7   \n",
       "3            6            8            4            6            2   \n",
       "4            6            8            3            5            7   \n",
       "\n",
       "   position_X9  position_X10  position_X11  home_away  \n",
       "0            3             5             7          0  \n",
       "1            3             5             7          0  \n",
       "2            3             5             7          0  \n",
       "3            8             4             6          0  \n",
       "4            3             5             7          0  "
      ]
     },
     "execution_count": 14,
     "metadata": {},
     "output_type": "execute_result"
    }
   ],
   "source": [
    "# maniuplate the date attribute\n",
    "home_matches_df[\"date\"] = home_matches_df[\"date\"].str.extract('(\\d+)', expand=False).astype(float).astype(int) - min_year\n",
    "away_matches_df[\"date\"] = away_matches_df[\"date\"].str.extract('(\\d+)', expand=False).astype(float).astype(int) - min_year\n",
    "\n",
    "home_matches_df.head()"
   ]
  },
  {
   "cell_type": "markdown",
   "metadata": {},
   "source": [
    "# Concatenate home and away matches"
   ]
  },
  {
   "cell_type": "code",
   "execution_count": 15,
   "metadata": {},
   "outputs": [
    {
     "data": {
      "text/html": [
       "<div>\n",
       "<style scoped>\n",
       "    .dataframe tbody tr th:only-of-type {\n",
       "        vertical-align: middle;\n",
       "    }\n",
       "\n",
       "    .dataframe tbody tr th {\n",
       "        vertical-align: top;\n",
       "    }\n",
       "\n",
       "    .dataframe thead th {\n",
       "        text-align: right;\n",
       "    }\n",
       "</style>\n",
       "<table border=\"1\" class=\"dataframe\">\n",
       "  <thead>\n",
       "    <tr style=\"text-align: right;\">\n",
       "      <th></th>\n",
       "      <th>date</th>\n",
       "      <th>opponent_team_id</th>\n",
       "      <th>barca_goals</th>\n",
       "      <th>position_X1</th>\n",
       "      <th>position_X2</th>\n",
       "      <th>position_X3</th>\n",
       "      <th>position_X4</th>\n",
       "      <th>position_X5</th>\n",
       "      <th>position_X6</th>\n",
       "      <th>position_X7</th>\n",
       "      <th>position_X8</th>\n",
       "      <th>position_X9</th>\n",
       "      <th>position_X10</th>\n",
       "      <th>position_X11</th>\n",
       "      <th>home_away</th>\n",
       "    </tr>\n",
       "  </thead>\n",
       "  <tbody>\n",
       "    <tr>\n",
       "      <th>0</th>\n",
       "      <td>0</td>\n",
       "      <td>10281</td>\n",
       "      <td>6</td>\n",
       "      <td>1</td>\n",
       "      <td>2</td>\n",
       "      <td>4</td>\n",
       "      <td>6</td>\n",
       "      <td>8</td>\n",
       "      <td>3</td>\n",
       "      <td>5</td>\n",
       "      <td>7</td>\n",
       "      <td>3</td>\n",
       "      <td>5</td>\n",
       "      <td>7</td>\n",
       "      <td>0</td>\n",
       "    </tr>\n",
       "    <tr>\n",
       "      <th>1</th>\n",
       "      <td>0</td>\n",
       "      <td>8305</td>\n",
       "      <td>1</td>\n",
       "      <td>1</td>\n",
       "      <td>2</td>\n",
       "      <td>4</td>\n",
       "      <td>6</td>\n",
       "      <td>8</td>\n",
       "      <td>3</td>\n",
       "      <td>5</td>\n",
       "      <td>7</td>\n",
       "      <td>3</td>\n",
       "      <td>5</td>\n",
       "      <td>7</td>\n",
       "      <td>0</td>\n",
       "    </tr>\n",
       "    <tr>\n",
       "      <th>2</th>\n",
       "      <td>0</td>\n",
       "      <td>10267</td>\n",
       "      <td>4</td>\n",
       "      <td>1</td>\n",
       "      <td>2</td>\n",
       "      <td>4</td>\n",
       "      <td>6</td>\n",
       "      <td>8</td>\n",
       "      <td>3</td>\n",
       "      <td>5</td>\n",
       "      <td>7</td>\n",
       "      <td>3</td>\n",
       "      <td>5</td>\n",
       "      <td>7</td>\n",
       "      <td>0</td>\n",
       "    </tr>\n",
       "    <tr>\n",
       "      <th>3</th>\n",
       "      <td>0</td>\n",
       "      <td>8633</td>\n",
       "      <td>2</td>\n",
       "      <td>1</td>\n",
       "      <td>2</td>\n",
       "      <td>4</td>\n",
       "      <td>6</td>\n",
       "      <td>8</td>\n",
       "      <td>4</td>\n",
       "      <td>6</td>\n",
       "      <td>2</td>\n",
       "      <td>8</td>\n",
       "      <td>4</td>\n",
       "      <td>6</td>\n",
       "      <td>0</td>\n",
       "    </tr>\n",
       "    <tr>\n",
       "      <th>4</th>\n",
       "      <td>1</td>\n",
       "      <td>8661</td>\n",
       "      <td>3</td>\n",
       "      <td>1</td>\n",
       "      <td>2</td>\n",
       "      <td>4</td>\n",
       "      <td>6</td>\n",
       "      <td>8</td>\n",
       "      <td>3</td>\n",
       "      <td>5</td>\n",
       "      <td>7</td>\n",
       "      <td>3</td>\n",
       "      <td>5</td>\n",
       "      <td>7</td>\n",
       "      <td>0</td>\n",
       "    </tr>\n",
       "  </tbody>\n",
       "</table>\n",
       "</div>"
      ],
      "text/plain": [
       "   date  opponent_team_id  barca_goals  position_X1  position_X2  position_X3  \\\n",
       "0     0             10281            6            1            2            4   \n",
       "1     0              8305            1            1            2            4   \n",
       "2     0             10267            4            1            2            4   \n",
       "3     0              8633            2            1            2            4   \n",
       "4     1              8661            3            1            2            4   \n",
       "\n",
       "   position_X4  position_X5  position_X6  position_X7  position_X8  \\\n",
       "0            6            8            3            5            7   \n",
       "1            6            8            3            5            7   \n",
       "2            6            8            3            5            7   \n",
       "3            6            8            4            6            2   \n",
       "4            6            8            3            5            7   \n",
       "\n",
       "   position_X9  position_X10  position_X11  home_away  \n",
       "0            3             5             7          0  \n",
       "1            3             5             7          0  \n",
       "2            3             5             7          0  \n",
       "3            8             4             6          0  \n",
       "4            3             5             7          0  "
      ]
     },
     "execution_count": 15,
     "metadata": {},
     "output_type": "execute_result"
    }
   ],
   "source": [
    "# Concatenate home and away matches\n",
    "all_matches_df = pd.concat([home_matches_df, away_matches_df])\n",
    "\n",
    "all_matches_df.head()"
   ]
  },
  {
   "cell_type": "markdown",
   "metadata": {},
   "source": [
    "# Create 2 datasets, one with a dataset that Encodes the players' numbers with the one hot encoding method, and the other without player data\n",
    "\n",
    "The fact that players are presented using numbers can give the machine learning model a false indication of a correlation between the number's value and the prediction. Therefore, it's safer to one hot encode each player column. The player column indicates the position for a player.\n",
    "\n",
    "The one hot encoding part is imported from the sklearn preprocessing library."
   ]
  },
  {
   "cell_type": "code",
   "execution_count": 159,
   "metadata": {},
   "outputs": [],
   "source": [
    "from feature_engine.categorical_encoders import OneHotCategoricalEncoder\n",
    "import re"
   ]
  },
  {
   "cell_type": "markdown",
   "metadata": {},
   "source": [
    "# We have to make sure there are no null values\n",
    "\n",
    "Luckily, there are not any missing values in our dataset."
   ]
  },
  {
   "cell_type": "code",
   "execution_count": 160,
   "metadata": {},
   "outputs": [
    {
     "name": "stdout",
     "output_type": "stream",
     "text": [
      "date                0\n",
      "opponent_team_id    0\n",
      "barca_goals         0\n",
      "position_X1         0\n",
      "position_X2         0\n",
      "position_X3         0\n",
      "position_X4         0\n",
      "position_X5         0\n",
      "position_X6         0\n",
      "position_X7         0\n",
      "position_X8         0\n",
      "position_X9         0\n",
      "position_X10        0\n",
      "position_X11        0\n",
      "home_away           0\n",
      "dtype: int64\n"
     ]
    }
   ],
   "source": [
    "print(all_matches_df.isnull().sum());"
   ]
  },
  {
   "cell_type": "markdown",
   "metadata": {},
   "source": [
    "# Now let's fit and transform the data using the one hot encoder"
   ]
  },
  {
   "cell_type": "code",
   "execution_count": 168,
   "metadata": {},
   "outputs": [
    {
     "data": {
      "text/html": [
       "<div>\n",
       "<style scoped>\n",
       "    .dataframe tbody tr th:only-of-type {\n",
       "        vertical-align: middle;\n",
       "    }\n",
       "\n",
       "    .dataframe tbody tr th {\n",
       "        vertical-align: top;\n",
       "    }\n",
       "\n",
       "    .dataframe thead th {\n",
       "        text-align: right;\n",
       "    }\n",
       "</style>\n",
       "<table border=\"1\" class=\"dataframe\">\n",
       "  <thead>\n",
       "    <tr style=\"text-align: right;\">\n",
       "      <th></th>\n",
       "      <th>opponent_team_id_10281</th>\n",
       "      <th>opponent_team_id_8305</th>\n",
       "      <th>opponent_team_id_10267</th>\n",
       "      <th>opponent_team_id_8633</th>\n",
       "      <th>opponent_team_id_8661</th>\n",
       "      <th>opponent_team_id_9783</th>\n",
       "      <th>opponent_team_id_8696</th>\n",
       "      <th>opponent_team_id_8388</th>\n",
       "      <th>opponent_team_id_9869</th>\n",
       "      <th>opponent_team_id_8558</th>\n",
       "      <th>...</th>\n",
       "      <th>position_X9_6</th>\n",
       "      <th>position_X10_5</th>\n",
       "      <th>position_X10_4</th>\n",
       "      <th>position_X10_7</th>\n",
       "      <th>position_X10_6</th>\n",
       "      <th>position_X10_8</th>\n",
       "      <th>position_X11_7</th>\n",
       "      <th>position_X11_6</th>\n",
       "      <th>position_X11_5</th>\n",
       "      <th>position_X11_3</th>\n",
       "    </tr>\n",
       "  </thead>\n",
       "  <tbody>\n",
       "    <tr>\n",
       "      <th>0</th>\n",
       "      <td>1</td>\n",
       "      <td>0</td>\n",
       "      <td>0</td>\n",
       "      <td>0</td>\n",
       "      <td>0</td>\n",
       "      <td>0</td>\n",
       "      <td>0</td>\n",
       "      <td>0</td>\n",
       "      <td>0</td>\n",
       "      <td>0</td>\n",
       "      <td>...</td>\n",
       "      <td>0</td>\n",
       "      <td>1</td>\n",
       "      <td>0</td>\n",
       "      <td>0</td>\n",
       "      <td>0</td>\n",
       "      <td>0</td>\n",
       "      <td>1</td>\n",
       "      <td>0</td>\n",
       "      <td>0</td>\n",
       "      <td>0</td>\n",
       "    </tr>\n",
       "    <tr>\n",
       "      <th>1</th>\n",
       "      <td>0</td>\n",
       "      <td>1</td>\n",
       "      <td>0</td>\n",
       "      <td>0</td>\n",
       "      <td>0</td>\n",
       "      <td>0</td>\n",
       "      <td>0</td>\n",
       "      <td>0</td>\n",
       "      <td>0</td>\n",
       "      <td>0</td>\n",
       "      <td>...</td>\n",
       "      <td>0</td>\n",
       "      <td>1</td>\n",
       "      <td>0</td>\n",
       "      <td>0</td>\n",
       "      <td>0</td>\n",
       "      <td>0</td>\n",
       "      <td>1</td>\n",
       "      <td>0</td>\n",
       "      <td>0</td>\n",
       "      <td>0</td>\n",
       "    </tr>\n",
       "    <tr>\n",
       "      <th>2</th>\n",
       "      <td>0</td>\n",
       "      <td>0</td>\n",
       "      <td>1</td>\n",
       "      <td>0</td>\n",
       "      <td>0</td>\n",
       "      <td>0</td>\n",
       "      <td>0</td>\n",
       "      <td>0</td>\n",
       "      <td>0</td>\n",
       "      <td>0</td>\n",
       "      <td>...</td>\n",
       "      <td>0</td>\n",
       "      <td>1</td>\n",
       "      <td>0</td>\n",
       "      <td>0</td>\n",
       "      <td>0</td>\n",
       "      <td>0</td>\n",
       "      <td>1</td>\n",
       "      <td>0</td>\n",
       "      <td>0</td>\n",
       "      <td>0</td>\n",
       "    </tr>\n",
       "    <tr>\n",
       "      <th>3</th>\n",
       "      <td>0</td>\n",
       "      <td>0</td>\n",
       "      <td>0</td>\n",
       "      <td>1</td>\n",
       "      <td>0</td>\n",
       "      <td>0</td>\n",
       "      <td>0</td>\n",
       "      <td>0</td>\n",
       "      <td>0</td>\n",
       "      <td>0</td>\n",
       "      <td>...</td>\n",
       "      <td>0</td>\n",
       "      <td>0</td>\n",
       "      <td>1</td>\n",
       "      <td>0</td>\n",
       "      <td>0</td>\n",
       "      <td>0</td>\n",
       "      <td>0</td>\n",
       "      <td>1</td>\n",
       "      <td>0</td>\n",
       "      <td>0</td>\n",
       "    </tr>\n",
       "    <tr>\n",
       "      <th>4</th>\n",
       "      <td>0</td>\n",
       "      <td>0</td>\n",
       "      <td>0</td>\n",
       "      <td>0</td>\n",
       "      <td>1</td>\n",
       "      <td>0</td>\n",
       "      <td>0</td>\n",
       "      <td>0</td>\n",
       "      <td>0</td>\n",
       "      <td>0</td>\n",
       "      <td>...</td>\n",
       "      <td>0</td>\n",
       "      <td>1</td>\n",
       "      <td>0</td>\n",
       "      <td>0</td>\n",
       "      <td>0</td>\n",
       "      <td>0</td>\n",
       "      <td>1</td>\n",
       "      <td>0</td>\n",
       "      <td>0</td>\n",
       "      <td>0</td>\n",
       "    </tr>\n",
       "  </tbody>\n",
       "</table>\n",
       "<p>5 rows × 80 columns</p>\n",
       "</div>"
      ],
      "text/plain": [
       "   opponent_team_id_10281  opponent_team_id_8305  opponent_team_id_10267  \\\n",
       "0                       1                      0                       0   \n",
       "1                       0                      1                       0   \n",
       "2                       0                      0                       1   \n",
       "3                       0                      0                       0   \n",
       "4                       0                      0                       0   \n",
       "\n",
       "   opponent_team_id_8633  opponent_team_id_8661  opponent_team_id_9783  \\\n",
       "0                      0                      0                      0   \n",
       "1                      0                      0                      0   \n",
       "2                      0                      0                      0   \n",
       "3                      1                      0                      0   \n",
       "4                      0                      1                      0   \n",
       "\n",
       "   opponent_team_id_8696  opponent_team_id_8388  opponent_team_id_9869  \\\n",
       "0                      0                      0                      0   \n",
       "1                      0                      0                      0   \n",
       "2                      0                      0                      0   \n",
       "3                      0                      0                      0   \n",
       "4                      0                      0                      0   \n",
       "\n",
       "   opponent_team_id_8558  ...  position_X9_6  position_X10_5  position_X10_4  \\\n",
       "0                      0  ...              0               1               0   \n",
       "1                      0  ...              0               1               0   \n",
       "2                      0  ...              0               1               0   \n",
       "3                      0  ...              0               0               1   \n",
       "4                      0  ...              0               1               0   \n",
       "\n",
       "   position_X10_7  position_X10_6  position_X10_8  position_X11_7  \\\n",
       "0               0               0               0               1   \n",
       "1               0               0               0               1   \n",
       "2               0               0               0               1   \n",
       "3               0               0               0               0   \n",
       "4               0               0               0               1   \n",
       "\n",
       "   position_X11_6  position_X11_5  position_X11_3  \n",
       "0               0               0               0  \n",
       "1               0               0               0  \n",
       "2               0               0               0  \n",
       "3               1               0               0  \n",
       "4               0               0               0  \n",
       "\n",
       "[5 rows x 80 columns]"
      ]
     },
     "execution_count": 168,
     "metadata": {},
     "output_type": "execute_result"
    }
   ],
   "source": [
    "# initialize the one hot encoder\n",
    "one_hot_encoder = OneHotCategoricalEncoder()\n",
    "\n",
    "# get the columns that contain players and their positions, since they're the ones that are one hot encoded\n",
    "columns = all_matches_df.columns\n",
    "\n",
    "# the player columns are stored in the player_columns array\n",
    "categorical_columns = []\n",
    "\n",
    "for column in columns:\n",
    "    if(re.match(\"position.*\", column) or re.match(\"opponent.*\", column)):\n",
    "        categorical_columns += [column]\n",
    "\n",
    "# get the corresponding columns from the all matches data frame\n",
    "categorical_columns_df = all_matches_df.copy()[categorical_columns]\n",
    "\n",
    "# fit and transform the one hot encoder to the player data\n",
    "encoded_categorical_columns_df = one_hot_encoder.fit_transform(categorical_columns_df.astype(str))\n",
    "\n",
    "encoded_categorical_columns_df.head()"
   ]
  },
  {
   "cell_type": "markdown",
   "metadata": {},
   "source": [
    "# Now lets get our 2 datasets\n",
    "Version 1 of the data will only contain the date, opponent team id, barca goals, and whether the game was home or away.\n",
    "\n",
    "Version 2 will contain the data in version 1 but also with players data. "
   ]
  },
  {
   "cell_type": "code",
   "execution_count": 169,
   "metadata": {},
   "outputs": [],
   "source": [
    "all_matches_df_v2 = all_matches_df.copy()\n",
    "\n",
    "all_matches_df_v2 = all_matches_df_v2.drop(categorical_columns, axis=1)\n",
    "\n",
    "all_matches_df_v1 = all_matches_df_v2.copy()\n",
    "\n",
    "# version 2 of the dataset has information about the players with their positions\n",
    "all_matches_df_v2 = pd.concat([all_matches_df_v2, encoded_categorical_columns_df], axis = 1)\n",
    "\n",
    "categorical_columns = []\n",
    "\n",
    "for column in encoded_categorical_columns_df.columns :\n",
    "    if(re.match(\"position.*\", column)):\n",
    "        categorical_columns += [column]\n",
    "\n",
    "encoded_columns_no_positions_df = encoded_categorical_columns_df.drop(categorical_columns, axis=1)\n",
    "\n",
    "# version 1 of the dataset has no information about the players\n",
    "all_matches_df_v1 = pd.concat([all_matches_df_v1, encoded_columns_no_positions_df], axis = 1)"
   ]
  },
  {
   "cell_type": "code",
   "execution_count": 170,
   "metadata": {},
   "outputs": [
    {
     "data": {
      "text/html": [
       "<div>\n",
       "<style scoped>\n",
       "    .dataframe tbody tr th:only-of-type {\n",
       "        vertical-align: middle;\n",
       "    }\n",
       "\n",
       "    .dataframe tbody tr th {\n",
       "        vertical-align: top;\n",
       "    }\n",
       "\n",
       "    .dataframe thead th {\n",
       "        text-align: right;\n",
       "    }\n",
       "</style>\n",
       "<table border=\"1\" class=\"dataframe\">\n",
       "  <thead>\n",
       "    <tr style=\"text-align: right;\">\n",
       "      <th></th>\n",
       "      <th>date</th>\n",
       "      <th>barca_goals</th>\n",
       "      <th>home_away</th>\n",
       "      <th>opponent_team_id_10281</th>\n",
       "      <th>opponent_team_id_8305</th>\n",
       "      <th>opponent_team_id_10267</th>\n",
       "      <th>opponent_team_id_8633</th>\n",
       "      <th>opponent_team_id_8661</th>\n",
       "      <th>opponent_team_id_9783</th>\n",
       "      <th>opponent_team_id_8696</th>\n",
       "      <th>...</th>\n",
       "      <th>opponent_team_id_8560</th>\n",
       "      <th>opponent_team_id_8581</th>\n",
       "      <th>opponent_team_id_10278</th>\n",
       "      <th>opponent_team_id_8370</th>\n",
       "      <th>opponent_team_id_7878</th>\n",
       "      <th>opponent_team_id_9910</th>\n",
       "      <th>opponent_team_id_10268</th>\n",
       "      <th>opponent_team_id_7869</th>\n",
       "      <th>opponent_team_id_8372</th>\n",
       "      <th>opponent_team_id_8306</th>\n",
       "    </tr>\n",
       "  </thead>\n",
       "  <tbody>\n",
       "    <tr>\n",
       "      <th>0</th>\n",
       "      <td>0</td>\n",
       "      <td>6</td>\n",
       "      <td>0</td>\n",
       "      <td>1</td>\n",
       "      <td>0</td>\n",
       "      <td>0</td>\n",
       "      <td>0</td>\n",
       "      <td>0</td>\n",
       "      <td>0</td>\n",
       "      <td>0</td>\n",
       "      <td>...</td>\n",
       "      <td>0</td>\n",
       "      <td>0</td>\n",
       "      <td>0</td>\n",
       "      <td>0</td>\n",
       "      <td>0</td>\n",
       "      <td>0</td>\n",
       "      <td>0</td>\n",
       "      <td>0</td>\n",
       "      <td>0</td>\n",
       "      <td>0</td>\n",
       "    </tr>\n",
       "    <tr>\n",
       "      <th>1</th>\n",
       "      <td>0</td>\n",
       "      <td>1</td>\n",
       "      <td>0</td>\n",
       "      <td>0</td>\n",
       "      <td>1</td>\n",
       "      <td>0</td>\n",
       "      <td>0</td>\n",
       "      <td>0</td>\n",
       "      <td>0</td>\n",
       "      <td>0</td>\n",
       "      <td>...</td>\n",
       "      <td>0</td>\n",
       "      <td>0</td>\n",
       "      <td>0</td>\n",
       "      <td>0</td>\n",
       "      <td>0</td>\n",
       "      <td>0</td>\n",
       "      <td>0</td>\n",
       "      <td>0</td>\n",
       "      <td>0</td>\n",
       "      <td>0</td>\n",
       "    </tr>\n",
       "    <tr>\n",
       "      <th>2</th>\n",
       "      <td>0</td>\n",
       "      <td>4</td>\n",
       "      <td>0</td>\n",
       "      <td>0</td>\n",
       "      <td>0</td>\n",
       "      <td>1</td>\n",
       "      <td>0</td>\n",
       "      <td>0</td>\n",
       "      <td>0</td>\n",
       "      <td>0</td>\n",
       "      <td>...</td>\n",
       "      <td>0</td>\n",
       "      <td>0</td>\n",
       "      <td>0</td>\n",
       "      <td>0</td>\n",
       "      <td>0</td>\n",
       "      <td>0</td>\n",
       "      <td>0</td>\n",
       "      <td>0</td>\n",
       "      <td>0</td>\n",
       "      <td>0</td>\n",
       "    </tr>\n",
       "    <tr>\n",
       "      <th>3</th>\n",
       "      <td>0</td>\n",
       "      <td>2</td>\n",
       "      <td>0</td>\n",
       "      <td>0</td>\n",
       "      <td>0</td>\n",
       "      <td>0</td>\n",
       "      <td>1</td>\n",
       "      <td>0</td>\n",
       "      <td>0</td>\n",
       "      <td>0</td>\n",
       "      <td>...</td>\n",
       "      <td>0</td>\n",
       "      <td>0</td>\n",
       "      <td>0</td>\n",
       "      <td>0</td>\n",
       "      <td>0</td>\n",
       "      <td>0</td>\n",
       "      <td>0</td>\n",
       "      <td>0</td>\n",
       "      <td>0</td>\n",
       "      <td>0</td>\n",
       "    </tr>\n",
       "    <tr>\n",
       "      <th>4</th>\n",
       "      <td>1</td>\n",
       "      <td>3</td>\n",
       "      <td>0</td>\n",
       "      <td>0</td>\n",
       "      <td>0</td>\n",
       "      <td>0</td>\n",
       "      <td>0</td>\n",
       "      <td>1</td>\n",
       "      <td>0</td>\n",
       "      <td>0</td>\n",
       "      <td>...</td>\n",
       "      <td>0</td>\n",
       "      <td>0</td>\n",
       "      <td>0</td>\n",
       "      <td>0</td>\n",
       "      <td>0</td>\n",
       "      <td>0</td>\n",
       "      <td>0</td>\n",
       "      <td>0</td>\n",
       "      <td>0</td>\n",
       "      <td>0</td>\n",
       "    </tr>\n",
       "  </tbody>\n",
       "</table>\n",
       "<p>5 rows × 35 columns</p>\n",
       "</div>"
      ],
      "text/plain": [
       "   date  barca_goals  home_away  opponent_team_id_10281  \\\n",
       "0     0            6          0                       1   \n",
       "1     0            1          0                       0   \n",
       "2     0            4          0                       0   \n",
       "3     0            2          0                       0   \n",
       "4     1            3          0                       0   \n",
       "\n",
       "   opponent_team_id_8305  opponent_team_id_10267  opponent_team_id_8633  \\\n",
       "0                      0                       0                      0   \n",
       "1                      1                       0                      0   \n",
       "2                      0                       1                      0   \n",
       "3                      0                       0                      1   \n",
       "4                      0                       0                      0   \n",
       "\n",
       "   opponent_team_id_8661  opponent_team_id_9783  opponent_team_id_8696  ...  \\\n",
       "0                      0                      0                      0  ...   \n",
       "1                      0                      0                      0  ...   \n",
       "2                      0                      0                      0  ...   \n",
       "3                      0                      0                      0  ...   \n",
       "4                      1                      0                      0  ...   \n",
       "\n",
       "   opponent_team_id_8560  opponent_team_id_8581  opponent_team_id_10278  \\\n",
       "0                      0                      0                       0   \n",
       "1                      0                      0                       0   \n",
       "2                      0                      0                       0   \n",
       "3                      0                      0                       0   \n",
       "4                      0                      0                       0   \n",
       "\n",
       "   opponent_team_id_8370  opponent_team_id_7878  opponent_team_id_9910  \\\n",
       "0                      0                      0                      0   \n",
       "1                      0                      0                      0   \n",
       "2                      0                      0                      0   \n",
       "3                      0                      0                      0   \n",
       "4                      0                      0                      0   \n",
       "\n",
       "   opponent_team_id_10268  opponent_team_id_7869  opponent_team_id_8372  \\\n",
       "0                       0                      0                      0   \n",
       "1                       0                      0                      0   \n",
       "2                       0                      0                      0   \n",
       "3                       0                      0                      0   \n",
       "4                       0                      0                      0   \n",
       "\n",
       "   opponent_team_id_8306  \n",
       "0                      0  \n",
       "1                      0  \n",
       "2                      0  \n",
       "3                      0  \n",
       "4                      0  \n",
       "\n",
       "[5 rows x 35 columns]"
      ]
     },
     "execution_count": 170,
     "metadata": {},
     "output_type": "execute_result"
    }
   ],
   "source": [
    "all_matches_df_v1.head()"
   ]
  },
  {
   "cell_type": "code",
   "execution_count": 171,
   "metadata": {},
   "outputs": [
    {
     "data": {
      "text/html": [
       "<div>\n",
       "<style scoped>\n",
       "    .dataframe tbody tr th:only-of-type {\n",
       "        vertical-align: middle;\n",
       "    }\n",
       "\n",
       "    .dataframe tbody tr th {\n",
       "        vertical-align: top;\n",
       "    }\n",
       "\n",
       "    .dataframe thead th {\n",
       "        text-align: right;\n",
       "    }\n",
       "</style>\n",
       "<table border=\"1\" class=\"dataframe\">\n",
       "  <thead>\n",
       "    <tr style=\"text-align: right;\">\n",
       "      <th></th>\n",
       "      <th>date</th>\n",
       "      <th>barca_goals</th>\n",
       "      <th>home_away</th>\n",
       "      <th>opponent_team_id_10281</th>\n",
       "      <th>opponent_team_id_8305</th>\n",
       "      <th>opponent_team_id_10267</th>\n",
       "      <th>opponent_team_id_8633</th>\n",
       "      <th>opponent_team_id_8661</th>\n",
       "      <th>opponent_team_id_9783</th>\n",
       "      <th>opponent_team_id_8696</th>\n",
       "      <th>...</th>\n",
       "      <th>position_X9_6</th>\n",
       "      <th>position_X10_5</th>\n",
       "      <th>position_X10_4</th>\n",
       "      <th>position_X10_7</th>\n",
       "      <th>position_X10_6</th>\n",
       "      <th>position_X10_8</th>\n",
       "      <th>position_X11_7</th>\n",
       "      <th>position_X11_6</th>\n",
       "      <th>position_X11_5</th>\n",
       "      <th>position_X11_3</th>\n",
       "    </tr>\n",
       "  </thead>\n",
       "  <tbody>\n",
       "    <tr>\n",
       "      <th>0</th>\n",
       "      <td>0</td>\n",
       "      <td>6</td>\n",
       "      <td>0</td>\n",
       "      <td>1</td>\n",
       "      <td>0</td>\n",
       "      <td>0</td>\n",
       "      <td>0</td>\n",
       "      <td>0</td>\n",
       "      <td>0</td>\n",
       "      <td>0</td>\n",
       "      <td>...</td>\n",
       "      <td>0</td>\n",
       "      <td>1</td>\n",
       "      <td>0</td>\n",
       "      <td>0</td>\n",
       "      <td>0</td>\n",
       "      <td>0</td>\n",
       "      <td>1</td>\n",
       "      <td>0</td>\n",
       "      <td>0</td>\n",
       "      <td>0</td>\n",
       "    </tr>\n",
       "    <tr>\n",
       "      <th>1</th>\n",
       "      <td>0</td>\n",
       "      <td>1</td>\n",
       "      <td>0</td>\n",
       "      <td>0</td>\n",
       "      <td>1</td>\n",
       "      <td>0</td>\n",
       "      <td>0</td>\n",
       "      <td>0</td>\n",
       "      <td>0</td>\n",
       "      <td>0</td>\n",
       "      <td>...</td>\n",
       "      <td>0</td>\n",
       "      <td>1</td>\n",
       "      <td>0</td>\n",
       "      <td>0</td>\n",
       "      <td>0</td>\n",
       "      <td>0</td>\n",
       "      <td>1</td>\n",
       "      <td>0</td>\n",
       "      <td>0</td>\n",
       "      <td>0</td>\n",
       "    </tr>\n",
       "    <tr>\n",
       "      <th>2</th>\n",
       "      <td>0</td>\n",
       "      <td>4</td>\n",
       "      <td>0</td>\n",
       "      <td>0</td>\n",
       "      <td>0</td>\n",
       "      <td>1</td>\n",
       "      <td>0</td>\n",
       "      <td>0</td>\n",
       "      <td>0</td>\n",
       "      <td>0</td>\n",
       "      <td>...</td>\n",
       "      <td>0</td>\n",
       "      <td>1</td>\n",
       "      <td>0</td>\n",
       "      <td>0</td>\n",
       "      <td>0</td>\n",
       "      <td>0</td>\n",
       "      <td>1</td>\n",
       "      <td>0</td>\n",
       "      <td>0</td>\n",
       "      <td>0</td>\n",
       "    </tr>\n",
       "    <tr>\n",
       "      <th>3</th>\n",
       "      <td>0</td>\n",
       "      <td>2</td>\n",
       "      <td>0</td>\n",
       "      <td>0</td>\n",
       "      <td>0</td>\n",
       "      <td>0</td>\n",
       "      <td>1</td>\n",
       "      <td>0</td>\n",
       "      <td>0</td>\n",
       "      <td>0</td>\n",
       "      <td>...</td>\n",
       "      <td>0</td>\n",
       "      <td>0</td>\n",
       "      <td>1</td>\n",
       "      <td>0</td>\n",
       "      <td>0</td>\n",
       "      <td>0</td>\n",
       "      <td>0</td>\n",
       "      <td>1</td>\n",
       "      <td>0</td>\n",
       "      <td>0</td>\n",
       "    </tr>\n",
       "    <tr>\n",
       "      <th>4</th>\n",
       "      <td>1</td>\n",
       "      <td>3</td>\n",
       "      <td>0</td>\n",
       "      <td>0</td>\n",
       "      <td>0</td>\n",
       "      <td>0</td>\n",
       "      <td>0</td>\n",
       "      <td>1</td>\n",
       "      <td>0</td>\n",
       "      <td>0</td>\n",
       "      <td>...</td>\n",
       "      <td>0</td>\n",
       "      <td>1</td>\n",
       "      <td>0</td>\n",
       "      <td>0</td>\n",
       "      <td>0</td>\n",
       "      <td>0</td>\n",
       "      <td>1</td>\n",
       "      <td>0</td>\n",
       "      <td>0</td>\n",
       "      <td>0</td>\n",
       "    </tr>\n",
       "  </tbody>\n",
       "</table>\n",
       "<p>5 rows × 83 columns</p>\n",
       "</div>"
      ],
      "text/plain": [
       "   date  barca_goals  home_away  opponent_team_id_10281  \\\n",
       "0     0            6          0                       1   \n",
       "1     0            1          0                       0   \n",
       "2     0            4          0                       0   \n",
       "3     0            2          0                       0   \n",
       "4     1            3          0                       0   \n",
       "\n",
       "   opponent_team_id_8305  opponent_team_id_10267  opponent_team_id_8633  \\\n",
       "0                      0                       0                      0   \n",
       "1                      1                       0                      0   \n",
       "2                      0                       1                      0   \n",
       "3                      0                       0                      1   \n",
       "4                      0                       0                      0   \n",
       "\n",
       "   opponent_team_id_8661  opponent_team_id_9783  opponent_team_id_8696  ...  \\\n",
       "0                      0                      0                      0  ...   \n",
       "1                      0                      0                      0  ...   \n",
       "2                      0                      0                      0  ...   \n",
       "3                      0                      0                      0  ...   \n",
       "4                      1                      0                      0  ...   \n",
       "\n",
       "   position_X9_6  position_X10_5  position_X10_4  position_X10_7  \\\n",
       "0              0               1               0               0   \n",
       "1              0               1               0               0   \n",
       "2              0               1               0               0   \n",
       "3              0               0               1               0   \n",
       "4              0               1               0               0   \n",
       "\n",
       "   position_X10_6  position_X10_8  position_X11_7  position_X11_6  \\\n",
       "0               0               0               1               0   \n",
       "1               0               0               1               0   \n",
       "2               0               0               1               0   \n",
       "3               0               0               0               1   \n",
       "4               0               0               1               0   \n",
       "\n",
       "   position_X11_5  position_X11_3  \n",
       "0               0               0  \n",
       "1               0               0  \n",
       "2               0               0  \n",
       "3               0               0  \n",
       "4               0               0  \n",
       "\n",
       "[5 rows x 83 columns]"
      ]
     },
     "execution_count": 171,
     "metadata": {},
     "output_type": "execute_result"
    }
   ],
   "source": [
    "all_matches_df_v2.head()"
   ]
  },
  {
   "cell_type": "markdown",
   "metadata": {},
   "source": [
    "<br>\n",
    "<br>\n",
    "\n",
    "# Now we need to explore the data of version 1\n",
    "\n",
    "1. We figure out the opponents attributes' correlation with our goal attribute which is the number of goals.\n",
    "\n",
    "3. It turns out the opponents attribute for most opponents does eliminate some number of goals from the answer, which means it holds some kind of correlation, as in barca_goals attribute does not include all unique numbers og goals scored for any opponent.\n",
    "\n",
    "<br>\n",
    "<br>"
   ]
  },
  {
   "cell_type": "code",
   "execution_count": 172,
   "metadata": {},
   "outputs": [
    {
     "data": {
      "image/png": "[encoded data removed]",
      "text/plain": [
       "<Figure size 432x288 with 1 Axes>"
      ]
     },
     "metadata": {
      "needs_background": "light"
     },
     "output_type": "display_data"
    },
    {
     "data": {
      "image/png": "[encoded data removed]",
      "text/plain": [
       "<Figure size 432x288 with 1 Axes>"
      ]
     },
     "metadata": {
      "needs_background": "light"
     },
     "output_type": "display_data"
    },
    {
     "data": {
      "image/png": "[encoded data removed]",
      "text/plain": [
       "<Figure size 432x288 with 1 Axes>"
      ]
     },
     "metadata": {
      "needs_background": "light"
     },
     "output_type": "display_data"
    },
    {
     "data": {
      "image/png": "[encoded data removed]",
      "text/plain": [
       "<Figure size 432x288 with 1 Axes>"
      ]
     },
     "metadata": {
      "needs_background": "light"
     },
     "output_type": "display_data"
    },
    {
     "data": {
      "image/png": "[encoded data removed]",
      "text/plain": [
       "<Figure size 432x288 with 1 Axes>"
      ]
     },
     "metadata": {
      "needs_background": "light"
     },
     "output_type": "display_data"
    },
    {
     "data": {
      "image/png": "[encoded data removed]",
      "text/plain": [
       "<Figure size 432x288 with 1 Axes>"
      ]
     },
     "metadata": {
      "needs_background": "light"
     },
     "output_type": "display_data"
    },
    {
     "data": {
      "image/png": "[encoded data removed]",
      "text/plain": [
       "<Figure size 432x288 with 1 Axes>"
      ]
     },
     "metadata": {
      "needs_background": "light"
     },
     "output_type": "display_data"
    },
    {
     "data": {
      "image/png": "[encoded data removed]",
      "text/plain": [
       "<Figure size 432x288 with 1 Axes>"
      ]
     },
     "metadata": {
      "needs_background": "light"
     },
     "output_type": "display_data"
    },
    {
     "data": {
      "image/png": "[encoded data removed]",
      "text/plain": [
       "<Figure size 432x288 with 1 Axes>"
      ]
     },
     "metadata": {
      "needs_background": "light"
     },
     "output_type": "display_data"
    },
    {
     "data": {
      "image/png": "[encoded data removed]",
      "text/plain": [
       "<Figure size 432x288 with 1 Axes>"
      ]
     },
     "metadata": {
      "needs_background": "light"
     },
     "output_type": "display_data"
    },
    {
     "data": {
      "image/png": "[encoded data removed]",
      "text/plain": [
       "<Figure size 432x288 with 1 Axes>"
      ]
     },
     "metadata": {
      "needs_background": "light"
     },
     "output_type": "display_data"
    },
    {
     "data": {
      "image/png": "[encoded data removed]",
      "text/plain": [
       "<Figure size 432x288 with 1 Axes>"
      ]
     },
     "metadata": {
      "needs_background": "light"
     },
     "output_type": "display_data"
    },
    {
     "data": {
      "image/png": "[encoded data removed]",
      "text/plain": [
       "<Figure size 432x288 with 1 Axes>"
      ]
     },
     "metadata": {
      "needs_background": "light"
     },
     "output_type": "display_data"
    },
    {
     "data": {
      "image/png": "[encoded data removed]",
      "text/plain": [
       "<Figure size 432x288 with 1 Axes>"
      ]
     },
     "metadata": {
      "needs_background": "light"
     },
     "output_type": "display_data"
    },
    {
     "data": {
      "image/png": "[encoded data removed]",
      "text/plain": [
       "<Figure size 432x288 with 1 Axes>"
      ]
     },
     "metadata": {
      "needs_background": "light"
     },
     "output_type": "display_data"
    },
    {
     "data": {
      "image/png": "[encoded data removed]",
      "text/plain": [
       "<Figure size 432x288 with 1 Axes>"
      ]
     },
     "metadata": {
      "needs_background": "light"
     },
     "output_type": "display_data"
    },
    {
     "data": {
      "image/png": "[encoded data removed]",
      "text/plain": [
       "<Figure size 432x288 with 1 Axes>"
      ]
     },
     "metadata": {
      "needs_background": "light"
     },
     "output_type": "display_data"
    },
    {
     "data": {
      "image/png": "[encoded data removed]",
      "text/plain": [
       "<Figure size 432x288 with 1 Axes>"
      ]
     },
     "metadata": {
      "needs_background": "light"
     },
     "output_type": "display_data"
    },
    {
     "data": {
      "image/png": "[encoded data removed]",
      "text/plain": [
       "<Figure size 432x288 with 1 Axes>"
      ]
     },
     "metadata": {
      "needs_background": "light"
     },
     "output_type": "display_data"
    },
    {
     "data": {
      "image/png": "[encoded data removed]",
      "text/plain": [
       "<Figure size 432x288 with 1 Axes>"
      ]
     },
     "metadata": {
      "needs_background": "light"
     },
     "output_type": "display_data"
    },
    {
     "data": {
      "image/png": "[encoded data removed]",
      "text/plain": [
       "<Figure size 432x288 with 1 Axes>"
      ]
     },
     "metadata": {
      "needs_background": "light"
     },
     "output_type": "display_data"
    },
    {
     "data": {
      "image/png": "[encoded data removed]",
      "text/plain": [
       "<Figure size 432x288 with 1 Axes>"
      ]
     },
     "metadata": {
      "needs_background": "light"
     },
     "output_type": "display_data"
    },
    {
     "data": {
      "image/png": "[encoded data removed]",
      "text/plain": [
       "<Figure size 432x288 with 1 Axes>"
      ]
     },
     "metadata": {
      "needs_background": "light"
     },
     "output_type": "display_data"
    },
    {
     "data": {
      "image/png": "[encoded data removed]",
      "text/plain": [
       "<Figure size 432x288 with 1 Axes>"
      ]
     },
     "metadata": {
      "needs_background": "light"
     },
     "output_type": "display_data"
    },
    {
     "data": {
      "image/png": "[encoded data removed]",
      "text/plain": [
       "<Figure size 432x288 with 1 Axes>"
      ]
     },
     "metadata": {
      "needs_background": "light"
     },
     "output_type": "display_data"
    },
    {
     "data": {
      "image/png": "[encoded data removed]",
      "text/plain": [
       "<Figure size 432x288 with 1 Axes>"
      ]
     },
     "metadata": {
      "needs_background": "light"
     },
     "output_type": "display_data"
    },
    {
     "data": {
      "image/png": "[encoded data removed]",
      "text/plain": [
       "<Figure size 432x288 with 1 Axes>"
      ]
     },
     "metadata": {
      "needs_background": "light"
     },
     "output_type": "display_data"
    },
    {
     "data": {
      "image/png": "[encoded data removed]",
      "text/plain": [
       "<Figure size 432x288 with 1 Axes>"
      ]
     },
     "metadata": {
      "needs_background": "light"
     },
     "output_type": "display_data"
    },
    {
     "data": {
      "image/png": "[encoded data removed]",
      "text/plain": [
       "<Figure size 432x288 with 1 Axes>"
      ]
     },
     "metadata": {
      "needs_background": "light"
     },
     "output_type": "display_data"
    },
    {
     "data": {
      "image/png": "[encoded data removed]",
      "text/plain": [
       "<Figure size 432x288 with 1 Axes>"
      ]
     },
     "metadata": {
      "needs_background": "light"
     },
     "output_type": "display_data"
    },
    {
     "data": {
      "image/png": "[encoded data removed]",
      "text/plain": [
       "<Figure size 432x288 with 1 Axes>"
      ]
     },
     "metadata": {
      "needs_background": "light"
     },
     "output_type": "display_data"
    },
    {
     "data": {
      "image/png": "[encoded data removed]",
      "text/plain": [
       "<Figure size 432x288 with 1 Axes>"
      ]
     },
     "metadata": {
      "needs_background": "light"
     },
     "output_type": "display_data"
    }
   ],
   "source": [
    "for column in encoded_categorical_columns_df.columns :\n",
    "    if(re.match(\"opponent.*\", column)):\n",
    "        plt.plot(all_matches_df_v2[column], all_matches_df_v2[\"barca_goals\"], \"ro\")\n",
    "        plt.ylabel('Number of goals')\n",
    "        plt.xticks([0,1])\n",
    "        plt.xlabel(column)\n",
    "        plt.show()"
   ]
  },
  {
   "cell_type": "markdown",
   "metadata": {},
   "source": [
    "<br>\n",
    "<br>\n",
    "\n",
    "# Now we need to explore the data of version 2\n",
    "\n",
    "1. We figure out the player attributes' correlation with our goal attribute which is the number of goals.\n",
    "2. We figure out the opponents attributes' correlation with our goal attribute which is the number of goals.\n",
    "<br>\n",
    "<br>"
   ]
  },
  {
   "cell_type": "code",
   "execution_count": 173,
   "metadata": {},
   "outputs": [],
   "source": [
    "import matplotlib.pyplot as plt"
   ]
  },
  {
   "cell_type": "code",
   "execution_count": 175,
   "metadata": {},
   "outputs": [
    {
     "data": {
      "image/png": "[encoded data removed]",
      "text/plain": [
       "<Figure size 432x288 with 1 Axes>"
      ]
     },
     "metadata": {
      "needs_background": "light"
     },
     "output_type": "display_data"
    },
    {
     "data": {
      "image/png": "[encoded data removed]",
      "text/plain": [
       "<Figure size 432x288 with 1 Axes>"
      ]
     },
     "metadata": {
      "needs_background": "light"
     },
     "output_type": "display_data"
    },
    {
     "data": {
      "image/png": "[encoded data removed]",
      "text/plain": [
       "<Figure size 432x288 with 1 Axes>"
      ]
     },
     "metadata": {
      "needs_background": "light"
     },
     "output_type": "display_data"
    },
    {
     "data": {
      "image/png": "[encoded data removed]",
      "text/plain": [
       "<Figure size 432x288 with 1 Axes>"
      ]
     },
     "metadata": {
      "needs_background": "light"
     },
     "output_type": "display_data"
    },
    {
     "data": {
      "image/png": "[encoded data removed]",
      "text/plain": [
       "<Figure size 432x288 with 1 Axes>"
      ]
     },
     "metadata": {
      "needs_background": "light"
     },
     "output_type": "display_data"
    },
    {
     "data": {
      "image/png": "[encoded data removed]",
      "text/plain": [
       "<Figure size 432x288 with 1 Axes>"
      ]
     },
     "metadata": {
      "needs_background": "light"
     },
     "output_type": "display_data"
    },
    {
     "data": {
      "image/png": "[encoded data removed]",
      "text/plain": [
       "<Figure size 432x288 with 1 Axes>"
      ]
     },
     "metadata": {
      "needs_background": "light"
     },
     "output_type": "display_data"
    },
    {
     "data": {
      "image/png": "[encoded data removed]",
      "text/plain": [
       "<Figure size 432x288 with 1 Axes>"
      ]
     },
     "metadata": {
      "needs_background": "light"
     },
     "output_type": "display_data"
    },
    {
     "data": {
      "image/png": "[encoded data removed]",
      "text/plain": [
       "<Figure size 432x288 with 1 Axes>"
      ]
     },
     "metadata": {
      "needs_background": "light"
     },
     "output_type": "display_data"
    },
    {
     "data": {
      "image/png": "[encoded data removed]",
      "text/plain": [
       "<Figure size 432x288 with 1 Axes>"
      ]
     },
     "metadata": {
      "needs_background": "light"
     },
     "output_type": "display_data"
    },
    {
     "data": {
      "image/png": "[encoded data removed]",
      "text/plain": [
       "<Figure size 432x288 with 1 Axes>"
      ]
     },
     "metadata": {
      "needs_background": "light"
     },
     "output_type": "display_data"
    },
    {
     "data": {
      "image/png": "[encoded data removed]",
      "text/plain": [
       "<Figure size 432x288 with 1 Axes>"
      ]
     },
     "metadata": {
      "needs_background": "light"
     },
     "output_type": "display_data"
    },
    {
     "data": {
      "image/png": "[encoded data removed]",
      "text/plain": [
       "<Figure size 432x288 with 1 Axes>"
      ]
     },
     "metadata": {
      "needs_background": "light"
     },
     "output_type": "display_data"
    },
    {
     "data": {
      "image/png": "[encoded data removed]",
      "text/plain": [
       "<Figure size 432x288 with 1 Axes>"
      ]
     },
     "metadata": {
      "needs_background": "light"
     },
     "output_type": "display_data"
    },
    {
     "data": {
      "image/png": "[encoded data removed]",
      "text/plain": [
       "<Figure size 432x288 with 1 Axes>"
      ]
     },
     "metadata": {
      "needs_background": "light"
     },
     "output_type": "display_data"
    },
    {
     "data": {
      "image/png": "[encoded data removed]",
      "text/plain": [
       "<Figure size 432x288 with 1 Axes>"
      ]
     },
     "metadata": {
      "needs_background": "light"
     },
     "output_type": "display_data"
    },
    {
     "data": {
      "image/png": "[encoded data removed]",
      "text/plain": [
       "<Figure size 432x288 with 1 Axes>"
      ]
     },
     "metadata": {
      "needs_background": "light"
     },
     "output_type": "display_data"
    },
    {
     "data": {
      "image/png": "[encoded data removed]",
      "text/plain": [
       "<Figure size 432x288 with 1 Axes>"
      ]
     },
     "metadata": {
      "needs_background": "light"
     },
     "output_type": "display_data"
    },
    {
     "data": {
      "image/png": "[encoded data removed]",
      "text/plain": [
       "<Figure size 432x288 with 1 Axes>"
      ]
     },
     "metadata": {
      "needs_background": "light"
     },
     "output_type": "display_data"
    },
    {
     "data": {
      "image/png": "[encoded data removed]",
      "text/plain": [
       "<Figure size 432x288 with 1 Axes>"
      ]
     },
     "metadata": {
      "needs_background": "light"
     },
     "output_type": "display_data"
    },
    {
     "data": {
      "image/png": "[encoded data removed]",
      "text/plain": [
       "<Figure size 432x288 with 1 Axes>"
      ]
     },
     "metadata": {
      "needs_background": "light"
     },
     "output_type": "display_data"
    },
    {
     "data": {
      "image/png": "[encoded data removed]",
      "text/plain": [
       "<Figure size 432x288 with 1 Axes>"
      ]
     },
     "metadata": {
      "needs_background": "light"
     },
     "output_type": "display_data"
    },
    {
     "data": {
      "image/png": "[encoded data removed]",
      "text/plain": [
       "<Figure size 432x288 with 1 Axes>"
      ]
     },
     "metadata": {
      "needs_background": "light"
     },
     "output_type": "display_data"
    },
    {
     "data": {
      "image/png": "[encoded data removed]",
      "text/plain": [
       "<Figure size 432x288 with 1 Axes>"
      ]
     },
     "metadata": {
      "needs_background": "light"
     },
     "output_type": "display_data"
    },
    {
     "data": {
      "image/png": "[encoded data removed]",
      "text/plain": [
       "<Figure size 432x288 with 1 Axes>"
      ]
     },
     "metadata": {
      "needs_background": "light"
     },
     "output_type": "display_data"
    },
    {
     "data": {
      "image/png": "[encoded data removed]",
      "text/plain": [
       "<Figure size 432x288 with 1 Axes>"
      ]
     },
     "metadata": {
      "needs_background": "light"
     },
     "output_type": "display_data"
    },
    {
     "data": {
      "image/png": "[encoded data removed]",
      "text/plain": [
       "<Figure size 432x288 with 1 Axes>"
      ]
     },
     "metadata": {
      "needs_background": "light"
     },
     "output_type": "display_data"
    },
    {
     "data": {
      "image/png": "[encoded data removed]",
      "text/plain": [
       "<Figure size 432x288 with 1 Axes>"
      ]
     },
     "metadata": {
      "needs_background": "light"
     },
     "output_type": "display_data"
    },
    {
     "data": {
      "image/png": "[encoded data removed]",
      "text/plain": [
       "<Figure size 432x288 with 1 Axes>"
      ]
     },
     "metadata": {
      "needs_background": "light"
     },
     "output_type": "display_data"
    },
    {
     "data": {
      "image/png": "[encoded data removed]",
      "text/plain": [
       "<Figure size 432x288 with 1 Axes>"
      ]
     },
     "metadata": {
      "needs_background": "light"
     },
     "output_type": "display_data"
    },
    {
     "data": {
      "image/png": "[encoded data removed]",
      "text/plain": [
       "<Figure size 432x288 with 1 Axes>"
      ]
     },
     "metadata": {
      "needs_background": "light"
     },
     "output_type": "display_data"
    },
    {
     "data": {
      "image/png": "[encoded data removed]",
      "text/plain": [
       "<Figure size 432x288 with 1 Axes>"
      ]
     },
     "metadata": {
      "needs_background": "light"
     },
     "output_type": "display_data"
    },
    {
     "data": {
      "image/png": "[encoded data removed]",
      "text/plain": [
       "<Figure size 432x288 with 1 Axes>"
      ]
     },
     "metadata": {
      "needs_background": "light"
     },
     "output_type": "display_data"
    },
    {
     "data": {
      "image/png": "[encoded data removed]",
      "text/plain": [
       "<Figure size 432x288 with 1 Axes>"
      ]
     },
     "metadata": {
      "needs_background": "light"
     },
     "output_type": "display_data"
    },
    {
     "data": {
      "image/png": "[encoded data removed]",
      "text/plain": [
       "<Figure size 432x288 with 1 Axes>"
      ]
     },
     "metadata": {
      "needs_background": "light"
     },
     "output_type": "display_data"
    },
    {
     "data": {
      "image/png": "[encoded data removed]",
      "text/plain": [
       "<Figure size 432x288 with 1 Axes>"
      ]
     },
     "metadata": {
      "needs_background": "light"
     },
     "output_type": "display_data"
    },
    {
     "data": {
      "image/png": "[encoded data removed]",
      "text/plain": [
       "<Figure size 432x288 with 1 Axes>"
      ]
     },
     "metadata": {
      "needs_background": "light"
     },
     "output_type": "display_data"
    },
    {
     "data": {
      "image/png": "[encoded data removed]",
      "text/plain": [
       "<Figure size 432x288 with 1 Axes>"
      ]
     },
     "metadata": {
      "needs_background": "light"
     },
     "output_type": "display_data"
    },
    {
     "data": {
      "image/png": "[encoded data removed]",
      "text/plain": [
       "<Figure size 432x288 with 1 Axes>"
      ]
     },
     "metadata": {
      "needs_background": "light"
     },
     "output_type": "display_data"
    },
    {
     "data": {
      "image/png": "[encoded data removed]",
      "text/plain": [
       "<Figure size 432x288 with 1 Axes>"
      ]
     },
     "metadata": {
      "needs_background": "light"
     },
     "output_type": "display_data"
    },
    {
     "data": {
      "image/png": "[encoded data removed]",
      "text/plain": [
       "<Figure size 432x288 with 1 Axes>"
      ]
     },
     "metadata": {
      "needs_background": "light"
     },
     "output_type": "display_data"
    },
    {
     "data": {
      "image/png": "[encoded data removed]",
      "text/plain": [
       "<Figure size 432x288 with 1 Axes>"
      ]
     },
     "metadata": {
      "needs_background": "light"
     },
     "output_type": "display_data"
    },
    {
     "data": {
      "image/png": "[encoded data removed]",
      "text/plain": [
       "<Figure size 432x288 with 1 Axes>"
      ]
     },
     "metadata": {
      "needs_background": "light"
     },
     "output_type": "display_data"
    },
    {
     "data": {
      "image/png": "[encoded data removed]",
      "text/plain": [
       "<Figure size 432x288 with 1 Axes>"
      ]
     },
     "metadata": {
      "needs_background": "light"
     },
     "output_type": "display_data"
    },
    {
     "data": {
      "image/png": "[encoded data removed]",
      "text/plain": [
       "<Figure size 432x288 with 1 Axes>"
      ]
     },
     "metadata": {
      "needs_background": "light"
     },
     "output_type": "display_data"
    },
    {
     "data": {
      "image/png": "[encoded data removed]",
      "text/plain": [
       "<Figure size 432x288 with 1 Axes>"
      ]
     },
     "metadata": {
      "needs_background": "light"
     },
     "output_type": "display_data"
    },
    {
     "data": {
      "image/png": "[encoded data removed]",
      "text/plain": [
       "<Figure size 432x288 with 1 Axes>"
      ]
     },
     "metadata": {
      "needs_background": "light"
     },
     "output_type": "display_data"
    },
    {
     "data": {
      "image/png": "[encoded data removed]",
      "text/plain": [
       "<Figure size 432x288 with 1 Axes>"
      ]
     },
     "metadata": {
      "needs_background": "light"
     },
     "output_type": "display_data"
    }
   ],
   "source": [
    "for column in encoded_categorical_columns_df.columns :\n",
    "    if(re.match(\"position.*\", column)):\n",
    "        plt.plot(all_matches_df_v2[column], all_matches_df_v2[\"barca_goals\"], \"ro\")\n",
    "        plt.ylabel('Number of goals')\n",
    "        plt.xticks([0,1], )\n",
    "        plt.xlabel(column)\n",
    "        plt.show()"
   ]
  },
  {
   "cell_type": "markdown",
   "metadata": {},
   "source": [
    "# It turns out there are columns that hold no data. For player columns these are the players that always play no matter what the number of goals is. For opponents, these are teams that barca has scored all number of goals in. These columns in a match hold no important data. We have to remove these columns."
   ]
  },
  {
   "cell_type": "code",
   "execution_count": 176,
   "metadata": {},
   "outputs": [],
   "source": [
    "import pandasql as ps"
   ]
  },
  {
   "cell_type": "code",
   "execution_count": 177,
   "metadata": {},
   "outputs": [
    {
     "name": "stdout",
     "output_type": "stream",
     "text": [
      "Column position_X1_1 removed due to lack of any correlation.\n",
      "Column position_X2_2 removed due to lack of any correlation.\n",
      "Column position_X3_4 removed due to lack of any correlation.\n",
      "Column position_X4_6 removed due to lack of any correlation.\n",
      "Column position_X5_8 removed due to lack of any correlation.\n",
      "Column position_X6_3 removed due to lack of any correlation.\n",
      "Column position_X7_5 removed due to lack of any correlation.\n",
      "Column position_X8_7 removed due to lack of any correlation.\n",
      "Column position_X9_3 removed due to lack of any correlation.\n",
      "Column position_X10_5 removed due to lack of any correlation.\n",
      "Column position_X11_7 removed due to lack of any correlation.\n"
     ]
    }
   ],
   "source": [
    "# First, get the unique number of goals\n",
    "query_max_goals = \"Select count (distinct barca_goals) from all_matches_df_v1\"\n",
    "query_max_goals_df = ps.sqldf(query_max_goals, locals())\n",
    "max_goals = query_max_goals_df[\"count (distinct barca_goals)\"][0]\n",
    "\n",
    "# For all columns\n",
    "for column in encoded_categorical_columns_df.columns :\n",
    "    \n",
    "    # This part of the code takes care of the first set of data, which only includes opponent data.\n",
    "    if(re.match(\"opponent.*\", column)):\n",
    "        query1 = \"Select count (distinct barca_goals) from all_matches_df_v1 where \" + column + \" = 1\"  ;\n",
    "        query1_df = ps.sqldf(query1, locals())\n",
    "        goals = query1_df[\"count (distinct barca_goals)\"][0]\n",
    "        # If the existence of an opponent doesn't indicate anything proprietary, then drop the opponent\n",
    "        if(goals == max_goals):\n",
    "            print(\"Column \" + column + \" removed due to lack of any correlation.\")\n",
    "            all_matches_df_v1 = all_matches_df_v1.drop([column], axis = 1)\n",
    "    \n",
    "    # this part of the code takes care of the second set of data, which also has player information.\n",
    "    query2 = \"Select count (distinct barca_goals) from all_matches_df_v2 where \" + column + \" = 1\"  ;\n",
    "    query2_df = ps.sqldf(query2, locals())\n",
    "    goals = query2_df[\"count (distinct barca_goals)\"][0]\n",
    "    # If the existence of a player or an opponent doesn't indicate anything proprietary, then drop the opponent\n",
    "    if(goals == max_goals):\n",
    "        print(\"Column \" + column + \" removed due to lack of any correlation.\")\n",
    "        all_matches_df_v2 = all_matches_df_v2.drop([column], axis = 1)"
   ]
  },
  {
   "cell_type": "code",
   "execution_count": 178,
   "metadata": {},
   "outputs": [
    {
     "data": {
      "text/html": [
       "<div>\n",
       "<style scoped>\n",
       "    .dataframe tbody tr th:only-of-type {\n",
       "        vertical-align: middle;\n",
       "    }\n",
       "\n",
       "    .dataframe tbody tr th {\n",
       "        vertical-align: top;\n",
       "    }\n",
       "\n",
       "    .dataframe thead th {\n",
       "        text-align: right;\n",
       "    }\n",
       "</style>\n",
       "<table border=\"1\" class=\"dataframe\">\n",
       "  <thead>\n",
       "    <tr style=\"text-align: right;\">\n",
       "      <th></th>\n",
       "      <th>date</th>\n",
       "      <th>barca_goals</th>\n",
       "      <th>home_away</th>\n",
       "      <th>opponent_team_id_10281</th>\n",
       "      <th>opponent_team_id_8305</th>\n",
       "      <th>opponent_team_id_10267</th>\n",
       "      <th>opponent_team_id_8633</th>\n",
       "      <th>opponent_team_id_8661</th>\n",
       "      <th>opponent_team_id_9783</th>\n",
       "      <th>opponent_team_id_8696</th>\n",
       "      <th>...</th>\n",
       "      <th>opponent_team_id_8560</th>\n",
       "      <th>opponent_team_id_8581</th>\n",
       "      <th>opponent_team_id_10278</th>\n",
       "      <th>opponent_team_id_8370</th>\n",
       "      <th>opponent_team_id_7878</th>\n",
       "      <th>opponent_team_id_9910</th>\n",
       "      <th>opponent_team_id_10268</th>\n",
       "      <th>opponent_team_id_7869</th>\n",
       "      <th>opponent_team_id_8372</th>\n",
       "      <th>opponent_team_id_8306</th>\n",
       "    </tr>\n",
       "  </thead>\n",
       "  <tbody>\n",
       "    <tr>\n",
       "      <th>0</th>\n",
       "      <td>0</td>\n",
       "      <td>6</td>\n",
       "      <td>0</td>\n",
       "      <td>1</td>\n",
       "      <td>0</td>\n",
       "      <td>0</td>\n",
       "      <td>0</td>\n",
       "      <td>0</td>\n",
       "      <td>0</td>\n",
       "      <td>0</td>\n",
       "      <td>...</td>\n",
       "      <td>0</td>\n",
       "      <td>0</td>\n",
       "      <td>0</td>\n",
       "      <td>0</td>\n",
       "      <td>0</td>\n",
       "      <td>0</td>\n",
       "      <td>0</td>\n",
       "      <td>0</td>\n",
       "      <td>0</td>\n",
       "      <td>0</td>\n",
       "    </tr>\n",
       "    <tr>\n",
       "      <th>1</th>\n",
       "      <td>0</td>\n",
       "      <td>1</td>\n",
       "      <td>0</td>\n",
       "      <td>0</td>\n",
       "      <td>1</td>\n",
       "      <td>0</td>\n",
       "      <td>0</td>\n",
       "      <td>0</td>\n",
       "      <td>0</td>\n",
       "      <td>0</td>\n",
       "      <td>...</td>\n",
       "      <td>0</td>\n",
       "      <td>0</td>\n",
       "      <td>0</td>\n",
       "      <td>0</td>\n",
       "      <td>0</td>\n",
       "      <td>0</td>\n",
       "      <td>0</td>\n",
       "      <td>0</td>\n",
       "      <td>0</td>\n",
       "      <td>0</td>\n",
       "    </tr>\n",
       "    <tr>\n",
       "      <th>2</th>\n",
       "      <td>0</td>\n",
       "      <td>4</td>\n",
       "      <td>0</td>\n",
       "      <td>0</td>\n",
       "      <td>0</td>\n",
       "      <td>1</td>\n",
       "      <td>0</td>\n",
       "      <td>0</td>\n",
       "      <td>0</td>\n",
       "      <td>0</td>\n",
       "      <td>...</td>\n",
       "      <td>0</td>\n",
       "      <td>0</td>\n",
       "      <td>0</td>\n",
       "      <td>0</td>\n",
       "      <td>0</td>\n",
       "      <td>0</td>\n",
       "      <td>0</td>\n",
       "      <td>0</td>\n",
       "      <td>0</td>\n",
       "      <td>0</td>\n",
       "    </tr>\n",
       "    <tr>\n",
       "      <th>3</th>\n",
       "      <td>0</td>\n",
       "      <td>2</td>\n",
       "      <td>0</td>\n",
       "      <td>0</td>\n",
       "      <td>0</td>\n",
       "      <td>0</td>\n",
       "      <td>1</td>\n",
       "      <td>0</td>\n",
       "      <td>0</td>\n",
       "      <td>0</td>\n",
       "      <td>...</td>\n",
       "      <td>0</td>\n",
       "      <td>0</td>\n",
       "      <td>0</td>\n",
       "      <td>0</td>\n",
       "      <td>0</td>\n",
       "      <td>0</td>\n",
       "      <td>0</td>\n",
       "      <td>0</td>\n",
       "      <td>0</td>\n",
       "      <td>0</td>\n",
       "    </tr>\n",
       "    <tr>\n",
       "      <th>4</th>\n",
       "      <td>1</td>\n",
       "      <td>3</td>\n",
       "      <td>0</td>\n",
       "      <td>0</td>\n",
       "      <td>0</td>\n",
       "      <td>0</td>\n",
       "      <td>0</td>\n",
       "      <td>1</td>\n",
       "      <td>0</td>\n",
       "      <td>0</td>\n",
       "      <td>...</td>\n",
       "      <td>0</td>\n",
       "      <td>0</td>\n",
       "      <td>0</td>\n",
       "      <td>0</td>\n",
       "      <td>0</td>\n",
       "      <td>0</td>\n",
       "      <td>0</td>\n",
       "      <td>0</td>\n",
       "      <td>0</td>\n",
       "      <td>0</td>\n",
       "    </tr>\n",
       "  </tbody>\n",
       "</table>\n",
       "<p>5 rows × 35 columns</p>\n",
       "</div>"
      ],
      "text/plain": [
       "   date  barca_goals  home_away  opponent_team_id_10281  \\\n",
       "0     0            6          0                       1   \n",
       "1     0            1          0                       0   \n",
       "2     0            4          0                       0   \n",
       "3     0            2          0                       0   \n",
       "4     1            3          0                       0   \n",
       "\n",
       "   opponent_team_id_8305  opponent_team_id_10267  opponent_team_id_8633  \\\n",
       "0                      0                       0                      0   \n",
       "1                      1                       0                      0   \n",
       "2                      0                       1                      0   \n",
       "3                      0                       0                      1   \n",
       "4                      0                       0                      0   \n",
       "\n",
       "   opponent_team_id_8661  opponent_team_id_9783  opponent_team_id_8696  ...  \\\n",
       "0                      0                      0                      0  ...   \n",
       "1                      0                      0                      0  ...   \n",
       "2                      0                      0                      0  ...   \n",
       "3                      0                      0                      0  ...   \n",
       "4                      1                      0                      0  ...   \n",
       "\n",
       "   opponent_team_id_8560  opponent_team_id_8581  opponent_team_id_10278  \\\n",
       "0                      0                      0                       0   \n",
       "1                      0                      0                       0   \n",
       "2                      0                      0                       0   \n",
       "3                      0                      0                       0   \n",
       "4                      0                      0                       0   \n",
       "\n",
       "   opponent_team_id_8370  opponent_team_id_7878  opponent_team_id_9910  \\\n",
       "0                      0                      0                      0   \n",
       "1                      0                      0                      0   \n",
       "2                      0                      0                      0   \n",
       "3                      0                      0                      0   \n",
       "4                      0                      0                      0   \n",
       "\n",
       "   opponent_team_id_10268  opponent_team_id_7869  opponent_team_id_8372  \\\n",
       "0                       0                      0                      0   \n",
       "1                       0                      0                      0   \n",
       "2                       0                      0                      0   \n",
       "3                       0                      0                      0   \n",
       "4                       0                      0                      0   \n",
       "\n",
       "   opponent_team_id_8306  \n",
       "0                      0  \n",
       "1                      0  \n",
       "2                      0  \n",
       "3                      0  \n",
       "4                      0  \n",
       "\n",
       "[5 rows x 35 columns]"
      ]
     },
     "execution_count": 178,
     "metadata": {},
     "output_type": "execute_result"
    }
   ],
   "source": [
    "all_matches_df_v1.head()"
   ]
  },
  {
   "cell_type": "code",
   "execution_count": 179,
   "metadata": {},
   "outputs": [
    {
     "data": {
      "text/html": [
       "<div>\n",
       "<style scoped>\n",
       "    .dataframe tbody tr th:only-of-type {\n",
       "        vertical-align: middle;\n",
       "    }\n",
       "\n",
       "    .dataframe tbody tr th {\n",
       "        vertical-align: top;\n",
       "    }\n",
       "\n",
       "    .dataframe thead th {\n",
       "        text-align: right;\n",
       "    }\n",
       "</style>\n",
       "<table border=\"1\" class=\"dataframe\">\n",
       "  <thead>\n",
       "    <tr style=\"text-align: right;\">\n",
       "      <th></th>\n",
       "      <th>date</th>\n",
       "      <th>barca_goals</th>\n",
       "      <th>home_away</th>\n",
       "      <th>opponent_team_id_10281</th>\n",
       "      <th>opponent_team_id_8305</th>\n",
       "      <th>opponent_team_id_10267</th>\n",
       "      <th>opponent_team_id_8633</th>\n",
       "      <th>opponent_team_id_8661</th>\n",
       "      <th>opponent_team_id_9783</th>\n",
       "      <th>opponent_team_id_8696</th>\n",
       "      <th>...</th>\n",
       "      <th>position_X9_5</th>\n",
       "      <th>position_X9_4</th>\n",
       "      <th>position_X9_6</th>\n",
       "      <th>position_X10_4</th>\n",
       "      <th>position_X10_7</th>\n",
       "      <th>position_X10_6</th>\n",
       "      <th>position_X10_8</th>\n",
       "      <th>position_X11_6</th>\n",
       "      <th>position_X11_5</th>\n",
       "      <th>position_X11_3</th>\n",
       "    </tr>\n",
       "  </thead>\n",
       "  <tbody>\n",
       "    <tr>\n",
       "      <th>0</th>\n",
       "      <td>0</td>\n",
       "      <td>6</td>\n",
       "      <td>0</td>\n",
       "      <td>1</td>\n",
       "      <td>0</td>\n",
       "      <td>0</td>\n",
       "      <td>0</td>\n",
       "      <td>0</td>\n",
       "      <td>0</td>\n",
       "      <td>0</td>\n",
       "      <td>...</td>\n",
       "      <td>0</td>\n",
       "      <td>0</td>\n",
       "      <td>0</td>\n",
       "      <td>0</td>\n",
       "      <td>0</td>\n",
       "      <td>0</td>\n",
       "      <td>0</td>\n",
       "      <td>0</td>\n",
       "      <td>0</td>\n",
       "      <td>0</td>\n",
       "    </tr>\n",
       "    <tr>\n",
       "      <th>1</th>\n",
       "      <td>0</td>\n",
       "      <td>1</td>\n",
       "      <td>0</td>\n",
       "      <td>0</td>\n",
       "      <td>1</td>\n",
       "      <td>0</td>\n",
       "      <td>0</td>\n",
       "      <td>0</td>\n",
       "      <td>0</td>\n",
       "      <td>0</td>\n",
       "      <td>...</td>\n",
       "      <td>0</td>\n",
       "      <td>0</td>\n",
       "      <td>0</td>\n",
       "      <td>0</td>\n",
       "      <td>0</td>\n",
       "      <td>0</td>\n",
       "      <td>0</td>\n",
       "      <td>0</td>\n",
       "      <td>0</td>\n",
       "      <td>0</td>\n",
       "    </tr>\n",
       "    <tr>\n",
       "      <th>2</th>\n",
       "      <td>0</td>\n",
       "      <td>4</td>\n",
       "      <td>0</td>\n",
       "      <td>0</td>\n",
       "      <td>0</td>\n",
       "      <td>1</td>\n",
       "      <td>0</td>\n",
       "      <td>0</td>\n",
       "      <td>0</td>\n",
       "      <td>0</td>\n",
       "      <td>...</td>\n",
       "      <td>0</td>\n",
       "      <td>0</td>\n",
       "      <td>0</td>\n",
       "      <td>0</td>\n",
       "      <td>0</td>\n",
       "      <td>0</td>\n",
       "      <td>0</td>\n",
       "      <td>0</td>\n",
       "      <td>0</td>\n",
       "      <td>0</td>\n",
       "    </tr>\n",
       "    <tr>\n",
       "      <th>3</th>\n",
       "      <td>0</td>\n",
       "      <td>2</td>\n",
       "      <td>0</td>\n",
       "      <td>0</td>\n",
       "      <td>0</td>\n",
       "      <td>0</td>\n",
       "      <td>1</td>\n",
       "      <td>0</td>\n",
       "      <td>0</td>\n",
       "      <td>0</td>\n",
       "      <td>...</td>\n",
       "      <td>0</td>\n",
       "      <td>0</td>\n",
       "      <td>0</td>\n",
       "      <td>1</td>\n",
       "      <td>0</td>\n",
       "      <td>0</td>\n",
       "      <td>0</td>\n",
       "      <td>1</td>\n",
       "      <td>0</td>\n",
       "      <td>0</td>\n",
       "    </tr>\n",
       "    <tr>\n",
       "      <th>4</th>\n",
       "      <td>1</td>\n",
       "      <td>3</td>\n",
       "      <td>0</td>\n",
       "      <td>0</td>\n",
       "      <td>0</td>\n",
       "      <td>0</td>\n",
       "      <td>0</td>\n",
       "      <td>1</td>\n",
       "      <td>0</td>\n",
       "      <td>0</td>\n",
       "      <td>...</td>\n",
       "      <td>0</td>\n",
       "      <td>0</td>\n",
       "      <td>0</td>\n",
       "      <td>0</td>\n",
       "      <td>0</td>\n",
       "      <td>0</td>\n",
       "      <td>0</td>\n",
       "      <td>0</td>\n",
       "      <td>0</td>\n",
       "      <td>0</td>\n",
       "    </tr>\n",
       "  </tbody>\n",
       "</table>\n",
       "<p>5 rows × 72 columns</p>\n",
       "</div>"
      ],
      "text/plain": [
       "   date  barca_goals  home_away  opponent_team_id_10281  \\\n",
       "0     0            6          0                       1   \n",
       "1     0            1          0                       0   \n",
       "2     0            4          0                       0   \n",
       "3     0            2          0                       0   \n",
       "4     1            3          0                       0   \n",
       "\n",
       "   opponent_team_id_8305  opponent_team_id_10267  opponent_team_id_8633  \\\n",
       "0                      0                       0                      0   \n",
       "1                      1                       0                      0   \n",
       "2                      0                       1                      0   \n",
       "3                      0                       0                      1   \n",
       "4                      0                       0                      0   \n",
       "\n",
       "   opponent_team_id_8661  opponent_team_id_9783  opponent_team_id_8696  ...  \\\n",
       "0                      0                      0                      0  ...   \n",
       "1                      0                      0                      0  ...   \n",
       "2                      0                      0                      0  ...   \n",
       "3                      0                      0                      0  ...   \n",
       "4                      1                      0                      0  ...   \n",
       "\n",
       "   position_X9_5  position_X9_4  position_X9_6  position_X10_4  \\\n",
       "0              0              0              0               0   \n",
       "1              0              0              0               0   \n",
       "2              0              0              0               0   \n",
       "3              0              0              0               1   \n",
       "4              0              0              0               0   \n",
       "\n",
       "   position_X10_7  position_X10_6  position_X10_8  position_X11_6  \\\n",
       "0               0               0               0               0   \n",
       "1               0               0               0               0   \n",
       "2               0               0               0               0   \n",
       "3               0               0               0               1   \n",
       "4               0               0               0               0   \n",
       "\n",
       "   position_X11_5  position_X11_3  \n",
       "0               0               0  \n",
       "1               0               0  \n",
       "2               0               0  \n",
       "3               0               0  \n",
       "4               0               0  \n",
       "\n",
       "[5 rows x 72 columns]"
      ]
     },
     "execution_count": 179,
     "metadata": {},
     "output_type": "execute_result"
    }
   ],
   "source": [
    "all_matches_df_v2.head()"
   ]
  },
  {
   "cell_type": "markdown",
   "metadata": {},
   "source": [
    "<br>\n",
    "<br>\n",
    "\n",
    "# Now lets create a training set and a test set for each dataset"
   ]
  },
  {
   "cell_type": "code",
   "execution_count": 180,
   "metadata": {},
   "outputs": [],
   "source": [
    "from sklearn.model_selection import train_test_split"
   ]
  },
  {
   "cell_type": "code",
   "execution_count": 181,
   "metadata": {},
   "outputs": [],
   "source": [
    "# First split data into X (inputs) and Y (outputs)\n",
    "X1 = all_matches_df_v1.drop([\"barca_goals\"], axis = 1)\n",
    "X2 = all_matches_df_v2.drop([\"barca_goals\"], axis = 1)\n",
    "\n",
    "# The output for bot datasets are the same so we get it from any of both sets\n",
    "y1 = all_matches_df_v1[\"barca_goals\"]\n",
    "y2 = all_matches_df_v2[\"barca_goals\"]\n",
    "\n",
    "# splitting the first dataset\n",
    "X_train_1, X_test_1, y_train_1, y_test_1 = train_test_split(X1,y1,stratify=y1,train_size=0.8,test_size=0.2,random_state = 0)\n",
    "# splitting the second dataset\n",
    "X_train_2, X_test_2, y_train_2, y_test_2 = train_test_split(X2,y2,stratify=y2,train_size=0.8,test_size=0.2,random_state = 0)"
   ]
  },
  {
   "cell_type": "markdown",
   "metadata": {},
   "source": [
    "<br>\n",
    "<br>\n",
    "\n",
    "# Now we try the linear regression model"
   ]
  },
  {
   "cell_type": "code",
   "execution_count": 182,
   "metadata": {},
   "outputs": [],
   "source": [
    "from sklearn.linear_model import LinearRegression"
   ]
  },
  {
   "cell_type": "code",
   "execution_count": 183,
   "metadata": {},
   "outputs": [
    {
     "data": {
      "text/plain": [
       "LinearRegression(copy_X=True, fit_intercept=True, n_jobs=None, normalize=False)"
      ]
     },
     "execution_count": 183,
     "metadata": {},
     "output_type": "execute_result"
    }
   ],
   "source": [
    "LR1 = LinearRegression(fit_intercept=True, normalize=False, copy_X=True, n_jobs=None)\n",
    "LR1.fit(X_train_1, y_train_1)\n",
    "\n",
    "LR2 = LinearRegression(fit_intercept=True, normalize=False, copy_X=True, n_jobs=None)\n",
    "LR2.fit(X_train_2, y_train_2)"
   ]
  },
  {
   "cell_type": "code",
   "execution_count": 215,
   "metadata": {},
   "outputs": [
    {
     "name": "stdout",
     "output_type": "stream",
     "text": [
      "Predictions when considered correct if the number of goals is within the range of correct answer +1 and correct answer -1\n",
      "Linear Regression accuracy without information about players : 0.4918032786885246\n",
      "Linear Regression accuracy with information about players : 0.47540983606557374\n",
      "\n",
      "\n",
      "Predictions when considered correct if the number of goals is exactly the correct answer\n",
      "Linear Regression accuracy without information about players : 0.22950819672131148\n",
      "Linear Regression accuracy with information about players : 0.2459016393442623\n"
     ]
    }
   ],
   "source": [
    "# Get predictions and approximate values\n",
    "\n",
    "predictions_1 = LR1.predict(X_test_1)\n",
    "predictions_2 = LR2.predict(X_test_2)\n",
    "\n",
    "# approximate values for each prediction set\n",
    "for i in range(predictions_1.size) :\n",
    "    prediction = predictions_1[i]\n",
    "    \n",
    "    if(prediction < 0):\n",
    "        predictions_1[i] = 0\n",
    "        continue\n",
    "    if(prediction > 8):\n",
    "        predictions_1[i] = 8\n",
    "        continue\n",
    "        \n",
    "    decimal = prediction % 1\n",
    "    \n",
    "    if(decimal >= 0.5):\n",
    "        predictions_1[i] = prediction + 1 - decimal\n",
    "    else :\n",
    "        predictions_1[i] -= decimal\n",
    "\n",
    "for i in range(predictions_2.size) :\n",
    "    prediction = predictions_2[i]\n",
    "    \n",
    "    if(prediction < 0):\n",
    "        predictions_2[i] = 0\n",
    "        continue\n",
    "    if(prediction > 8):\n",
    "        predictions_2[i] = 8\n",
    "        continue\n",
    "    \n",
    "    decimal = prediction % 1\n",
    "    \n",
    "    if(decimal >= 0.5):\n",
    "        predictions_2[i] = prediction + 1 - decimal\n",
    "    else :\n",
    "        predictions_2[i] -= decimal\n",
    "        \n",
    "\n",
    "# Accuracy when considered correct if the number of goals is within the range of correct answer +1 and correct answer -1\n",
    "accuracy_1 = sum(np.absolute(predictions_1 - y_test_1) <= 1) / y_test_1.size\n",
    "accuracy_2 = sum(np.absolute(predictions_2 - y_test_2) <= 1) / y_test_2.size\n",
    "\n",
    "print(\"Predictions when considered correct if the number of goals is within the range of correct answer +1 and correct answer -1\")\n",
    "print(\"Linear Regression accuracy without information about players : \" + str(accuracy_1))\n",
    "print(\"Linear Regression accuracy with information about players : \" + str(accuracy_2))\n",
    "\n",
    "print(\"\\n\")\n",
    "\n",
    "# Predictions when considered correct if the number of goals is exactly the correct answer\n",
    "accuracy_1 = sum((predictions_1 - y_test_1) == 0) / y_test_1.size\n",
    "accuracy_2 = sum((predictions_2 - y_test_2) == 0) / y_test_2.size\n",
    "print(\"Predictions when considered correct if the number of goals is exactly the correct answer\")\n",
    "print(\"Linear Regression accuracy without information about players : \" + str(accuracy_1))\n",
    "print(\"Linear Regression accuracy with information about players : \" + str(accuracy_2))"
   ]
  },
  {
   "cell_type": "markdown",
   "metadata": {},
   "source": [
    "# Now calculate the score for both models"
   ]
  },
  {
   "cell_type": "code",
   "execution_count": null,
   "metadata": {},
   "outputs": [],
   "source": []
  }
 ],
 "metadata": {
  "kernelspec": {
   "display_name": "Python 3",
   "language": "python",
   "name": "python3"
  },
  "language_info": {
   "codemirror_mode": {
    "name": "ipython",
    "version": 3
   },
   "file_extension": ".py",
   "mimetype": "text/x-python",
   "name": "python",
   "nbconvert_exporter": "python",
   "pygments_lexer": "ipython3",
   "version": "3.7.3"
  }
 },
 "nbformat": 4,
 "nbformat_minor": 2
}
