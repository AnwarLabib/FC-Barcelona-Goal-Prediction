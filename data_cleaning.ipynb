{
 "cells": [
  {
   "cell_type": "markdown",
   "metadata": {},
   "source": [
    "# Research Question\n",
    "Our research question is how many goals FC Barcelona is going to score in a certain match providing its date, opponent team and whether it is a home or an away match.\n",
    "\n",
    "# Current Form Of Data\n",
    "The data is currently in the following form (The attributes we are interested in): date, home_team_api_id, away_team_api_id, home_team_goal and away_team_goal. Here is a visual example representation:\n",
    "\n",
    "| date                | home_team_api_id | away_team_api_id | home_team_goal | away_team_goal |\n",
    "| :-------------------| :--------------: | :--------------: | :------------: | :------------: |\n",
    "| 2008-08-17 00:00:00 | 9987             | 9993             | 0              | 1              |\n",
    "| 2015-09-23 00:00:00 | 10192            | 9931             | 4              | 3              |\n",
    "\n",
    "# Desired Form Of Data\n",
    "The desired form of data should be in the following form: date, opponent team id, barca goals and whether or it is a home or an away match. Here is a visual representation of how the data should look like:\n",
    "\n",
    "| date      | opponent_team_id | barca_goals | home_away |\n",
    "| :---------| :--------------: | :---------: | --------: |\n",
    "\n",
    "where <strong>date</strong> is the desired year minus the min year in the data set  \n",
    "<strong>opponent_team_id</strong> is the team id of the opponent team. The team_id can be found in the used dataset  \n",
    "<strong>barca_goals</strong> is the number of goals scored by FC Barcelona in this match  \n",
    "<strong>home_away</strong> is whether it is a home or an away match where home represents 0 and away represents 1\n",
    "\n",
    "Here is an example of how the data could be represented\n",
    "\n",
    "| date      | opponent_team_id | barca_goals | home_away |\n",
    "| :---------| :--------------: | :---------: | --------: |\n",
    "| 0         | 10281            | 6           | 0         |\n",
    "| 8         | 7878             | 3           | 1         |"
   ]
  },
  {
   "cell_type": "code",
   "execution_count": 1,
   "metadata": {},
   "outputs": [],
   "source": [
    "import pandas as pd\n",
    "import matplotlib.pyplot as plt\n",
    "import sqlite3\n",
    "\n",
    "database = sqlite3.connect(\"database.sqlite\")\n"
   ]
  },
  {
   "cell_type": "markdown",
   "metadata": {},
   "source": [
    "# Get FC Barcelona's team_api_id\n",
    "In order to get the matches where FC Barcelona was involved in we need its team_api_id.  \n",
    "The table which is named <strong>team</strong> is the table we are going to use to get the team_api_id. Here is a visual example representation (Only the attributes we are interested in):\n",
    "\n",
    "| team_api_id | team_long_name |\n",
    "| :---------- | -------------: |\n",
    "| 8634        | FC Barcelona   |\n",
    "\n",
    "What we are going to do is we are going to select the teams where their team_long_name is FC Barcelona (Only FC Barcelona will be returned) then we are going to get its team_api_id\n"
   ]
  },
  {
   "cell_type": "code",
   "execution_count": 2,
   "metadata": {},
   "outputs": [
    {
     "data": {
      "text/plain": [
       "8634"
      ]
     },
     "execution_count": 2,
     "metadata": {},
     "output_type": "execute_result"
    }
   ],
   "source": [
    "# Get the team_api_id of FC Barcelona\n",
    "barca_df = pd.read_sql_query(\"SELECT * from team where team_long_name='FC Barcelona'\", database)\n",
    "barca_api_id = barca_df.team_api_id[0]\n",
    "\n",
    "barca_api_id"
   ]
  },
  {
   "cell_type": "markdown",
   "metadata": {},
   "source": [
    "# Select only the attributes related to our research problem\n",
    "\n",
    "We are going to reach the desired form of data by getting the home and away matches alone and then concatenating them at the end.\n",
    "\n",
    "For the home matches we are going to get the <strong>date</strong>, <strong>away_team_api_id</strong> (which represents the opponent team so we are going to rename it as opponnent_team_id) and <strong>home_team_goal</strong> (which represents the number of goals FC Barcelona scored in the match so we are going to rename it as barca_goals)\n",
    "\n",
    "For the away matches we are going to get the <strong>date</strong>, <strong>home_team_api_id</strong> (which represents the opponent team so we are going to rename it as opponnent_team_id) and <strong>away_team_goal</strong> (which represents the number of goals FC Barcelona scored in the match so we are going to rename it as barca_goals)\n",
    "\n",
    "Using the where clause in SQL and barca_api_id we can get the home and away matches for FC Barcelona by searching the home_team_api_id and away_team_api_id."
   ]
  },
  {
   "cell_type": "code",
   "execution_count": 3,
   "metadata": {},
   "outputs": [],
   "source": [
    "## Select only the attributee relevant to our research question\n",
    "\n",
    "# Concerning the matches where FC Barcelona was the home team, we need the date, and the away team (opponent)\n",
    "# and the number of goals the home team (FC Barcelona) scored\n",
    "home_select_clause = \"date, away_team_api_id as 'opponent_team_id', home_team_goal as 'barca_goals'\"\n",
    "\n",
    "# Concerning the matches where FC Barcelona was the away team, we need the date, and the home team (opponent)\n",
    "# and the number of goals the away team (FC Barcelona) scored\n",
    "away_select_clause = \"date, home_team_api_id as 'opponent_team_id', away_team_goal as 'barca_goals'\"\n",
    "\n",
    "# Select only the matches that FC Barcelona involved in as the home team and the away team seperately\n",
    "home_where_clause = \"home_team_api_id=\" + str(barca_api_id)\n",
    "away_where_clause = \"away_team_api_id=\" + str(barca_api_id)"
   ]
  },
  {
   "cell_type": "markdown",
   "metadata": {},
   "source": [
    "# Putting things together\n",
    "\n",
    "Using the <strong>SELECT</strong> and <strong>WHERE</strong> clauses we can obtain the home and away matches "
   ]
  },
  {
   "cell_type": "code",
   "execution_count": 4,
   "metadata": {},
   "outputs": [
    {
     "data": {
      "text/html": [
       "<div>\n",
       "<style scoped>\n",
       "    .dataframe tbody tr th:only-of-type {\n",
       "        vertical-align: middle;\n",
       "    }\n",
       "\n",
       "    .dataframe tbody tr th {\n",
       "        vertical-align: top;\n",
       "    }\n",
       "\n",
       "    .dataframe thead th {\n",
       "        text-align: right;\n",
       "    }\n",
       "</style>\n",
       "<table border=\"1\" class=\"dataframe\">\n",
       "  <thead>\n",
       "    <tr style=\"text-align: right;\">\n",
       "      <th></th>\n",
       "      <th>date</th>\n",
       "      <th>opponent_team_id</th>\n",
       "      <th>barca_goals</th>\n",
       "    </tr>\n",
       "  </thead>\n",
       "  <tbody>\n",
       "    <tr>\n",
       "      <th>0</th>\n",
       "      <td>2008-11-08 00:00:00</td>\n",
       "      <td>10281</td>\n",
       "      <td>6</td>\n",
       "    </tr>\n",
       "    <tr>\n",
       "      <th>1</th>\n",
       "      <td>2008-11-23 00:00:00</td>\n",
       "      <td>8305</td>\n",
       "      <td>1</td>\n",
       "    </tr>\n",
       "    <tr>\n",
       "      <th>2</th>\n",
       "      <td>2008-12-06 00:00:00</td>\n",
       "      <td>10267</td>\n",
       "      <td>4</td>\n",
       "    </tr>\n",
       "    <tr>\n",
       "      <th>3</th>\n",
       "      <td>2008-12-13 00:00:00</td>\n",
       "      <td>8633</td>\n",
       "      <td>2</td>\n",
       "    </tr>\n",
       "    <tr>\n",
       "      <th>4</th>\n",
       "      <td>2009-01-03 00:00:00</td>\n",
       "      <td>8661</td>\n",
       "      <td>3</td>\n",
       "    </tr>\n",
       "  </tbody>\n",
       "</table>\n",
       "</div>"
      ],
      "text/plain": [
       "                  date  opponent_team_id  barca_goals\n",
       "0  2008-11-08 00:00:00             10281            6\n",
       "1  2008-11-23 00:00:00              8305            1\n",
       "2  2008-12-06 00:00:00             10267            4\n",
       "3  2008-12-13 00:00:00              8633            2\n",
       "4  2009-01-03 00:00:00              8661            3"
      ]
     },
     "execution_count": 4,
     "metadata": {},
     "output_type": "execute_result"
    }
   ],
   "source": [
    "# return the home matches of FC Barcelona\n",
    "home_matches_df = pd.read_sql_query(\"SELECT \" + str(home_select_clause) +\" from match where \" + str(home_where_clause), database)\n",
    "home_matches_df.head()"
   ]
  },
  {
   "cell_type": "code",
   "execution_count": 5,
   "metadata": {},
   "outputs": [
    {
     "data": {
      "text/html": [
       "<div>\n",
       "<style scoped>\n",
       "    .dataframe tbody tr th:only-of-type {\n",
       "        vertical-align: middle;\n",
       "    }\n",
       "\n",
       "    .dataframe tbody tr th {\n",
       "        vertical-align: top;\n",
       "    }\n",
       "\n",
       "    .dataframe thead th {\n",
       "        text-align: right;\n",
       "    }\n",
       "</style>\n",
       "<table border=\"1\" class=\"dataframe\">\n",
       "  <thead>\n",
       "    <tr style=\"text-align: right;\">\n",
       "      <th></th>\n",
       "      <th>date</th>\n",
       "      <th>opponent_team_id</th>\n",
       "      <th>barca_goals</th>\n",
       "    </tr>\n",
       "  </thead>\n",
       "  <tbody>\n",
       "    <tr>\n",
       "      <th>0</th>\n",
       "      <td>2008-08-31 00:00:00</td>\n",
       "      <td>8388</td>\n",
       "      <td>0</td>\n",
       "    </tr>\n",
       "    <tr>\n",
       "      <th>1</th>\n",
       "      <td>2008-11-16 00:00:00</td>\n",
       "      <td>8479</td>\n",
       "      <td>2</td>\n",
       "    </tr>\n",
       "    <tr>\n",
       "      <th>2</th>\n",
       "      <td>2008-11-29 00:00:00</td>\n",
       "      <td>8302</td>\n",
       "      <td>3</td>\n",
       "    </tr>\n",
       "    <tr>\n",
       "      <th>3</th>\n",
       "      <td>2008-12-21 00:00:00</td>\n",
       "      <td>10205</td>\n",
       "      <td>2</td>\n",
       "    </tr>\n",
       "    <tr>\n",
       "      <th>4</th>\n",
       "      <td>2009-01-11 00:00:00</td>\n",
       "      <td>8371</td>\n",
       "      <td>3</td>\n",
       "    </tr>\n",
       "  </tbody>\n",
       "</table>\n",
       "</div>"
      ],
      "text/plain": [
       "                  date  opponent_team_id  barca_goals\n",
       "0  2008-08-31 00:00:00              8388            0\n",
       "1  2008-11-16 00:00:00              8479            2\n",
       "2  2008-11-29 00:00:00              8302            3\n",
       "3  2008-12-21 00:00:00             10205            2\n",
       "4  2009-01-11 00:00:00              8371            3"
      ]
     },
     "execution_count": 5,
     "metadata": {},
     "output_type": "execute_result"
    }
   ],
   "source": [
    "# return the home matches of FC Barcelona\n",
    "away_matches_df = pd.read_sql_query(\"SELECT \" + str(away_select_clause) +\" from match where \" + str(away_where_clause), database)\n",
    "away_matches_df.head()"
   ]
  },
  {
   "cell_type": "markdown",
   "metadata": {},
   "source": [
    "# Set the home_away attribute\n",
    "Set the home_away attribute for the home and away dataframes where the home dataframe gets a value of 0 and the away dataframe gets a value of 1"
   ]
  },
  {
   "cell_type": "code",
   "execution_count": 6,
   "metadata": {},
   "outputs": [
    {
     "data": {
      "text/html": [
       "<div>\n",
       "<style scoped>\n",
       "    .dataframe tbody tr th:only-of-type {\n",
       "        vertical-align: middle;\n",
       "    }\n",
       "\n",
       "    .dataframe tbody tr th {\n",
       "        vertical-align: top;\n",
       "    }\n",
       "\n",
       "    .dataframe thead th {\n",
       "        text-align: right;\n",
       "    }\n",
       "</style>\n",
       "<table border=\"1\" class=\"dataframe\">\n",
       "  <thead>\n",
       "    <tr style=\"text-align: right;\">\n",
       "      <th></th>\n",
       "      <th>date</th>\n",
       "      <th>opponent_team_id</th>\n",
       "      <th>barca_goals</th>\n",
       "      <th>home_away</th>\n",
       "    </tr>\n",
       "  </thead>\n",
       "  <tbody>\n",
       "    <tr>\n",
       "      <th>0</th>\n",
       "      <td>2008-11-08 00:00:00</td>\n",
       "      <td>10281</td>\n",
       "      <td>6</td>\n",
       "      <td>0</td>\n",
       "    </tr>\n",
       "    <tr>\n",
       "      <th>1</th>\n",
       "      <td>2008-11-23 00:00:00</td>\n",
       "      <td>8305</td>\n",
       "      <td>1</td>\n",
       "      <td>0</td>\n",
       "    </tr>\n",
       "    <tr>\n",
       "      <th>2</th>\n",
       "      <td>2008-12-06 00:00:00</td>\n",
       "      <td>10267</td>\n",
       "      <td>4</td>\n",
       "      <td>0</td>\n",
       "    </tr>\n",
       "    <tr>\n",
       "      <th>3</th>\n",
       "      <td>2008-12-13 00:00:00</td>\n",
       "      <td>8633</td>\n",
       "      <td>2</td>\n",
       "      <td>0</td>\n",
       "    </tr>\n",
       "    <tr>\n",
       "      <th>4</th>\n",
       "      <td>2009-01-03 00:00:00</td>\n",
       "      <td>8661</td>\n",
       "      <td>3</td>\n",
       "      <td>0</td>\n",
       "    </tr>\n",
       "  </tbody>\n",
       "</table>\n",
       "</div>"
      ],
      "text/plain": [
       "                  date  opponent_team_id  barca_goals  home_away\n",
       "0  2008-11-08 00:00:00             10281            6          0\n",
       "1  2008-11-23 00:00:00              8305            1          0\n",
       "2  2008-12-06 00:00:00             10267            4          0\n",
       "3  2008-12-13 00:00:00              8633            2          0\n",
       "4  2009-01-03 00:00:00              8661            3          0"
      ]
     },
     "execution_count": 6,
     "metadata": {},
     "output_type": "execute_result"
    }
   ],
   "source": [
    "# Create a new attribute named home_away where 0 is home and 1 is away and apply it on our two data frames\n",
    "home_matches_df['home_away'] = 0\n",
    "home_matches_df.head()"
   ]
  },
  {
   "cell_type": "code",
   "execution_count": 7,
   "metadata": {},
   "outputs": [
    {
     "data": {
      "text/html": [
       "<div>\n",
       "<style scoped>\n",
       "    .dataframe tbody tr th:only-of-type {\n",
       "        vertical-align: middle;\n",
       "    }\n",
       "\n",
       "    .dataframe tbody tr th {\n",
       "        vertical-align: top;\n",
       "    }\n",
       "\n",
       "    .dataframe thead th {\n",
       "        text-align: right;\n",
       "    }\n",
       "</style>\n",
       "<table border=\"1\" class=\"dataframe\">\n",
       "  <thead>\n",
       "    <tr style=\"text-align: right;\">\n",
       "      <th></th>\n",
       "      <th>date</th>\n",
       "      <th>opponent_team_id</th>\n",
       "      <th>barca_goals</th>\n",
       "      <th>home_away</th>\n",
       "    </tr>\n",
       "  </thead>\n",
       "  <tbody>\n",
       "    <tr>\n",
       "      <th>0</th>\n",
       "      <td>2008-08-31 00:00:00</td>\n",
       "      <td>8388</td>\n",
       "      <td>0</td>\n",
       "      <td>1</td>\n",
       "    </tr>\n",
       "    <tr>\n",
       "      <th>1</th>\n",
       "      <td>2008-11-16 00:00:00</td>\n",
       "      <td>8479</td>\n",
       "      <td>2</td>\n",
       "      <td>1</td>\n",
       "    </tr>\n",
       "    <tr>\n",
       "      <th>2</th>\n",
       "      <td>2008-11-29 00:00:00</td>\n",
       "      <td>8302</td>\n",
       "      <td>3</td>\n",
       "      <td>1</td>\n",
       "    </tr>\n",
       "    <tr>\n",
       "      <th>3</th>\n",
       "      <td>2008-12-21 00:00:00</td>\n",
       "      <td>10205</td>\n",
       "      <td>2</td>\n",
       "      <td>1</td>\n",
       "    </tr>\n",
       "    <tr>\n",
       "      <th>4</th>\n",
       "      <td>2009-01-11 00:00:00</td>\n",
       "      <td>8371</td>\n",
       "      <td>3</td>\n",
       "      <td>1</td>\n",
       "    </tr>\n",
       "  </tbody>\n",
       "</table>\n",
       "</div>"
      ],
      "text/plain": [
       "                  date  opponent_team_id  barca_goals  home_away\n",
       "0  2008-08-31 00:00:00              8388            0          1\n",
       "1  2008-11-16 00:00:00              8479            2          1\n",
       "2  2008-11-29 00:00:00              8302            3          1\n",
       "3  2008-12-21 00:00:00             10205            2          1\n",
       "4  2009-01-11 00:00:00              8371            3          1"
      ]
     },
     "execution_count": 7,
     "metadata": {},
     "output_type": "execute_result"
    }
   ],
   "source": [
    "away_matches_df['home_away'] = 1\n",
    "away_matches_df.head()"
   ]
  },
  {
   "cell_type": "markdown",
   "metadata": {},
   "source": [
    "# Get minimum year in the dataset\n",
    "\n",
    "In order to reach the desired form of data we need to get the minimum year in the dataset so that we can use it to manipulate the date attribute as described above. We are going to do that by returning all the dates from the dataset. We will then manipulate the it by getting the year only from date attribute. The date attribute is in the following form yyyy-mm-dd hh:mm:ss so we are going to extract the year by getting the first integer in the date attribute which is the yyyy. Then we are going to convert the string to a float and then to an integer. After we obtain the years in an integer form we can then get the minimum year."
   ]
  },
  {
   "cell_type": "code",
   "execution_count": 8,
   "metadata": {},
   "outputs": [
    {
     "data": {
      "text/html": [
       "<div>\n",
       "<style scoped>\n",
       "    .dataframe tbody tr th:only-of-type {\n",
       "        vertical-align: middle;\n",
       "    }\n",
       "\n",
       "    .dataframe tbody tr th {\n",
       "        vertical-align: top;\n",
       "    }\n",
       "\n",
       "    .dataframe thead th {\n",
       "        text-align: right;\n",
       "    }\n",
       "</style>\n",
       "<table border=\"1\" class=\"dataframe\">\n",
       "  <thead>\n",
       "    <tr style=\"text-align: right;\">\n",
       "      <th></th>\n",
       "      <th>date</th>\n",
       "    </tr>\n",
       "  </thead>\n",
       "  <tbody>\n",
       "    <tr>\n",
       "      <th>0</th>\n",
       "      <td>2008-08-17 00:00:00</td>\n",
       "    </tr>\n",
       "    <tr>\n",
       "      <th>1</th>\n",
       "      <td>2008-08-16 00:00:00</td>\n",
       "    </tr>\n",
       "    <tr>\n",
       "      <th>2</th>\n",
       "      <td>2008-08-16 00:00:00</td>\n",
       "    </tr>\n",
       "    <tr>\n",
       "      <th>3</th>\n",
       "      <td>2008-08-17 00:00:00</td>\n",
       "    </tr>\n",
       "    <tr>\n",
       "      <th>4</th>\n",
       "      <td>2008-08-16 00:00:00</td>\n",
       "    </tr>\n",
       "  </tbody>\n",
       "</table>\n",
       "</div>"
      ],
      "text/plain": [
       "                  date\n",
       "0  2008-08-17 00:00:00\n",
       "1  2008-08-16 00:00:00\n",
       "2  2008-08-16 00:00:00\n",
       "3  2008-08-17 00:00:00\n",
       "4  2008-08-16 00:00:00"
      ]
     },
     "execution_count": 8,
     "metadata": {},
     "output_type": "execute_result"
    }
   ],
   "source": [
    "# Get all the dates from the database\n",
    "date_df = pd.read_sql_query(\"SELECT date from match\", database)\n",
    "date_df.head()"
   ]
  },
  {
   "cell_type": "code",
   "execution_count": 9,
   "metadata": {},
   "outputs": [
    {
     "data": {
      "text/html": [
       "<div>\n",
       "<style scoped>\n",
       "    .dataframe tbody tr th:only-of-type {\n",
       "        vertical-align: middle;\n",
       "    }\n",
       "\n",
       "    .dataframe tbody tr th {\n",
       "        vertical-align: top;\n",
       "    }\n",
       "\n",
       "    .dataframe thead th {\n",
       "        text-align: right;\n",
       "    }\n",
       "</style>\n",
       "<table border=\"1\" class=\"dataframe\">\n",
       "  <thead>\n",
       "    <tr style=\"text-align: right;\">\n",
       "      <th></th>\n",
       "      <th>date</th>\n",
       "    </tr>\n",
       "  </thead>\n",
       "  <tbody>\n",
       "    <tr>\n",
       "      <th>0</th>\n",
       "      <td>2008</td>\n",
       "    </tr>\n",
       "    <tr>\n",
       "      <th>1</th>\n",
       "      <td>2008</td>\n",
       "    </tr>\n",
       "    <tr>\n",
       "      <th>2</th>\n",
       "      <td>2008</td>\n",
       "    </tr>\n",
       "    <tr>\n",
       "      <th>3</th>\n",
       "      <td>2008</td>\n",
       "    </tr>\n",
       "    <tr>\n",
       "      <th>4</th>\n",
       "      <td>2008</td>\n",
       "    </tr>\n",
       "  </tbody>\n",
       "</table>\n",
       "</div>"
      ],
      "text/plain": [
       "   date\n",
       "0  2008\n",
       "1  2008\n",
       "2  2008\n",
       "3  2008\n",
       "4  2008"
      ]
     },
     "execution_count": 9,
     "metadata": {},
     "output_type": "execute_result"
    }
   ],
   "source": [
    "# Extracting the year from the date attribute\n",
    "date_df[\"date\"] = date_df[\"date\"].str.extract('(\\d+)', expand=False).astype(float).astype(int)\n",
    "date_df.head()"
   ]
  },
  {
   "cell_type": "code",
   "execution_count": 10,
   "metadata": {},
   "outputs": [
    {
     "data": {
      "text/plain": [
       "2008"
      ]
     },
     "execution_count": 10,
     "metadata": {},
     "output_type": "execute_result"
    }
   ],
   "source": [
    "# Obtaining the min year\n",
    "min_year = date_df[\"date\"].min()\n",
    "min_year"
   ]
  },
  {
   "cell_type": "markdown",
   "metadata": {},
   "source": [
    "# Manipulate date attribute\n",
    "\n",
    "After obtaining the min year, we can use it to manipulate the date attribute by subtracting every year by the min year obtained"
   ]
  },
  {
   "cell_type": "code",
   "execution_count": 11,
   "metadata": {},
   "outputs": [
    {
     "data": {
      "text/html": [
       "<div>\n",
       "<style scoped>\n",
       "    .dataframe tbody tr th:only-of-type {\n",
       "        vertical-align: middle;\n",
       "    }\n",
       "\n",
       "    .dataframe tbody tr th {\n",
       "        vertical-align: top;\n",
       "    }\n",
       "\n",
       "    .dataframe thead th {\n",
       "        text-align: right;\n",
       "    }\n",
       "</style>\n",
       "<table border=\"1\" class=\"dataframe\">\n",
       "  <thead>\n",
       "    <tr style=\"text-align: right;\">\n",
       "      <th></th>\n",
       "      <th>date</th>\n",
       "      <th>opponent_team_id</th>\n",
       "      <th>barca_goals</th>\n",
       "      <th>home_away</th>\n",
       "    </tr>\n",
       "  </thead>\n",
       "  <tbody>\n",
       "    <tr>\n",
       "      <th>0</th>\n",
       "      <td>0</td>\n",
       "      <td>10281</td>\n",
       "      <td>6</td>\n",
       "      <td>0</td>\n",
       "    </tr>\n",
       "    <tr>\n",
       "      <th>1</th>\n",
       "      <td>0</td>\n",
       "      <td>8305</td>\n",
       "      <td>1</td>\n",
       "      <td>0</td>\n",
       "    </tr>\n",
       "    <tr>\n",
       "      <th>2</th>\n",
       "      <td>0</td>\n",
       "      <td>10267</td>\n",
       "      <td>4</td>\n",
       "      <td>0</td>\n",
       "    </tr>\n",
       "    <tr>\n",
       "      <th>3</th>\n",
       "      <td>0</td>\n",
       "      <td>8633</td>\n",
       "      <td>2</td>\n",
       "      <td>0</td>\n",
       "    </tr>\n",
       "    <tr>\n",
       "      <th>4</th>\n",
       "      <td>1</td>\n",
       "      <td>8661</td>\n",
       "      <td>3</td>\n",
       "      <td>0</td>\n",
       "    </tr>\n",
       "  </tbody>\n",
       "</table>\n",
       "</div>"
      ],
      "text/plain": [
       "   date  opponent_team_id  barca_goals  home_away\n",
       "0     0             10281            6          0\n",
       "1     0              8305            1          0\n",
       "2     0             10267            4          0\n",
       "3     0              8633            2          0\n",
       "4     1              8661            3          0"
      ]
     },
     "execution_count": 11,
     "metadata": {},
     "output_type": "execute_result"
    }
   ],
   "source": [
    "# maniuplate the date attribute\n",
    "home_matches_df[\"date\"] = home_matches_df[\"date\"].str.extract('(\\d+)', expand=False).astype(float).astype(int) - min_year\n",
    "away_matches_df[\"date\"] = away_matches_df[\"date\"].str.extract('(\\d+)', expand=False).astype(float).astype(int) - min_year\n",
    "\n",
    "home_matches_df.head()"
   ]
  },
  {
   "cell_type": "markdown",
   "metadata": {},
   "source": [
    "# Concatenate home and away matches"
   ]
  },
  {
   "cell_type": "code",
   "execution_count": 12,
   "metadata": {},
   "outputs": [
    {
     "data": {
      "text/html": [
       "<div>\n",
       "<style scoped>\n",
       "    .dataframe tbody tr th:only-of-type {\n",
       "        vertical-align: middle;\n",
       "    }\n",
       "\n",
       "    .dataframe tbody tr th {\n",
       "        vertical-align: top;\n",
       "    }\n",
       "\n",
       "    .dataframe thead th {\n",
       "        text-align: right;\n",
       "    }\n",
       "</style>\n",
       "<table border=\"1\" class=\"dataframe\">\n",
       "  <thead>\n",
       "    <tr style=\"text-align: right;\">\n",
       "      <th></th>\n",
       "      <th>date</th>\n",
       "      <th>opponent_team_id</th>\n",
       "      <th>barca_goals</th>\n",
       "      <th>home_away</th>\n",
       "    </tr>\n",
       "  </thead>\n",
       "  <tbody>\n",
       "    <tr>\n",
       "      <th>0</th>\n",
       "      <td>0</td>\n",
       "      <td>10281</td>\n",
       "      <td>6</td>\n",
       "      <td>0</td>\n",
       "    </tr>\n",
       "    <tr>\n",
       "      <th>1</th>\n",
       "      <td>0</td>\n",
       "      <td>8305</td>\n",
       "      <td>1</td>\n",
       "      <td>0</td>\n",
       "    </tr>\n",
       "    <tr>\n",
       "      <th>2</th>\n",
       "      <td>0</td>\n",
       "      <td>10267</td>\n",
       "      <td>4</td>\n",
       "      <td>0</td>\n",
       "    </tr>\n",
       "    <tr>\n",
       "      <th>3</th>\n",
       "      <td>0</td>\n",
       "      <td>8633</td>\n",
       "      <td>2</td>\n",
       "      <td>0</td>\n",
       "    </tr>\n",
       "    <tr>\n",
       "      <th>4</th>\n",
       "      <td>1</td>\n",
       "      <td>8661</td>\n",
       "      <td>3</td>\n",
       "      <td>0</td>\n",
       "    </tr>\n",
       "    <tr>\n",
       "      <th>...</th>\n",
       "      <td>...</td>\n",
       "      <td>...</td>\n",
       "      <td>...</td>\n",
       "      <td>...</td>\n",
       "    </tr>\n",
       "    <tr>\n",
       "      <th>147</th>\n",
       "      <td>8</td>\n",
       "      <td>9783</td>\n",
       "      <td>8</td>\n",
       "      <td>1</td>\n",
       "    </tr>\n",
       "    <tr>\n",
       "      <th>148</th>\n",
       "      <td>8</td>\n",
       "      <td>8603</td>\n",
       "      <td>2</td>\n",
       "      <td>1</td>\n",
       "    </tr>\n",
       "    <tr>\n",
       "      <th>149</th>\n",
       "      <td>8</td>\n",
       "      <td>7878</td>\n",
       "      <td>3</td>\n",
       "      <td>1</td>\n",
       "    </tr>\n",
       "    <tr>\n",
       "      <th>150</th>\n",
       "      <td>7</td>\n",
       "      <td>9910</td>\n",
       "      <td>1</td>\n",
       "      <td>1</td>\n",
       "    </tr>\n",
       "    <tr>\n",
       "      <th>151</th>\n",
       "      <td>7</td>\n",
       "      <td>8302</td>\n",
       "      <td>1</td>\n",
       "      <td>1</td>\n",
       "    </tr>\n",
       "  </tbody>\n",
       "</table>\n",
       "<p>304 rows × 4 columns</p>\n",
       "</div>"
      ],
      "text/plain": [
       "     date  opponent_team_id  barca_goals  home_away\n",
       "0       0             10281            6          0\n",
       "1       0              8305            1          0\n",
       "2       0             10267            4          0\n",
       "3       0              8633            2          0\n",
       "4       1              8661            3          0\n",
       "..    ...               ...          ...        ...\n",
       "147     8              9783            8          1\n",
       "148     8              8603            2          1\n",
       "149     8              7878            3          1\n",
       "150     7              9910            1          1\n",
       "151     7              8302            1          1\n",
       "\n",
       "[304 rows x 4 columns]"
      ]
     },
     "execution_count": 12,
     "metadata": {},
     "output_type": "execute_result"
    }
   ],
   "source": [
    "# Concatenate home and away matches\n",
    "all_matches_df = pd.concat([home_matches_df, away_matches_df])\n",
    "\n",
    "all_matches_df"
   ]
  },
  {
   "cell_type": "code",
   "execution_count": null,
   "metadata": {},
   "outputs": [],
   "source": []
  }
 ],
 "metadata": {
  "kernelspec": {
   "display_name": "Python 3",
   "language": "python",
   "name": "python3"
  },
  "language_info": {
   "codemirror_mode": {
    "name": "ipython",
    "version": 3
   },
   "file_extension": ".py",
   "mimetype": "text/x-python",
   "name": "python",
   "nbconvert_exporter": "python",
   "pygments_lexer": "ipython3",
   "version": "3.7.4"
  }
 },
 "nbformat": 4,
 "nbformat_minor": 2
}
